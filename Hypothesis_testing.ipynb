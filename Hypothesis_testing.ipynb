{
 "cells": [
  {
   "cell_type": "code",
   "execution_count": 1,
   "id": "53e7944b-ace8-4c1f-8325-0914bf05d727",
   "metadata": {},
   "outputs": [],
   "source": [
    "import pandas as pd\n",
    "import numpy as np\n",
    "import scipy.stats as st"
   ]
  },
  {
   "cell_type": "code",
   "execution_count": 169,
   "id": "f2386b59-b303-4d96-bdab-c60c3e0fed13",
   "metadata": {},
   "outputs": [],
   "source": [
    "path = 'data/ht_brooklyn_studio.csv'\n",
    "with open(path) as f:\n",
    "    brooklyn_studio = pd.read_csv(f)"
   ]
  },
  {
   "cell_type": "code",
   "execution_count": null,
   "id": "9af31981-c5f9-4772-98e5-9385b9d52b3c",
   "metadata": {},
   "outputs": [],
   "source": [
    "path = 'data/all_join.csv'\n",
    "with open(path) as f:\n",
    "    all_data = pd.read_csv(f)\n",
    "    \n",
    "all_data.columns = ['neighborhood', 'id', 'borough', 'type', 'lat', 'long', 'studio_2020',\n",
    "                    'br_1_2020', 'br_2_2020', 'br_3_2020', 'studio_2021', 'br_1_2021', 'br_2_2021']"
   ]
  },
  {
   "cell_type": "markdown",
   "id": "f01ce234-64d2-453c-b919-b38870855a08",
   "metadata": {},
   "source": [
    "# Hypothsis Test 1:\n",
    "- H0: Rental prices of studio apartments in brooklyn from 2020 to 2021 remained constant\n",
    "- Ha: Rental prices of studio apartments in brooklyn were greater in 2020 than in 2021"
   ]
  },
  {
   "cell_type": "code",
   "execution_count": 127,
   "id": "67097da5-c81d-4b5f-bfb7-37e1c56a7f0b",
   "metadata": {},
   "outputs": [],
   "source": [
    "brooklyn = all_data[all_data.borough=='Brooklyn']"
   ]
  },
  {
   "cell_type": "code",
   "execution_count": null,
   "id": "0323b2a4-a510-4897-ae65-b6b8745ec54d",
   "metadata": {},
   "outputs": [],
   "source": []
  },
  {
   "cell_type": "code",
   "execution_count": 170,
   "id": "c662a7f3-b73a-4a67-aa12-2b5d1020cc70",
   "metadata": {},
   "outputs": [
    {
     "data": {
      "text/html": [
       "<div>\n",
       "<style scoped>\n",
       "    .dataframe tbody tr th:only-of-type {\n",
       "        vertical-align: middle;\n",
       "    }\n",
       "\n",
       "    .dataframe tbody tr th {\n",
       "        vertical-align: top;\n",
       "    }\n",
       "\n",
       "    .dataframe thead th {\n",
       "        text-align: right;\n",
       "    }\n",
       "</style>\n",
       "<table border=\"1\" class=\"dataframe\">\n",
       "  <thead>\n",
       "    <tr style=\"text-align: right;\">\n",
       "      <th></th>\n",
       "      <th>neighborhood</th>\n",
       "      <th>id</th>\n",
       "      <th>borough</th>\n",
       "      <th>type</th>\n",
       "      <th>lat</th>\n",
       "      <th>long</th>\n",
       "      <th>studio</th>\n",
       "      <th>year</th>\n",
       "    </tr>\n",
       "  </thead>\n",
       "  <tbody>\n",
       "    <tr>\n",
       "      <th>0</th>\n",
       "      <td>Bedford Stuyvesant</td>\n",
       "      <td>nyu_2451_34572.64</td>\n",
       "      <td>Brooklyn</td>\n",
       "      <td>Point</td>\n",
       "      <td>40.687232</td>\n",
       "      <td>-73.941785</td>\n",
       "      <td>2044</td>\n",
       "      <td>2020</td>\n",
       "    </tr>\n",
       "    <tr>\n",
       "      <th>1</th>\n",
       "      <td>Boerum Hill</td>\n",
       "      <td>nyu_2451_34572.88</td>\n",
       "      <td>Brooklyn</td>\n",
       "      <td>Point</td>\n",
       "      <td>40.685683</td>\n",
       "      <td>-73.983748</td>\n",
       "      <td>2092</td>\n",
       "      <td>2020</td>\n",
       "    </tr>\n",
       "    <tr>\n",
       "      <th>2</th>\n",
       "      <td>Brooklyn Heights</td>\n",
       "      <td>nyu_2451_34572.65</td>\n",
       "      <td>Brooklyn</td>\n",
       "      <td>Point</td>\n",
       "      <td>40.695864</td>\n",
       "      <td>-73.993782</td>\n",
       "      <td>2509</td>\n",
       "      <td>2020</td>\n",
       "    </tr>\n",
       "    <tr>\n",
       "      <th>3</th>\n",
       "      <td>Bushwick</td>\n",
       "      <td>nyu_2451_34572.63</td>\n",
       "      <td>Brooklyn</td>\n",
       "      <td>Point</td>\n",
       "      <td>40.698116</td>\n",
       "      <td>-73.925258</td>\n",
       "      <td>2050</td>\n",
       "      <td>2020</td>\n",
       "    </tr>\n",
       "    <tr>\n",
       "      <th>4</th>\n",
       "      <td>Carroll Gardens</td>\n",
       "      <td>nyu_2451_34572.67</td>\n",
       "      <td>Brooklyn</td>\n",
       "      <td>Point</td>\n",
       "      <td>40.680540</td>\n",
       "      <td>-73.994654</td>\n",
       "      <td>2271</td>\n",
       "      <td>2020</td>\n",
       "    </tr>\n",
       "  </tbody>\n",
       "</table>\n",
       "</div>"
      ],
      "text/plain": [
       "         neighborhood                 id   borough   type        lat  \\\n",
       "0  Bedford Stuyvesant  nyu_2451_34572.64  Brooklyn  Point  40.687232   \n",
       "1         Boerum Hill  nyu_2451_34572.88  Brooklyn  Point  40.685683   \n",
       "2    Brooklyn Heights  nyu_2451_34572.65  Brooklyn  Point  40.695864   \n",
       "3            Bushwick  nyu_2451_34572.63  Brooklyn  Point  40.698116   \n",
       "4     Carroll Gardens  nyu_2451_34572.67  Brooklyn  Point  40.680540   \n",
       "\n",
       "        long  studio  year  \n",
       "0 -73.941785    2044  2020  \n",
       "1 -73.983748    2092  2020  \n",
       "2 -73.993782    2509  2020  \n",
       "3 -73.925258    2050  2020  \n",
       "4 -73.994654    2271  2020  "
      ]
     },
     "execution_count": 170,
     "metadata": {},
     "output_type": "execute_result"
    }
   ],
   "source": [
    "brooklyn_studio.columns = ['neighborhood', 'id', 'borough', 'type', 'lat', 'long', 'studio', 'year']\n",
    "brooklyn_studio.head()"
   ]
  },
  {
   "cell_type": "code",
   "execution_count": null,
   "id": "5c8c6813-2eeb-4530-94c9-b75bfe5f9160",
   "metadata": {},
   "outputs": [],
   "source": []
  },
  {
   "cell_type": "code",
   "execution_count": 111,
   "id": "ef1d9d5f-7cc8-42dd-b4cc-1a541455183e",
   "metadata": {
    "tags": []
   },
   "outputs": [
    {
     "name": "stdout",
     "output_type": "stream",
     "text": [
      "19 19\n"
     ]
    }
   ],
   "source": [
    "# matching pairs\n",
    "brooklyn_studio_2020 = brooklyn_studio[brooklyn_studio['year']==2020]\n",
    "brooklyn_studio_2021 = brooklyn_studio[brooklyn_studio['year']==2021]\n",
    "print(len(brooklyn_studio_2020), len(brooklyn_studio_2021))"
   ]
  },
  {
   "cell_type": "code",
   "execution_count": 149,
   "id": "d4ad3b0c-c2f2-46d1-81b8-7c324594043c",
   "metadata": {},
   "outputs": [
    {
     "name": "stderr",
     "output_type": "stream",
     "text": [
      "C:\\Users\\micha\\AppData\\Local\\Temp/ipykernel_4268/2637120967.py:2: UserWarning: Boolean Series key will be reindexed to match DataFrame index.\n",
      "  brooklyn_studio = brooklyn_studio_2020[~brooklyn['studio_2021'].isna()]\n"
     ]
    }
   ],
   "source": [
    "brooklyn_studio_2020 = brooklyn[~brooklyn['studio_2020'].isna()]\n",
    "brooklyn_studio = brooklyn_studio_2020[~brooklyn['studio_2021'].isna()]"
   ]
  },
  {
   "cell_type": "code",
   "execution_count": 150,
   "id": "f4b2e050-8ee3-461c-be07-ca0115796b4c",
   "metadata": {},
   "outputs": [
    {
     "data": {
      "text/plain": [
       "21"
      ]
     },
     "execution_count": 150,
     "metadata": {},
     "output_type": "execute_result"
    }
   ],
   "source": [
    "len(brooklyn_studio_2020)"
   ]
  },
  {
   "cell_type": "code",
   "execution_count": null,
   "id": "d2c5d117-e0dd-4755-b020-f1c085b5612e",
   "metadata": {},
   "outputs": [],
   "source": []
  },
  {
   "cell_type": "code",
   "execution_count": null,
   "id": "173e8399-4d0d-4630-a272-9b5d518ebffd",
   "metadata": {},
   "outputs": [],
   "source": []
  },
  {
   "cell_type": "code",
   "execution_count": 167,
   "id": "7e54e265-dcf3-4ddb-ae60-17dc5ea81ce0",
   "metadata": {
    "tags": []
   },
   "outputs": [],
   "source": [
    "# all data\n",
    "brooklyn_studio_2020 = brooklyn[~brooklyn['studio_2020'].isna()]['studio_2020']\n",
    "brooklyn_studio_2020 = pd.DataFrame(brooklyn_studio_2020)\n",
    "brooklyn_studio_2021 = brooklyn[~brooklyn['studio_2021'].isna()]['studio_2021']\n",
    "brooklyn_studio_2021 = pd.DataFrame(brooklyn_studio_2021)\n",
    "brooklyn_studio_merge = brooklyn_studio_2020.merge(brooklyn_studio_2021, how ='inner',\n",
    "                                                   left_on=brooklyn_studio_2020.index, \n",
    "                                                   right_on=brooklyn_studio_2021.index)"
   ]
  },
  {
   "cell_type": "code",
   "execution_count": 168,
   "id": "6677a6af-b652-4f37-8768-39a1fef9cfc0",
   "metadata": {},
   "outputs": [
    {
     "data": {
      "text/html": [
       "<div>\n",
       "<style scoped>\n",
       "    .dataframe tbody tr th:only-of-type {\n",
       "        vertical-align: middle;\n",
       "    }\n",
       "\n",
       "    .dataframe tbody tr th {\n",
       "        vertical-align: top;\n",
       "    }\n",
       "\n",
       "    .dataframe thead th {\n",
       "        text-align: right;\n",
       "    }\n",
       "</style>\n",
       "<table border=\"1\" class=\"dataframe\">\n",
       "  <thead>\n",
       "    <tr style=\"text-align: right;\">\n",
       "      <th></th>\n",
       "      <th>key_0</th>\n",
       "      <th>studio_2020</th>\n",
       "      <th>studio_2021</th>\n",
       "    </tr>\n",
       "  </thead>\n",
       "  <tbody>\n",
       "    <tr>\n",
       "      <th>0</th>\n",
       "      <td>18</td>\n",
       "      <td>2044.0</td>\n",
       "      <td>1650.0</td>\n",
       "    </tr>\n",
       "    <tr>\n",
       "      <th>1</th>\n",
       "      <td>29</td>\n",
       "      <td>2092.0</td>\n",
       "      <td>2446.0</td>\n",
       "    </tr>\n",
       "    <tr>\n",
       "      <th>2</th>\n",
       "      <td>39</td>\n",
       "      <td>2509.0</td>\n",
       "      <td>1850.0</td>\n",
       "    </tr>\n",
       "    <tr>\n",
       "      <th>3</th>\n",
       "      <td>44</td>\n",
       "      <td>2050.0</td>\n",
       "      <td>1731.0</td>\n",
       "    </tr>\n",
       "    <tr>\n",
       "      <th>4</th>\n",
       "      <td>49</td>\n",
       "      <td>2271.0</td>\n",
       "      <td>2175.0</td>\n",
       "    </tr>\n",
       "    <tr>\n",
       "      <th>5</th>\n",
       "      <td>66</td>\n",
       "      <td>2409.0</td>\n",
       "      <td>1800.0</td>\n",
       "    </tr>\n",
       "    <tr>\n",
       "      <th>6</th>\n",
       "      <td>67</td>\n",
       "      <td>2100.0</td>\n",
       "      <td>1457.0</td>\n",
       "    </tr>\n",
       "    <tr>\n",
       "      <th>7</th>\n",
       "      <td>77</td>\n",
       "      <td>1806.0</td>\n",
       "      <td>1945.0</td>\n",
       "    </tr>\n",
       "    <tr>\n",
       "      <th>8</th>\n",
       "      <td>82</td>\n",
       "      <td>2443.0</td>\n",
       "      <td>2546.0</td>\n",
       "    </tr>\n",
       "    <tr>\n",
       "      <th>9</th>\n",
       "      <td>83</td>\n",
       "      <td>3189.0</td>\n",
       "      <td>2300.0</td>\n",
       "    </tr>\n",
       "    <tr>\n",
       "      <th>10</th>\n",
       "      <td>113</td>\n",
       "      <td>2957.0</td>\n",
       "      <td>947.0</td>\n",
       "    </tr>\n",
       "    <tr>\n",
       "      <th>11</th>\n",
       "      <td>124</td>\n",
       "      <td>2293.0</td>\n",
       "      <td>2400.0</td>\n",
       "    </tr>\n",
       "    <tr>\n",
       "      <th>12</th>\n",
       "      <td>131</td>\n",
       "      <td>2347.0</td>\n",
       "      <td>2300.0</td>\n",
       "    </tr>\n",
       "    <tr>\n",
       "      <th>13</th>\n",
       "      <td>157</td>\n",
       "      <td>1724.0</td>\n",
       "      <td>1450.0</td>\n",
       "    </tr>\n",
       "    <tr>\n",
       "      <th>14</th>\n",
       "      <td>225</td>\n",
       "      <td>2795.0</td>\n",
       "      <td>2500.0</td>\n",
       "    </tr>\n",
       "    <tr>\n",
       "      <th>15</th>\n",
       "      <td>237</td>\n",
       "      <td>2393.0</td>\n",
       "      <td>1850.0</td>\n",
       "    </tr>\n",
       "    <tr>\n",
       "      <th>16</th>\n",
       "      <td>288</td>\n",
       "      <td>1400.0</td>\n",
       "      <td>2423.0</td>\n",
       "    </tr>\n",
       "    <tr>\n",
       "      <th>17</th>\n",
       "      <td>318</td>\n",
       "      <td>2712.0</td>\n",
       "      <td>1900.0</td>\n",
       "    </tr>\n",
       "    <tr>\n",
       "      <th>18</th>\n",
       "      <td>320</td>\n",
       "      <td>1939.0</td>\n",
       "      <td>1627.0</td>\n",
       "    </tr>\n",
       "  </tbody>\n",
       "</table>\n",
       "</div>"
      ],
      "text/plain": [
       "    key_0  studio_2020  studio_2021\n",
       "0      18       2044.0       1650.0\n",
       "1      29       2092.0       2446.0\n",
       "2      39       2509.0       1850.0\n",
       "3      44       2050.0       1731.0\n",
       "4      49       2271.0       2175.0\n",
       "5      66       2409.0       1800.0\n",
       "6      67       2100.0       1457.0\n",
       "7      77       1806.0       1945.0\n",
       "8      82       2443.0       2546.0\n",
       "9      83       3189.0       2300.0\n",
       "10    113       2957.0        947.0\n",
       "11    124       2293.0       2400.0\n",
       "12    131       2347.0       2300.0\n",
       "13    157       1724.0       1450.0\n",
       "14    225       2795.0       2500.0\n",
       "15    237       2393.0       1850.0\n",
       "16    288       1400.0       2423.0\n",
       "17    318       2712.0       1900.0\n",
       "18    320       1939.0       1627.0"
      ]
     },
     "execution_count": 168,
     "metadata": {},
     "output_type": "execute_result"
    }
   ],
   "source": [
    "brooklyn_studio_merge"
   ]
  },
  {
   "cell_type": "code",
   "execution_count": 156,
   "id": "eca4989f-7c99-4e0e-a9a2-7fcdf935be57",
   "metadata": {
    "tags": []
   },
   "outputs": [
    {
     "data": {
      "text/html": [
       "<div>\n",
       "<style scoped>\n",
       "    .dataframe tbody tr th:only-of-type {\n",
       "        vertical-align: middle;\n",
       "    }\n",
       "\n",
       "    .dataframe tbody tr th {\n",
       "        vertical-align: top;\n",
       "    }\n",
       "\n",
       "    .dataframe thead th {\n",
       "        text-align: right;\n",
       "    }\n",
       "</style>\n",
       "<table border=\"1\" class=\"dataframe\">\n",
       "  <thead>\n",
       "    <tr style=\"text-align: right;\">\n",
       "      <th></th>\n",
       "      <th>studio_2020</th>\n",
       "    </tr>\n",
       "  </thead>\n",
       "  <tbody>\n",
       "    <tr>\n",
       "      <th>0</th>\n",
       "      <td>2044.0</td>\n",
       "    </tr>\n",
       "    <tr>\n",
       "      <th>1</th>\n",
       "      <td>2092.0</td>\n",
       "    </tr>\n",
       "    <tr>\n",
       "      <th>2</th>\n",
       "      <td>2509.0</td>\n",
       "    </tr>\n",
       "    <tr>\n",
       "      <th>3</th>\n",
       "      <td>2050.0</td>\n",
       "    </tr>\n",
       "    <tr>\n",
       "      <th>4</th>\n",
       "      <td>2271.0</td>\n",
       "    </tr>\n",
       "    <tr>\n",
       "      <th>5</th>\n",
       "      <td>2409.0</td>\n",
       "    </tr>\n",
       "    <tr>\n",
       "      <th>6</th>\n",
       "      <td>2100.0</td>\n",
       "    </tr>\n",
       "    <tr>\n",
       "      <th>7</th>\n",
       "      <td>1806.0</td>\n",
       "    </tr>\n",
       "    <tr>\n",
       "      <th>8</th>\n",
       "      <td>2443.0</td>\n",
       "    </tr>\n",
       "    <tr>\n",
       "      <th>9</th>\n",
       "      <td>3189.0</td>\n",
       "    </tr>\n",
       "    <tr>\n",
       "      <th>10</th>\n",
       "      <td>2957.0</td>\n",
       "    </tr>\n",
       "    <tr>\n",
       "      <th>11</th>\n",
       "      <td>2293.0</td>\n",
       "    </tr>\n",
       "    <tr>\n",
       "      <th>12</th>\n",
       "      <td>2347.0</td>\n",
       "    </tr>\n",
       "    <tr>\n",
       "      <th>13</th>\n",
       "      <td>1724.0</td>\n",
       "    </tr>\n",
       "    <tr>\n",
       "      <th>14</th>\n",
       "      <td>2795.0</td>\n",
       "    </tr>\n",
       "    <tr>\n",
       "      <th>15</th>\n",
       "      <td>2393.0</td>\n",
       "    </tr>\n",
       "    <tr>\n",
       "      <th>16</th>\n",
       "      <td>1933.0</td>\n",
       "    </tr>\n",
       "    <tr>\n",
       "      <th>17</th>\n",
       "      <td>2400.0</td>\n",
       "    </tr>\n",
       "    <tr>\n",
       "      <th>18</th>\n",
       "      <td>1400.0</td>\n",
       "    </tr>\n",
       "    <tr>\n",
       "      <th>19</th>\n",
       "      <td>2712.0</td>\n",
       "    </tr>\n",
       "    <tr>\n",
       "      <th>20</th>\n",
       "      <td>1939.0</td>\n",
       "    </tr>\n",
       "  </tbody>\n",
       "</table>\n",
       "</div>"
      ],
      "text/plain": [
       "    studio_2020\n",
       "0        2044.0\n",
       "1        2092.0\n",
       "2        2509.0\n",
       "3        2050.0\n",
       "4        2271.0\n",
       "5        2409.0\n",
       "6        2100.0\n",
       "7        1806.0\n",
       "8        2443.0\n",
       "9        3189.0\n",
       "10       2957.0\n",
       "11       2293.0\n",
       "12       2347.0\n",
       "13       1724.0\n",
       "14       2795.0\n",
       "15       2393.0\n",
       "16       1933.0\n",
       "17       2400.0\n",
       "18       1400.0\n",
       "19       2712.0\n",
       "20       1939.0"
      ]
     },
     "execution_count": 156,
     "metadata": {},
     "output_type": "execute_result"
    }
   ],
   "source": [
    "brooklyn_studio_merge"
   ]
  },
  {
   "cell_type": "code",
   "execution_count": 133,
   "id": "9d2d67aa-bc27-41ed-ba0b-79a19edebdff",
   "metadata": {},
   "outputs": [],
   "source": [
    "df =  pd.DataFrame(brooklyn_studio_2020)"
   ]
  },
  {
   "cell_type": "code",
   "execution_count": 134,
   "id": "d2d605f6-a79f-461e-8722-57c02d458c46",
   "metadata": {},
   "outputs": [
    {
     "data": {
      "text/html": [
       "<div>\n",
       "<style scoped>\n",
       "    .dataframe tbody tr th:only-of-type {\n",
       "        vertical-align: middle;\n",
       "    }\n",
       "\n",
       "    .dataframe tbody tr th {\n",
       "        vertical-align: top;\n",
       "    }\n",
       "\n",
       "    .dataframe thead th {\n",
       "        text-align: right;\n",
       "    }\n",
       "</style>\n",
       "<table border=\"1\" class=\"dataframe\">\n",
       "  <thead>\n",
       "    <tr style=\"text-align: right;\">\n",
       "      <th></th>\n",
       "      <th>studio_2020</th>\n",
       "    </tr>\n",
       "  </thead>\n",
       "  <tbody>\n",
       "    <tr>\n",
       "      <th>18</th>\n",
       "      <td>2044.0</td>\n",
       "    </tr>\n",
       "    <tr>\n",
       "      <th>29</th>\n",
       "      <td>2092.0</td>\n",
       "    </tr>\n",
       "    <tr>\n",
       "      <th>39</th>\n",
       "      <td>2509.0</td>\n",
       "    </tr>\n",
       "    <tr>\n",
       "      <th>44</th>\n",
       "      <td>2050.0</td>\n",
       "    </tr>\n",
       "    <tr>\n",
       "      <th>49</th>\n",
       "      <td>2271.0</td>\n",
       "    </tr>\n",
       "    <tr>\n",
       "      <th>66</th>\n",
       "      <td>2409.0</td>\n",
       "    </tr>\n",
       "    <tr>\n",
       "      <th>67</th>\n",
       "      <td>2100.0</td>\n",
       "    </tr>\n",
       "    <tr>\n",
       "      <th>77</th>\n",
       "      <td>1806.0</td>\n",
       "    </tr>\n",
       "    <tr>\n",
       "      <th>82</th>\n",
       "      <td>2443.0</td>\n",
       "    </tr>\n",
       "    <tr>\n",
       "      <th>83</th>\n",
       "      <td>3189.0</td>\n",
       "    </tr>\n",
       "    <tr>\n",
       "      <th>113</th>\n",
       "      <td>2957.0</td>\n",
       "    </tr>\n",
       "    <tr>\n",
       "      <th>124</th>\n",
       "      <td>2293.0</td>\n",
       "    </tr>\n",
       "    <tr>\n",
       "      <th>131</th>\n",
       "      <td>2347.0</td>\n",
       "    </tr>\n",
       "    <tr>\n",
       "      <th>157</th>\n",
       "      <td>1724.0</td>\n",
       "    </tr>\n",
       "    <tr>\n",
       "      <th>225</th>\n",
       "      <td>2795.0</td>\n",
       "    </tr>\n",
       "    <tr>\n",
       "      <th>237</th>\n",
       "      <td>2393.0</td>\n",
       "    </tr>\n",
       "    <tr>\n",
       "      <th>238</th>\n",
       "      <td>1933.0</td>\n",
       "    </tr>\n",
       "    <tr>\n",
       "      <th>276</th>\n",
       "      <td>2400.0</td>\n",
       "    </tr>\n",
       "    <tr>\n",
       "      <th>288</th>\n",
       "      <td>1400.0</td>\n",
       "    </tr>\n",
       "    <tr>\n",
       "      <th>318</th>\n",
       "      <td>2712.0</td>\n",
       "    </tr>\n",
       "    <tr>\n",
       "      <th>320</th>\n",
       "      <td>1939.0</td>\n",
       "    </tr>\n",
       "  </tbody>\n",
       "</table>\n",
       "</div>"
      ],
      "text/plain": [
       "     studio_2020\n",
       "18        2044.0\n",
       "29        2092.0\n",
       "39        2509.0\n",
       "44        2050.0\n",
       "49        2271.0\n",
       "66        2409.0\n",
       "67        2100.0\n",
       "77        1806.0\n",
       "82        2443.0\n",
       "83        3189.0\n",
       "113       2957.0\n",
       "124       2293.0\n",
       "131       2347.0\n",
       "157       1724.0\n",
       "225       2795.0\n",
       "237       2393.0\n",
       "238       1933.0\n",
       "276       2400.0\n",
       "288       1400.0\n",
       "318       2712.0\n",
       "320       1939.0"
      ]
     },
     "execution_count": 134,
     "metadata": {},
     "output_type": "execute_result"
    }
   ],
   "source": [
    "df"
   ]
  },
  {
   "cell_type": "code",
   "execution_count": 125,
   "id": "57580b43-71f5-4afc-ae4c-068f8fc48126",
   "metadata": {},
   "outputs": [
    {
     "name": "stdout",
     "output_type": "stream",
     "text": [
      "21 43\n"
     ]
    }
   ],
   "source": [
    "print(len(brooklyn_studio_2020), len(brooklyn_studio_2021))"
   ]
  },
  {
   "cell_type": "code",
   "execution_count": 117,
   "id": "50dca22b-5046-4a41-b49f-ea1b5426b680",
   "metadata": {},
   "outputs": [
    {
     "data": {
      "text/html": [
       "<div>\n",
       "<style scoped>\n",
       "    .dataframe tbody tr th:only-of-type {\n",
       "        vertical-align: middle;\n",
       "    }\n",
       "\n",
       "    .dataframe tbody tr th {\n",
       "        vertical-align: top;\n",
       "    }\n",
       "\n",
       "    .dataframe thead th {\n",
       "        text-align: right;\n",
       "    }\n",
       "</style>\n",
       "<table border=\"1\" class=\"dataframe\">\n",
       "  <thead>\n",
       "    <tr style=\"text-align: right;\">\n",
       "      <th></th>\n",
       "      <th>studio_2020</th>\n",
       "      <th>studio_2021</th>\n",
       "    </tr>\n",
       "  </thead>\n",
       "  <tbody>\n",
       "    <tr>\n",
       "      <th>9</th>\n",
       "      <td>NaN</td>\n",
       "      <td>3000.0</td>\n",
       "    </tr>\n",
       "    <tr>\n",
       "      <th>11</th>\n",
       "      <td>NaN</td>\n",
       "      <td>2038.0</td>\n",
       "    </tr>\n",
       "    <tr>\n",
       "      <th>18</th>\n",
       "      <td>2044.0</td>\n",
       "      <td>1650.0</td>\n",
       "    </tr>\n",
       "    <tr>\n",
       "      <th>25</th>\n",
       "      <td>NaN</td>\n",
       "      <td>4200.0</td>\n",
       "    </tr>\n",
       "    <tr>\n",
       "      <th>26</th>\n",
       "      <td>NaN</td>\n",
       "      <td>NaN</td>\n",
       "    </tr>\n",
       "    <tr>\n",
       "      <th>...</th>\n",
       "      <td>...</td>\n",
       "      <td>...</td>\n",
       "    </tr>\n",
       "    <tr>\n",
       "      <th>307</th>\n",
       "      <td>NaN</td>\n",
       "      <td>1475.0</td>\n",
       "    </tr>\n",
       "    <tr>\n",
       "      <th>310</th>\n",
       "      <td>NaN</td>\n",
       "      <td>NaN</td>\n",
       "    </tr>\n",
       "    <tr>\n",
       "      <th>318</th>\n",
       "      <td>2712.0</td>\n",
       "      <td>1900.0</td>\n",
       "    </tr>\n",
       "    <tr>\n",
       "      <th>320</th>\n",
       "      <td>1939.0</td>\n",
       "      <td>1627.0</td>\n",
       "    </tr>\n",
       "    <tr>\n",
       "      <th>321</th>\n",
       "      <td>NaN</td>\n",
       "      <td>NaN</td>\n",
       "    </tr>\n",
       "  </tbody>\n",
       "</table>\n",
       "<p>74 rows × 2 columns</p>\n",
       "</div>"
      ],
      "text/plain": [
       "     studio_2020  studio_2021\n",
       "9            NaN       3000.0\n",
       "11           NaN       2038.0\n",
       "18        2044.0       1650.0\n",
       "25           NaN       4200.0\n",
       "26           NaN          NaN\n",
       "..           ...          ...\n",
       "307          NaN       1475.0\n",
       "310          NaN          NaN\n",
       "318       2712.0       1900.0\n",
       "320       1939.0       1627.0\n",
       "321          NaN          NaN\n",
       "\n",
       "[74 rows x 2 columns]"
      ]
     },
     "execution_count": 117,
     "metadata": {},
     "output_type": "execute_result"
    }
   ],
   "source": [
    "brooklyn_studio = brooklyn[['studio_2020', 'studio_2021']]\n",
    "brooklyn_studio"
   ]
  },
  {
   "cell_type": "code",
   "execution_count": 118,
   "id": "796cbf8f-07c1-44ba-a831-fc50a7955cae",
   "metadata": {
    "tags": []
   },
   "outputs": [],
   "source": [
    "brooklyn_studio_2020 = brooklyn[~brooklyn['studio_2020'].isna()]['studio_2020'].values\n",
    "brooklyn_studio_2021 = brooklyn[~brooklyn['studio_2021'].isna()]['studio_2021'].values"
   ]
  },
  {
   "cell_type": "code",
   "execution_count": 119,
   "id": "fce3072b-76b7-497a-ae74-f60222622083",
   "metadata": {},
   "outputs": [
    {
     "data": {
      "text/plain": [
       "array([2044., 2092., 2509., 2050., 2271., 2409., 2100., 1806., 2443.,\n",
       "       3189., 2957., 2293., 2347., 1724., 2795., 2393., 1933., 2400.,\n",
       "       1400., 2712., 1939.])"
      ]
     },
     "execution_count": 119,
     "metadata": {},
     "output_type": "execute_result"
    }
   ],
   "source": [
    "brooklyn_studio_2020"
   ]
  },
  {
   "cell_type": "code",
   "execution_count": 102,
   "id": "dd540e33-82f6-4046-854f-aaae6d246b65",
   "metadata": {},
   "outputs": [
    {
     "name": "stdout",
     "output_type": "stream",
     "text": [
      "2020 studio mean 2276\n",
      "2021 studio mean 2072\n"
     ]
    }
   ],
   "source": [
    "print(f'2020 studio mean {round(brooklyn_studio_2020.mean())}')\n",
    "print(f'2021 studio mean {round(brooklyn_studio_2021.mean())}')"
   ]
  },
  {
   "cell_type": "code",
   "execution_count": 106,
   "id": "ff3c3688-c126-4c0d-9979-76f56466f036",
   "metadata": {},
   "outputs": [
    {
     "name": "stdout",
     "output_type": "stream",
     "text": [
      "Test statistic is 2.295456\n",
      "p-value for two tailed test is 0.013820\n",
      "p-value 0.013819854489318493 is less than 0.05, therefore the the null hypothisis is rejected\n"
     ]
    }
   ],
   "source": [
    "t_value, p_value = st.ttest_ind(brooklyn_studio_2020['studio'], brooklyn_studio_2021['studio'], alternative='greater')\n",
    "alpha = 0.05\n",
    "print('Test statistic is %f'%float(\"{:.6f}\".format(t_value)))\n",
    "print('p-value for two tailed test is %f'%p_value)\n",
    "print((f'p-value {p_value} is greater than {alpha}, so the the null hypothisis is not rejected',\n",
    "      f'p-value {p_value} is less than {alpha}, therefore the the null hypothisis is rejected')[int(p_value < alpha)])"
   ]
  },
  {
   "cell_type": "code",
   "execution_count": null,
   "id": "1bdbf70d-9023-47ca-98a8-3bb0d0bb07f9",
   "metadata": {},
   "outputs": [],
   "source": []
  },
  {
   "cell_type": "code",
   "execution_count": 97,
   "id": "060d6c9d-38ba-4e9d-a5ee-c6eda6021ee2",
   "metadata": {
    "tags": []
   },
   "outputs": [],
   "source": []
  },
  {
   "cell_type": "code",
   "execution_count": 31,
   "id": "f821820b-59b2-4eb1-bd36-99223240a2d2",
   "metadata": {},
   "outputs": [],
   "source": []
  },
  {
   "cell_type": "markdown",
   "id": "a1540b55-e71b-4402-84a1-d4eae4d05847",
   "metadata": {},
   "source": [
    "# Hypothsis Test 2:\n",
    "\n",
    "- H0: Rental prices of 1 bedroom apartments in brooklyn from 2020 to 2021 remained constant\n",
    "- Ha: Rental prices of 1 bedroom apartments in brooklyn were greater in 2020 than in 2021"
   ]
  },
  {
   "cell_type": "code",
   "execution_count": 51,
   "id": "e7a330e2-e09f-47dc-808d-bbf8247a8b7d",
   "metadata": {},
   "outputs": [],
   "source": []
  },
  {
   "cell_type": "code",
   "execution_count": 66,
   "id": "c29a50ff-066c-4c56-99dc-2792c3281788",
   "metadata": {},
   "outputs": [],
   "source": [
    "brooklyn_br_1_2020 = brooklyn[~brooklyn['br_1_2020'].isna()]['br_1_2020'].values\n",
    "brooklyn_br_1_2021 = brooklyn[~brooklyn['br_1_2021'].isna()]['br_1_2021'].values"
   ]
  },
  {
   "cell_type": "code",
   "execution_count": 67,
   "id": "5e274c30-bf63-43b0-b57e-1e79fd0be095",
   "metadata": {},
   "outputs": [
    {
     "data": {
      "text/plain": [
       "array([1575., 1750., 1975., 1500., 1500., 2300., 1700., 1850., 2600.,\n",
       "       3395., 1650., 2150., 1500., 2400., 2300., 2400., 2250., 1850.,\n",
       "       1900., 3150., 3386., 1550., 1725., 1750., 1800., 1600., 2500.,\n",
       "       3350., 2000., 1600., 2400., 1900., 1675., 1775., 1590., 1650.,\n",
       "       1688., 1800., 2475., 2375., 2300., 2000., 1695., 1650., 1665.,\n",
       "       1725., 2400., 2500., 2196.])"
      ]
     },
     "execution_count": 67,
     "metadata": {},
     "output_type": "execute_result"
    }
   ],
   "source": [
    "brooklyn_br_1_2021"
   ]
  },
  {
   "cell_type": "code",
   "execution_count": 68,
   "id": "3e871c0c-ffdd-462f-9287-c0b63b41d3d1",
   "metadata": {},
   "outputs": [
    {
     "name": "stdout",
     "output_type": "stream",
     "text": [
      "Test statistic is 4.688023\n",
      "p-value for two tailed test is 0.000007\n",
      "p-value6.729285809013829e-06 is less than 0.05, therefore the the null hypothisis is rejected\n"
     ]
    }
   ],
   "source": [
    "t_value, p_value = st.ttest_ind(brooklyn_br_1_2020, brooklyn_br_1_2021, alternative='greater')\n",
    "alpha = 0.05\n",
    "print('Test statistic is %f'%float(\"{:.6f}\".format(t_value)))\n",
    "print('p-value for two tailed test is %f'%p_value)\n",
    "print((f'p-value {p_value} is greater than {alpha}, so the null hypothisis is not rejected',\n",
    "      f'p-value {p_value} is less than {alpha}, therefore the null hypothisis is rejected')[int(p_value < alpha)])"
   ]
  },
  {
   "cell_type": "markdown",
   "id": "a0ec8d7e-1578-461d-8afc-789ca9cf6e89",
   "metadata": {},
   "source": [
    "# Hypothsis test 3:\n",
    "\n",
    "- H0: Rental prices of 2 bedroom apartments in brooklyn from 2020 to 2021 remained constant\n",
    "- Ha: Rental prices of 2 bedroom apartments in brooklyn were greater in 2020 than in 2021"
   ]
  },
  {
   "cell_type": "code",
   "execution_count": 78,
   "id": "f8892c07-5568-46a3-b3a8-b48cd208bb11",
   "metadata": {},
   "outputs": [],
   "source": [
    "brooklyn_br_2_2020 = brooklyn[~brooklyn['br_2_2020'].isna()]['br_2_2020'].values\n",
    "brooklyn_br_2_2021 = brooklyn[~brooklyn['br_2_2021'].isna()]['br_2_2021'].values"
   ]
  },
  {
   "cell_type": "code",
   "execution_count": 79,
   "id": "9302bdbe-df17-4004-90ff-6476d1c29dd2",
   "metadata": {},
   "outputs": [
    {
     "name": "stdout",
     "output_type": "stream",
     "text": [
      "Test statistic is 4.291448\n",
      "p-value for two tailed test is 0.000028\n",
      "p-value2.797002084284504e-05 is less than 0.05, therefore the the null hypothisis is rejected\n"
     ]
    }
   ],
   "source": [
    "t_value, p_value = st.ttest_ind(brooklyn_br_2_2020, brooklyn_br_2_2021, alternative='greater')\n",
    "alpha = 0.05\n",
    "print('Test statistic is %f'%float(\"{:.6f}\".format(t_value)))\n",
    "print('p-value for two tailed test is %f'%p_value)\n",
    "print((f'p-value {p_value} is greater than {alpha}, so the null hypothisis is not rejected',\n",
    "      f'p-value {p_value} is less than {alpha}, therefore the null hypothisis is rejected')[int(p_value < alpha)])"
   ]
  },
  {
   "cell_type": "markdown",
   "id": "f234268f-c951-4cac-be1e-ca1be44b89b8",
   "metadata": {},
   "source": [
    "# Hypothsis Test 4:\n",
    "\n",
    "- H0: Rental prices of studio apartments in Manhattan from 2020 to 2021 remained constant\n",
    "- Ha: Rental prices of studio apartments in Manhattan were greater in 2020 than in 2021"
   ]
  },
  {
   "cell_type": "code",
   "execution_count": 88,
   "id": "79c94c74-3815-4c89-a7c8-c5b6f4bc59af",
   "metadata": {},
   "outputs": [],
   "source": [
    "manhattan = all_data[all_data.borough=='Manhattan']"
   ]
  },
  {
   "cell_type": "code",
   "execution_count": 89,
   "id": "e77b2b61-9dab-43ab-88a0-f46f782a2305",
   "metadata": {},
   "outputs": [],
   "source": [
    "manhattan_studio_2020 = manhattan[~manhattan['br_1_2020'].isna()]['br_1_2020'].values\n",
    "manhattan_studio_2021 = manhattan[~manhattan['br_1_2021'].isna()]['br_1_2021'].values"
   ]
  },
  {
   "cell_type": "code",
   "execution_count": 90,
   "id": "9f2294e7-1869-4e28-9c80-7e43b29be201",
   "metadata": {},
   "outputs": [
    {
     "name": "stdout",
     "output_type": "stream",
     "text": [
      "Test statistic is 3.400300\n",
      "p-value for two tailed test is 0.000565\n",
      "p-value 0.0005651938375121696 is less than 0.05, therefore the the null hypothisis is rejected\n"
     ]
    }
   ],
   "source": [
    "t_value, p_value = st.ttest_ind(manhattan_studio_2020, manhattan_studio_2021, alternative='greater')\n",
    "alpha = 0.05\n",
    "print('Test statistic is %f'%float(\"{:.6f}\".format(t_value)))\n",
    "print('p-value for two tailed test is %f'%p_value)\n",
    "print((f'p-value {p_value} is greater than {alpha}, so the null hypothisis is not rejected',\n",
    "      f'p-value {p_value} is less than {alpha}, therefore the null hypothisis is rejected')[int(p_value < alpha)])"
   ]
  },
  {
   "cell_type": "markdown",
   "id": "c0aff432-f8e7-4f05-85bb-bc9765533e7a",
   "metadata": {
    "tags": []
   },
   "source": [
    "# Hypothsis Test 5:\n",
    "- H0: Rental prices of 1 bedroom apartments in Manhattan from 2020 to 2021 remained constant\n",
    "- Ha: Rental prices of 1 bedroom apartments in Manhattan were greater in 2020 than in 2021"
   ]
  },
  {
   "cell_type": "code",
   "execution_count": 92,
   "id": "a4d9da74-3a00-47d0-8223-27bc63269b68",
   "metadata": {},
   "outputs": [],
   "source": [
    "manhattan_br_1_2020 = manhattan[~manhattan['br_1_2020'].isna()]['br_1_2020'].values\n",
    "manhattan_br_1_2021 = manhattan[~manhattan['br_1_2021'].isna()]['br_1_2021'].values"
   ]
  },
  {
   "cell_type": "code",
   "execution_count": 93,
   "id": "f1d67972-e43a-43ca-a67f-5504f7285d49",
   "metadata": {},
   "outputs": [
    {
     "name": "stdout",
     "output_type": "stream",
     "text": [
      "Test statistic is 3.400300\n",
      "p-value for two tailed test is 0.000565\n",
      "p-value 0.0005651938375121696 is less than 0.05, therefore the the null hypothisis is rejected\n"
     ]
    }
   ],
   "source": [
    "t_value, p_value = st.ttest_ind(manhattan_br_1_2020, manhattan_br_1_2021, alternative='greater')\n",
    "alpha = 0.05\n",
    "print('Test statistic is %f'%float(\"{:.6f}\".format(t_value)))\n",
    "print('p-value for two tailed test is %f'%p_value)\n",
    "print((f'p-value {p_value} is greater than {alpha}, so the null hypothisis is not rejected',\n",
    "      f'p-value {p_value} is less than {alpha}, therefore the null hypothisis is rejected')[int(p_value < alpha)])"
   ]
  },
  {
   "cell_type": "markdown",
   "id": "dbe8bc0c-3b6a-44ca-a23a-48ac0959a75b",
   "metadata": {},
   "source": [
    "# Hypothsis Test 6:\n",
    "- H0: Rental prices of 2 bedroom apartments in Manhattan from 2020 to 2021 remained constant\n",
    "- Ha: Rental prices of 2 bedroom apartments in Manhattan were greater in 2020 than in 2021"
   ]
  },
  {
   "cell_type": "code",
   "execution_count": 95,
   "id": "3b5245a5-e4c7-4a11-bd52-7dc186e9c51a",
   "metadata": {},
   "outputs": [],
   "source": [
    "manhattan_br_2_2020 = manhattan[~manhattan['br_2_2020'].isna()]['br_2_2020'].values\n",
    "manhattan_br_2_2021 = manhattan[~manhattan['br_2_2021'].isna()]['br_2_2021'].values"
   ]
  },
  {
   "cell_type": "code",
   "execution_count": 96,
   "id": "d778c57b-f2c0-422b-8b20-acbc89baf5a4",
   "metadata": {},
   "outputs": [
    {
     "name": "stdout",
     "output_type": "stream",
     "text": [
      "Test statistic is 3.850136\n",
      "p-value for two tailed test is 0.000132\n",
      "p-value 0.0001317650632601474 is less than 0.05, therefore the the null hypothisis is rejected\n"
     ]
    }
   ],
   "source": [
    "t_value, p_value = st.ttest_ind(manhattan_br_2_2020, manhattan_br_2_2021, alternative='greater')\n",
    "alpha = 0.05\n",
    "print('Test statistic is %f'%float(\"{:.6f}\".format(t_value)))\n",
    "print('p-value for two tailed test is %f'%p_value)\n",
    "print((f'p-value {p_value} is greater than {alpha}, so the null hypothisis is not rejected',\n",
    "      f'p-value {p_value} is less than {alpha}, therefore the null hypothisis is rejected')[int(p_value < alpha)])"
   ]
  },
  {
   "cell_type": "code",
   "execution_count": null,
   "id": "c202b2fa-de8c-4301-8f13-a0028bd0ce36",
   "metadata": {},
   "outputs": [],
   "source": []
  }
 ],
 "metadata": {
  "kernelspec": {
   "display_name": "Python 3 (ipykernel)",
   "language": "python",
   "name": "python3"
  },
  "language_info": {
   "codemirror_mode": {
    "name": "ipython",
    "version": 3
   },
   "file_extension": ".py",
   "mimetype": "text/x-python",
   "name": "python",
   "nbconvert_exporter": "python",
   "pygments_lexer": "ipython3",
   "version": "3.9.7"
  }
 },
 "nbformat": 4,
 "nbformat_minor": 5
}
