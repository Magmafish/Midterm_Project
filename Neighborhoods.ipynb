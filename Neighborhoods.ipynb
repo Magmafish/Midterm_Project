{
 "cells": [
  {
   "cell_type": "code",
   "execution_count": 1,
   "id": "d50c4adc-e687-4c08-aef5-38ec164db52a",
   "metadata": {},
   "outputs": [],
   "source": [
    "#import geopandas as gpd\n",
    "import matplotlib.pyplot as plt\n",
    "import pandas as pd\n",
    "#import fiona"
   ]
  },
  {
   "cell_type": "code",
   "execution_count": 2,
   "id": "f906e3c4-418d-4c52-a4bd-c5905cfaa26f",
   "metadata": {},
   "outputs": [],
   "source": [
    "import json\n",
    "import geojson\n",
    "from IPython.display import JSON"
   ]
  },
  {
   "cell_type": "code",
   "execution_count": 3,
   "id": "41e53ccf-ac60-4325-9f0c-d0a534f02c2b",
   "metadata": {},
   "outputs": [],
   "source": [
    "path = 'C:\\\\Users\\\\micha\\\\OneDrive\\\\LHL\\\\_DataScienciBootCamp\\\\Midterm_Project\\\\data\\\\nyc_geo.json'"
   ]
  },
  {
   "cell_type": "code",
   "execution_count": 4,
   "id": "6bbc8a12-3c1d-4171-963d-28a91e63e59b",
   "metadata": {},
   "outputs": [],
   "source": [
    "with open(path) as f:\n",
    "    gj = geojson.load(f)"
   ]
  },
  {
   "cell_type": "code",
   "execution_count": 5,
   "id": "fbe8be8a-a319-4a26-94fd-39ca210a8b38",
   "metadata": {
    "tags": []
   },
   "outputs": [
    {
     "data": {
      "text/plain": [
       "[{\"geometry\": {\"coordinates\": [-73.847201, 40.894705], \"type\": \"Point\"}, \"geometry_name\": \"geom\", \"id\": \"nyu_2451_34572.1\", \"properties\": {\"annoangle\": 0.0, \"annoline1\": \"Wakefield\", \"annoline2\": null, \"annoline3\": null, \"bbox\": [-73.84720052054902, 40.89470517661, -73.84720052054902, 40.89470517661], \"borough\": \"Bronx\", \"name\": \"Wakefield\", \"stacked\": 1}, \"type\": \"Feature\"},\n",
       " {\"geometry\": {\"coordinates\": [-73.829939, 40.874294], \"type\": \"Point\"}, \"geometry_name\": \"geom\", \"id\": \"nyu_2451_34572.2\", \"properties\": {\"annoangle\": 0.0, \"annoline1\": \"Co-op\", \"annoline2\": \"City\", \"annoline3\": null, \"bbox\": [-73.82993910812398, 40.87429419303012, -73.82993910812398, 40.87429419303012], \"borough\": \"Bronx\", \"name\": \"Co-op City\", \"stacked\": 2}, \"type\": \"Feature\"}]"
      ]
     },
     "execution_count": 5,
     "metadata": {},
     "output_type": "execute_result"
    }
   ],
   "source": [
    "gj[:2]"
   ]
  },
  {
   "cell_type": "code",
   "execution_count": 6,
   "id": "0aaeb544-940e-47ae-b8ac-15c753397406",
   "metadata": {
    "tags": []
   },
   "outputs": [
    {
     "data": {
      "application/json": {
       "bbox": [
        -74.2492599487305,
        40.5033187866211,
        -73.7061614990234,
        40.9105606079102
       ],
       "crs": {
        "properties": {
         "name": "urn:ogc:def:crs:EPSG::4326"
        },
        "type": "name"
       },
       "features": [
        {
         "geometry": {
          "coordinates": [
           -73.847201,
           40.894705
          ],
          "type": "Point"
         },
         "geometry_name": "geom",
         "id": "nyu_2451_34572.1",
         "properties": {
          "annoangle": 0,
          "annoline1": "Wakefield",
          "annoline2": null,
          "annoline3": null,
          "bbox": [
           -73.84720052054902,
           40.89470517661,
           -73.84720052054902,
           40.89470517661
          ],
          "borough": "Bronx",
          "name": "Wakefield",
          "stacked": 1
         },
         "type": "Feature"
        },
        {
         "geometry": {
          "coordinates": [
           -73.829939,
           40.874294
          ],
          "type": "Point"
         },
         "geometry_name": "geom",
         "id": "nyu_2451_34572.2",
         "properties": {
          "annoangle": 0,
          "annoline1": "Co-op",
          "annoline2": "City",
          "annoline3": null,
          "bbox": [
           -73.82993910812398,
           40.87429419303012,
           -73.82993910812398,
           40.87429419303012
          ],
          "borough": "Bronx",
          "name": "Co-op City",
          "stacked": 2
         },
         "type": "Feature"
        },
        {
         "geometry": {
          "coordinates": [
           -73.827806,
           40.887556
          ],
          "type": "Point"
         },
         "geometry_name": "geom",
         "id": "nyu_2451_34572.3",
         "properties": {
          "annoangle": 0,
          "annoline1": "Eastchester",
          "annoline2": null,
          "annoline3": null,
          "bbox": [
           -73.82780644716412,
           40.887555677350775,
           -73.82780644716412,
           40.887555677350775
          ],
          "borough": "Bronx",
          "name": "Eastchester",
          "stacked": 1
         },
         "type": "Feature"
        },
        {
         "geometry": {
          "coordinates": [
           -73.905643,
           40.895437
          ],
          "type": "Point"
         },
         "geometry_name": "geom",
         "id": "nyu_2451_34572.4",
         "properties": {
          "annoangle": 0,
          "annoline1": "Fieldston",
          "annoline2": null,
          "annoline3": null,
          "bbox": [
           -73.90564259591682,
           40.89543742690383,
           -73.90564259591682,
           40.89543742690383
          ],
          "borough": "Bronx",
          "name": "Fieldston",
          "stacked": 1
         },
         "type": "Feature"
        },
        {
         "geometry": {
          "coordinates": [
           -73.912585,
           40.890834
          ],
          "type": "Point"
         },
         "geometry_name": "geom",
         "id": "nyu_2451_34572.5",
         "properties": {
          "annoangle": 0,
          "annoline1": "Riverdale",
          "annoline2": null,
          "annoline3": null,
          "bbox": [
           -73.9125854610857,
           40.890834493891305,
           -73.9125854610857,
           40.890834493891305
          ],
          "borough": "Bronx",
          "name": "Riverdale",
          "stacked": 1
         },
         "type": "Feature"
        },
        {
         "geometry": {
          "coordinates": [
           -73.902818,
           40.881687
          ],
          "type": "Point"
         },
         "geometry_name": "geom",
         "id": "nyu_2451_34572.6",
         "properties": {
          "annoangle": 0,
          "annoline1": "Kingsbridge",
          "annoline2": null,
          "annoline3": null,
          "bbox": [
           -73.90281798724604,
           40.88168737120521,
           -73.90281798724604,
           40.88168737120521
          ],
          "borough": "Bronx",
          "name": "Kingsbridge",
          "stacked": 1
         },
         "type": "Feature"
        },
        {
         "geometry": {
          "coordinates": [
           -73.91066,
           40.876551
          ],
          "type": "Point"
         },
         "geometry_name": "geom",
         "id": "nyu_2451_34572.7",
         "properties": {
          "annoangle": 0,
          "annoline1": "Marble",
          "annoline2": "Hill",
          "annoline3": null,
          "bbox": [
           -73.91065965862981,
           40.87655077879964,
           -73.91065965862981,
           40.87655077879964
          ],
          "borough": "Manhattan",
          "name": "Marble Hill",
          "stacked": 2
         },
         "type": "Feature"
        },
        {
         "geometry": {
          "coordinates": [
           -73.867315,
           40.898273
          ],
          "type": "Point"
         },
         "geometry_name": "geom",
         "id": "nyu_2451_34572.8",
         "properties": {
          "annoangle": 0,
          "annoline1": "Woodlawn",
          "annoline2": null,
          "annoline3": null,
          "bbox": [
           -73.86731496814176,
           40.89827261213805,
           -73.86731496814176,
           40.89827261213805
          ],
          "borough": "Bronx",
          "name": "Woodlawn",
          "stacked": 1
         },
         "type": "Feature"
        },
        {
         "geometry": {
          "coordinates": [
           -73.879391,
           40.877224
          ],
          "type": "Point"
         },
         "geometry_name": "geom",
         "id": "nyu_2451_34572.9",
         "properties": {
          "annoangle": 0,
          "annoline1": "Norwood",
          "annoline2": null,
          "annoline3": null,
          "bbox": [
           -73.8793907395681,
           40.87722415599446,
           -73.8793907395681,
           40.87722415599446
          ],
          "borough": "Bronx",
          "name": "Norwood",
          "stacked": 1
         },
         "type": "Feature"
        },
        {
         "geometry": {
          "coordinates": [
           -73.857446,
           40.881039
          ],
          "type": "Point"
         },
         "geometry_name": "geom",
         "id": "nyu_2451_34572.10",
         "properties": {
          "annoangle": 0,
          "annoline1": "Williamsbridge",
          "annoline2": null,
          "annoline3": null,
          "bbox": [
           -73.85744642974207,
           40.88103887819211,
           -73.85744642974207,
           40.88103887819211
          ],
          "borough": "Bronx",
          "name": "Williamsbridge",
          "stacked": 1
         },
         "type": "Feature"
        },
        {
         "geometry": {
          "coordinates": [
           -73.835798,
           40.866858
          ],
          "type": "Point"
         },
         "geometry_name": "geom",
         "id": "nyu_2451_34572.11",
         "properties": {
          "annoangle": 0,
          "annoline1": "Baychester",
          "annoline2": null,
          "annoline3": null,
          "bbox": [
           -73.83579759808117,
           40.866858107252696,
           -73.83579759808117,
           40.866858107252696
          ],
          "borough": "Bronx",
          "name": "Baychester",
          "stacked": 1
         },
         "type": "Feature"
        },
        {
         "geometry": {
          "coordinates": [
           -73.854756,
           40.857413
          ],
          "type": "Point"
         },
         "geometry_name": "geom",
         "id": "nyu_2451_34572.12",
         "properties": {
          "annoangle": 0,
          "annoline1": "Pelham Parkway",
          "annoline2": null,
          "annoline3": null,
          "bbox": [
           -73.85475564017999,
           40.85741349808865,
           -73.85475564017999,
           40.85741349808865
          ],
          "borough": "Bronx",
          "name": "Pelham Parkway",
          "stacked": 1
         },
         "type": "Feature"
        },
        {
         "geometry": {
          "coordinates": [
           -73.786488,
           40.847247
          ],
          "type": "Point"
         },
         "geometry_name": "geom",
         "id": "nyu_2451_34572.13",
         "properties": {
          "annoangle": 0,
          "annoline1": "City",
          "annoline2": "Island",
          "annoline3": null,
          "bbox": [
           -73.78648845267413,
           40.84724670491813,
           -73.78648845267413,
           40.84724670491813
          ],
          "borough": "Bronx",
          "name": "City Island",
          "stacked": 2
         },
         "type": "Feature"
        },
        {
         "geometry": {
          "coordinates": [
           -73.885512,
           40.870185
          ],
          "type": "Point"
         },
         "geometry_name": "geom",
         "id": "nyu_2451_34572.14",
         "properties": {
          "annoangle": 0,
          "annoline1": "Bedford",
          "annoline2": "Park",
          "annoline3": null,
          "bbox": [
           -73.8855121841913,
           40.870185164975325,
           -73.8855121841913,
           40.870185164975325
          ],
          "borough": "Bronx",
          "name": "Bedford Park",
          "stacked": 2
         },
         "type": "Feature"
        },
        {
         "geometry": {
          "coordinates": [
           -73.910416,
           40.855727
          ],
          "type": "Point"
         },
         "geometry_name": "geom",
         "id": "nyu_2451_34572.15",
         "properties": {
          "annoangle": 0,
          "annoline1": "University",
          "annoline2": "Heights",
          "annoline3": null,
          "bbox": [
           -73.9104159619131,
           40.85572707719664,
           -73.9104159619131,
           40.85572707719664
          ],
          "borough": "Bronx",
          "name": "University Heights",
          "stacked": 2
         },
         "type": "Feature"
        },
        {
         "geometry": {
          "coordinates": [
           -73.919672,
           40.847898
          ],
          "type": "Point"
         },
         "geometry_name": "geom",
         "id": "nyu_2451_34572.16",
         "properties": {
          "annoangle": 0,
          "annoline1": "Morris",
          "annoline2": "Heights",
          "annoline3": null,
          "bbox": [
           -73.91967159119565,
           40.84789792606271,
           -73.91967159119565,
           40.84789792606271
          ],
          "borough": "Bronx",
          "name": "Morris Heights",
          "stacked": 2
         },
         "type": "Feature"
        },
        {
         "geometry": {
          "coordinates": [
           -73.896427,
           40.860997
          ],
          "type": "Point"
         },
         "geometry_name": "geom",
         "id": "nyu_2451_34572.17",
         "properties": {
          "annoangle": 0,
          "annoline1": "Fordham",
          "annoline2": null,
          "annoline3": null,
          "bbox": [
           -73.89642655981623,
           40.86099679638654,
           -73.89642655981623,
           40.86099679638654
          ],
          "borough": "Bronx",
          "name": "Fordham",
          "stacked": 1
         },
         "type": "Feature"
        },
        {
         "geometry": {
          "coordinates": [
           -73.887356,
           40.842696
          ],
          "type": "Point"
         },
         "geometry_name": "geom",
         "id": "nyu_2451_34572.18",
         "properties": {
          "annoangle": 0,
          "annoline1": "East",
          "annoline2": "Tremont",
          "annoline3": null,
          "bbox": [
           -73.88735617532338,
           40.84269615786053,
           -73.88735617532338,
           40.84269615786053
          ],
          "borough": "Bronx",
          "name": "East Tremont",
          "stacked": 2
         },
         "type": "Feature"
        },
        {
         "geometry": {
          "coordinates": [
           -73.877745,
           40.839475
          ],
          "type": "Point"
         },
         "geometry_name": "geom",
         "id": "nyu_2451_34572.19",
         "properties": {
          "annoangle": 0,
          "annoline1": "West",
          "annoline2": "Farms",
          "annoline3": null,
          "bbox": [
           -73.87774474910545,
           40.83947505672653,
           -73.87774474910545,
           40.83947505672653
          ],
          "borough": "Bronx",
          "name": "West Farms",
          "stacked": 2
         },
         "type": "Feature"
        },
        {
         "geometry": {
          "coordinates": [
           -73.926102,
           40.836623
          ],
          "type": "Point"
         },
         "geometry_name": "geom",
         "id": "nyu_2451_34572.20",
         "properties": {
          "annoangle": 0,
          "annoline1": "Highbridge",
          "annoline2": null,
          "annoline3": null,
          "bbox": [
           -73.9261020935813,
           40.836623010706056,
           -73.9261020935813,
           40.836623010706056
          ],
          "borough": "Bronx",
          "name": "High  Bridge",
          "stacked": 1
         },
         "type": "Feature"
        },
        {
         "geometry": {
          "coordinates": [
           -73.909422,
           40.819754
          ],
          "type": "Point"
         },
         "geometry_name": "geom",
         "id": "nyu_2451_34572.21",
         "properties": {
          "annoangle": 0,
          "annoline1": "Melrose",
          "annoline2": null,
          "annoline3": null,
          "bbox": [
           -73.90942160757436,
           40.819754370594936,
           -73.90942160757436,
           40.819754370594936
          ],
          "borough": "Bronx",
          "name": "Melrose",
          "stacked": 1
         },
         "type": "Feature"
        },
        {
         "geometry": {
          "coordinates": [
           -73.9161,
           40.806239
          ],
          "type": "Point"
         },
         "geometry_name": "geom",
         "id": "nyu_2451_34572.22",
         "properties": {
          "annoangle": 0,
          "annoline1": "Mott Haven",
          "annoline2": null,
          "annoline3": null,
          "bbox": [
           -73.91609987487575,
           40.80623874935177,
           -73.91609987487575,
           40.80623874935177
          ],
          "borough": "Bronx",
          "name": "Mott Haven",
          "stacked": 1
         },
         "type": "Feature"
        },
        {
         "geometry": {
          "coordinates": [
           -73.913221,
           40.801664
          ],
          "type": "Point"
         },
         "geometry_name": "geom",
         "id": "nyu_2451_34572.23",
         "properties": {
          "annoangle": 0,
          "annoline1": "Port",
          "annoline2": "Morris",
          "annoline3": null,
          "bbox": [
           -73.91322139386135,
           40.801663627756206,
           -73.91322139386135,
           40.801663627756206
          ],
          "borough": "Bronx",
          "name": "Port Morris",
          "stacked": 2
         },
         "type": "Feature"
        },
        {
         "geometry": {
          "coordinates": [
           -73.895788,
           40.815099
          ],
          "type": "Point"
         },
         "geometry_name": "geom",
         "id": "nyu_2451_34572.24",
         "properties": {
          "annoangle": 0,
          "annoline1": "Longwood",
          "annoline2": null,
          "annoline3": null,
          "bbox": [
           -73.8957882009446,
           40.81509904545822,
           -73.8957882009446,
           40.81509904545822
          ],
          "borough": "Bronx",
          "name": "Longwood",
          "stacked": 1
         },
         "type": "Feature"
        },
        {
         "geometry": {
          "coordinates": [
           -73.883315,
           40.80973
          ],
          "type": "Point"
         },
         "geometry_name": "geom",
         "id": "nyu_2451_34572.25",
         "properties": {
          "annoangle": 0,
          "annoline1": "Hunts",
          "annoline2": "Point",
          "annoline3": null,
          "bbox": [
           -73.88331505955291,
           40.80972987938709,
           -73.88331505955291,
           40.80972987938709
          ],
          "borough": "Bronx",
          "name": "Hunts Point",
          "stacked": 2
         },
         "type": "Feature"
        },
        {
         "geometry": {
          "coordinates": [
           -73.901506,
           40.823592
          ],
          "type": "Point"
         },
         "geometry_name": "geom",
         "id": "nyu_2451_34572.26",
         "properties": {
          "annoangle": 0,
          "annoline1": "Morrisania",
          "annoline2": null,
          "annoline3": null,
          "bbox": [
           -73.90150648943059,
           40.82359198585534,
           -73.90150648943059,
           40.82359198585534
          ],
          "borough": "Bronx",
          "name": "Morrisania",
          "stacked": 1
         },
         "type": "Feature"
        },
        {
         "geometry": {
          "coordinates": [
           -73.865746,
           40.821012
          ],
          "type": "Point"
         },
         "geometry_name": "geom",
         "id": "nyu_2451_34572.27",
         "properties": {
          "annoangle": 0,
          "annoline1": "Soundview",
          "annoline2": null,
          "annoline3": null,
          "bbox": [
           -73.86574609554924,
           40.821012197914015,
           -73.86574609554924,
           40.821012197914015
          ],
          "borough": "Bronx",
          "name": "Soundview",
          "stacked": 1
         },
         "type": "Feature"
        },
        {
         "geometry": {
          "coordinates": [
           -73.854144,
           40.806551
          ],
          "type": "Point"
         },
         "geometry_name": "geom",
         "id": "nyu_2451_34572.28",
         "properties": {
          "annoangle": 0,
          "annoline1": "Clason",
          "annoline2": "Point",
          "annoline3": null,
          "bbox": [
           -73.85414416189266,
           40.80655112003589,
           -73.85414416189266,
           40.80655112003589
          ],
          "borough": "Bronx",
          "name": "Clason Point",
          "stacked": 2
         },
         "type": "Feature"
        },
        {
         "geometry": {
          "coordinates": [
           -73.81635,
           40.815109
          ],
          "type": "Point"
         },
         "geometry_name": "geom",
         "id": "nyu_2451_34572.29",
         "properties": {
          "annoangle": 0,
          "annoline1": "Throgs Neck",
          "annoline2": null,
          "annoline3": null,
          "bbox": [
           -73.81635002158441,
           40.81510925804005,
           -73.81635002158441,
           40.81510925804005
          ],
          "borough": "Bronx",
          "name": "Throgs Neck",
          "stacked": 1
         },
         "type": "Feature"
        },
        {
         "geometry": {
          "coordinates": [
           -73.824099,
           40.844246
          ],
          "type": "Point"
         },
         "geometry_name": "geom",
         "id": "nyu_2451_34572.30",
         "properties": {
          "annoangle": 0,
          "annoline1": "Country",
          "annoline2": "Club",
          "annoline3": null,
          "bbox": [
           -73.8240992675385,
           40.844245936947374,
           -73.8240992675385,
           40.844245936947374
          ],
          "borough": "Bronx",
          "name": "Country Club",
          "stacked": 2
         },
         "type": "Feature"
        },
        {
         "geometry": {
          "coordinates": [
           -73.856003,
           40.837938
          ],
          "type": "Point"
         },
         "geometry_name": "geom",
         "id": "nyu_2451_34572.31",
         "properties": {
          "annoangle": 0,
          "annoline1": "Parkchester",
          "annoline2": null,
          "annoline3": null,
          "bbox": [
           -73.85600310535783,
           40.837937822267286,
           -73.85600310535783,
           40.837937822267286
          ],
          "borough": "Bronx",
          "name": "Parkchester",
          "stacked": 1
         },
         "type": "Feature"
        },
        {
         "geometry": {
          "coordinates": [
           -73.842194,
           40.840619
          ],
          "type": "Point"
         },
         "geometry_name": "geom",
         "id": "nyu_2451_34572.32",
         "properties": {
          "annoangle": 0,
          "annoline1": "Westchester",
          "annoline2": "Square",
          "annoline3": null,
          "bbox": [
           -73.84219407604444,
           40.8406194964327,
           -73.84219407604444,
           40.8406194964327
          ],
          "borough": "Bronx",
          "name": "Westchester Square",
          "stacked": 2
         },
         "type": "Feature"
        },
        {
         "geometry": {
          "coordinates": [
           -73.866299,
           40.843608
          ],
          "type": "Point"
         },
         "geometry_name": "geom",
         "id": "nyu_2451_34572.33",
         "properties": {
          "annoangle": 0,
          "annoline1": "Van",
          "annoline2": "Nest",
          "annoline3": null,
          "bbox": [
           -73.8662991807561,
           40.84360847124718,
           -73.8662991807561,
           40.84360847124718
          ],
          "borough": "Bronx",
          "name": "Van Nest",
          "stacked": 2
         },
         "type": "Feature"
        },
        {
         "geometry": {
          "coordinates": [
           -73.850402,
           40.847549
          ],
          "type": "Point"
         },
         "geometry_name": "geom",
         "id": "nyu_2451_34572.34",
         "properties": {
          "annoangle": 0,
          "annoline1": "Morris Park",
          "annoline2": null,
          "annoline3": null,
          "bbox": [
           -73.85040178030421,
           40.847549063536334,
           -73.85040178030421,
           40.847549063536334
          ],
          "borough": "Bronx",
          "name": "Morris Park",
          "stacked": 1
         },
         "type": "Feature"
        },
        {
         "geometry": {
          "coordinates": [
           -73.888452,
           40.857277
          ],
          "type": "Point"
         },
         "geometry_name": "geom",
         "id": "nyu_2451_34572.35",
         "properties": {
          "annoangle": 0,
          "annoline1": "Belmont",
          "annoline2": null,
          "annoline3": null,
          "bbox": [
           -73.88845196134804,
           40.85727710073895,
           -73.88845196134804,
           40.85727710073895
          ],
          "borough": "Bronx",
          "name": "Belmont",
          "stacked": 1
         },
         "type": "Feature"
        },
        {
         "geometry": {
          "coordinates": [
           -73.91719,
           40.881395
          ],
          "type": "Point"
         },
         "geometry_name": "geom",
         "id": "nyu_2451_34572.36",
         "properties": {
          "annoangle": 0,
          "annoline1": "Spuyten",
          "annoline2": "Duyvil",
          "annoline3": null,
          "bbox": [
           -73.91719048210393,
           40.88139497727086,
           -73.91719048210393,
           40.88139497727086
          ],
          "borough": "Bronx",
          "name": "Spuyten Duyvil",
          "stacked": 2
         },
         "type": "Feature"
        },
        {
         "geometry": {
          "coordinates": [
           -73.904531,
           40.908543
          ],
          "type": "Point"
         },
         "geometry_name": "geom",
         "id": "nyu_2451_34572.37",
         "properties": {
          "annoangle": 0,
          "annoline1": "North",
          "annoline2": "Riverdale",
          "annoline3": null,
          "bbox": [
           -73.90453054908927,
           40.90854282950666,
           -73.90453054908927,
           40.90854282950666
          ],
          "borough": "Bronx",
          "name": "North Riverdale",
          "stacked": 2
         },
         "type": "Feature"
        },
        {
         "geometry": {
          "coordinates": [
           -73.832074,
           40.850641
          ],
          "type": "Point"
         },
         "geometry_name": "geom",
         "id": "nyu_2451_34572.38",
         "properties": {
          "annoangle": 0,
          "annoline1": "Pelham",
          "annoline2": "Bay",
          "annoline3": null,
          "bbox": [
           -73.8320737824047,
           40.85064140940335,
           -73.8320737824047,
           40.85064140940335
          ],
          "borough": "Bronx",
          "name": "Pelham Bay",
          "stacked": 2
         },
         "type": "Feature"
        },
        {
         "geometry": {
          "coordinates": [
           -73.826203,
           40.82658
          ],
          "type": "Point"
         },
         "geometry_name": "geom",
         "id": "nyu_2451_34572.39",
         "properties": {
          "annoangle": 0,
          "annoline1": "Schuylerville",
          "annoline2": null,
          "annoline3": null,
          "bbox": [
           -73.82620275994073,
           40.82657951686922,
           -73.82620275994073,
           40.82657951686922
          ],
          "borough": "Bronx",
          "name": "Schuylerville",
          "stacked": 1
         },
         "type": "Feature"
        },
        {
         "geometry": {
          "coordinates": [
           -73.813885,
           40.821986
          ],
          "type": "Point"
         },
         "geometry_name": "geom",
         "id": "nyu_2451_34572.40",
         "properties": {
          "annoangle": 0,
          "annoline1": "Edgewater",
          "annoline2": "Park",
          "annoline3": null,
          "bbox": [
           -73.81388514428619,
           40.821986118163494,
           -73.81388514428619,
           40.821986118163494
          ],
          "borough": "Bronx",
          "name": "Edgewater Park",
          "stacked": 2
         },
         "type": "Feature"
        },
        {
         "geometry": {
          "coordinates": [
           -73.848027,
           40.819014
          ],
          "type": "Point"
         },
         "geometry_name": "geom",
         "id": "nyu_2451_34572.41",
         "properties": {
          "annoangle": 0,
          "annoline1": "Castle",
          "annoline2": "Hill",
          "annoline3": null,
          "bbox": [
           -73.84802729582735,
           40.819014376988314,
           -73.84802729582735,
           40.819014376988314
          ],
          "borough": "Bronx",
          "name": "Castle Hill",
          "stacked": 2
         },
         "type": "Feature"
        },
        {
         "geometry": {
          "coordinates": [
           -73.863324,
           40.871371
          ],
          "type": "Point"
         },
         "geometry_name": "geom",
         "id": "nyu_2451_34572.42",
         "properties": {
          "annoangle": 0,
          "annoline1": "Olinville",
          "annoline2": null,
          "annoline3": null,
          "bbox": [
           -73.86332361652777,
           40.87137078192371,
           -73.86332361652777,
           40.87137078192371
          ],
          "borough": "Bronx",
          "name": "Olinville",
          "stacked": 1
         },
         "type": "Feature"
        },
        {
         "geometry": {
          "coordinates": [
           -73.841612,
           40.862966
          ],
          "type": "Point"
         },
         "geometry_name": "geom",
         "id": "nyu_2451_34572.43",
         "properties": {
          "annoangle": 0,
          "annoline1": "Pelham",
          "annoline2": "Gardens",
          "annoline3": null,
          "bbox": [
           -73.84161194831223,
           40.86296562477998,
           -73.84161194831223,
           40.86296562477998
          ],
          "borough": "Bronx",
          "name": "Pelham Gardens",
          "stacked": 2
         },
         "type": "Feature"
        },
        {
         "geometry": {
          "coordinates": [
           -73.915589,
           40.834284
          ],
          "type": "Point"
         },
         "geometry_name": "geom",
         "id": "nyu_2451_34572.44",
         "properties": {
          "annoangle": 0,
          "annoline1": "Concourse",
          "annoline2": null,
          "annoline3": null,
          "bbox": [
           -73.91558941773444,
           40.83428380733851,
           -73.91558941773444,
           40.83428380733851
          ],
          "borough": "Bronx",
          "name": "Concourse",
          "stacked": 1
         },
         "type": "Feature"
        },
        {
         "geometry": {
          "coordinates": [
           -73.850535,
           40.829774
          ],
          "type": "Point"
         },
         "geometry_name": "geom",
         "id": "nyu_2451_34572.45",
         "properties": {
          "annoangle": 0,
          "annoline1": "Unionport",
          "annoline2": null,
          "annoline3": null,
          "bbox": [
           -73.85053524451935,
           40.82977429787161,
           -73.85053524451935,
           40.82977429787161
          ],
          "borough": "Bronx",
          "name": "Unionport",
          "stacked": 1
         },
         "type": "Feature"
        },
        {
         "geometry": {
          "coordinates": [
           -73.848083,
           40.884561
          ],
          "type": "Point"
         },
         "geometry_name": "geom",
         "id": "nyu_2451_34572.46",
         "properties": {
          "annoangle": 0,
          "annoline1": "Edenwald",
          "annoline2": null,
          "annoline3": null,
          "bbox": [
           -73.84808271877168,
           40.88456130303732,
           -73.84808271877168,
           40.88456130303732
          ],
          "borough": "Bronx",
          "name": "Edenwald",
          "stacked": 1
         },
         "type": "Feature"
        },
        {
         "geometry": {
          "coordinates": [
           -74.030621,
           40.625801
          ],
          "type": "Point"
         },
         "geometry_name": "geom",
         "id": "nyu_2451_34572.47",
         "properties": {
          "annoangle": 0,
          "annoline1": "Bay Ridge",
          "annoline2": null,
          "annoline3": null,
          "bbox": [
           -74.03062069353813,
           40.625801065010656,
           -74.03062069353813,
           40.625801065010656
          ],
          "borough": "Brooklyn",
          "name": "Bay Ridge",
          "stacked": 1
         },
         "type": "Feature"
        },
        {
         "geometry": {
          "coordinates": [
           -73.99518,
           40.611009
          ],
          "type": "Point"
         },
         "geometry_name": "geom",
         "id": "nyu_2451_34572.48",
         "properties": {
          "annoangle": 0,
          "annoline1": "Bensonhurst",
          "annoline2": null,
          "annoline3": null,
          "bbox": [
           -73.99517998380729,
           40.61100890202044,
           -73.99517998380729,
           40.61100890202044
          ],
          "borough": "Brooklyn",
          "name": "Bensonhurst",
          "stacked": 1
         },
         "type": "Feature"
        },
        {
         "geometry": {
          "coordinates": [
           -74.010316,
           40.645103
          ],
          "type": "Point"
         },
         "geometry_name": "geom",
         "id": "nyu_2451_34572.49",
         "properties": {
          "annoangle": 0,
          "annoline1": "Sunset",
          "annoline2": "Park",
          "annoline3": null,
          "bbox": [
           -74.01031618527784,
           40.64510294925429,
           -74.01031618527784,
           40.64510294925429
          ],
          "borough": "Brooklyn",
          "name": "Sunset Park",
          "stacked": 2
         },
         "type": "Feature"
        },
        {
         "geometry": {
          "coordinates": [
           -73.954241,
           40.730201
          ],
          "type": "Point"
         },
         "geometry_name": "geom",
         "id": "nyu_2451_34572.50",
         "properties": {
          "annoangle": 0,
          "annoline1": "Greenpoint",
          "annoline2": null,
          "annoline3": null,
          "bbox": [
           -73.95424093127393,
           40.7302009848647,
           -73.95424093127393,
           40.7302009848647
          ],
          "borough": "Brooklyn",
          "name": "Greenpoint",
          "stacked": 1
         },
         "type": "Feature"
        },
        {
         "geometry": {
          "coordinates": [
           -73.973471,
           40.59526
          ],
          "type": "Point"
         },
         "geometry_name": "geom",
         "id": "nyu_2451_34572.51",
         "properties": {
          "annoangle": 0,
          "annoline1": "Gravesend",
          "annoline2": null,
          "annoline3": null,
          "bbox": [
           -73.97347087708445,
           40.59526001306593,
           -73.97347087708445,
           40.59526001306593
          ],
          "borough": "Brooklyn",
          "name": "Gravesend",
          "stacked": 1
         },
         "type": "Feature"
        },
        {
         "geometry": {
          "coordinates": [
           -73.965094,
           40.576825
          ],
          "type": "Point"
         },
         "geometry_name": "geom",
         "id": "nyu_2451_34572.52",
         "properties": {
          "annoangle": 0,
          "annoline1": "Brighton",
          "annoline2": "Beach",
          "annoline3": null,
          "bbox": [
           -73.96509448785336,
           40.57682506566604,
           -73.96509448785336,
           40.57682506566604
          ],
          "borough": "Brooklyn",
          "name": "Brighton Beach",
          "stacked": 2
         },
         "type": "Feature"
        },
        {
         "geometry": {
          "coordinates": [
           -73.943186,
           40.58689
          ],
          "type": "Point"
         },
         "geometry_name": "geom",
         "id": "nyu_2451_34572.53",
         "properties": {
          "annoangle": 0,
          "annoline1": "Sheepshead",
          "annoline2": "Bay",
          "annoline3": null,
          "bbox": [
           -73.94318640482979,
           40.58689012678384,
           -73.94318640482979,
           40.58689012678384
          ],
          "borough": "Brooklyn",
          "name": "Sheepshead Bay",
          "stacked": 2
         },
         "type": "Feature"
        },
        {
         "geometry": {
          "coordinates": [
           -73.957438,
           40.614433
          ],
          "type": "Point"
         },
         "geometry_name": "geom",
         "id": "nyu_2451_34572.54",
         "properties": {
          "annoangle": 0,
          "annoline1": "Manhattan",
          "annoline2": "Terrace",
          "annoline3": null,
          "bbox": [
           -73.95743840559939,
           40.61443251335098,
           -73.95743840559939,
           40.61443251335098
          ],
          "borough": "Brooklyn",
          "name": "Manhattan Terrace",
          "stacked": 2
         },
         "type": "Feature"
        },
        {
         "geometry": {
          "coordinates": [
           -73.958401,
           40.636326
          ],
          "type": "Point"
         },
         "geometry_name": "geom",
         "id": "nyu_2451_34572.55",
         "properties": {
          "annoangle": 0,
          "annoline1": "Flatbush",
          "annoline2": null,
          "annoline3": null,
          "bbox": [
           -73.95840106533903,
           40.63632589026677,
           -73.95840106533903,
           40.63632589026677
          ],
          "borough": "Brooklyn",
          "name": "Flatbush",
          "stacked": 1
         },
         "type": "Feature"
        },
        {
         "geometry": {
          "coordinates": [
           -73.943291,
           40.670829
          ],
          "type": "Point"
         },
         "geometry_name": "geom",
         "id": "nyu_2451_34572.56",
         "properties": {
          "annoangle": 0,
          "annoline1": "Crown",
          "annoline2": "Heights",
          "annoline3": null,
          "bbox": [
           -73.94329119073582,
           40.67082917695294,
           -73.94329119073582,
           40.67082917695294
          ],
          "borough": "Brooklyn",
          "name": "Crown Heights",
          "stacked": 2
         },
         "type": "Feature"
        },
        {
         "geometry": {
          "coordinates": [
           -73.936103,
           40.641718
          ],
          "type": "Point"
         },
         "geometry_name": "geom",
         "id": "nyu_2451_34572.57",
         "properties": {
          "annoangle": 0,
          "annoline1": "East Flatbush",
          "annoline2": null,
          "annoline3": null,
          "bbox": [
           -73.93610256185836,
           40.64171776668961,
           -73.93610256185836,
           40.64171776668961
          ],
          "borough": "Brooklyn",
          "name": "East Flatbush",
          "stacked": 1
         },
         "type": "Feature"
        },
        {
         "geometry": {
          "coordinates": [
           -73.980421,
           40.642382
          ],
          "type": "Point"
         },
         "geometry_name": "geom",
         "id": "nyu_2451_34572.58",
         "properties": {
          "annoangle": 0,
          "annoline1": "Kensington",
          "annoline2": null,
          "annoline3": null,
          "bbox": [
           -73.98042110559474,
           40.642381958003526,
           -73.98042110559474,
           40.642381958003526
          ],
          "borough": "Brooklyn",
          "name": "Kensington",
          "stacked": 1
         },
         "type": "Feature"
        },
        {
         "geometry": {
          "coordinates": [
           -73.980073,
           40.656946
          ],
          "type": "Point"
         },
         "geometry_name": "geom",
         "id": "nyu_2451_34572.59",
         "properties": {
          "annoangle": 0,
          "annoline1": "Windsor",
          "annoline2": "Terrace",
          "annoline3": null,
          "bbox": [
           -73.98007340430172,
           40.65694583575104,
           -73.98007340430172,
           40.65694583575104
          ],
          "borough": "Brooklyn",
          "name": "Windsor Terrace",
          "stacked": 2
         },
         "type": "Feature"
        },
        {
         "geometry": {
          "coordinates": [
           -73.964859,
           40.676822
          ],
          "type": "Point"
         },
         "geometry_name": "geom",
         "id": "nyu_2451_34572.60",
         "properties": {
          "annoangle": 0,
          "annoline1": "Prospect",
          "annoline2": "Heights",
          "annoline3": null,
          "bbox": [
           -73.9648592426269,
           40.676822262254724,
           -73.9648592426269,
           40.676822262254724
          ],
          "borough": "Brooklyn",
          "name": "Prospect Heights",
          "stacked": 2
         },
         "type": "Feature"
        },
        {
         "geometry": {
          "coordinates": [
           -73.910235,
           40.66395
          ],
          "type": "Point"
         },
         "geometry_name": "geom",
         "id": "nyu_2451_34572.61",
         "properties": {
          "annoangle": 0,
          "annoline1": "Brownsville",
          "annoline2": null,
          "annoline3": null,
          "bbox": [
           -73.91023536176607,
           40.66394994339755,
           -73.91023536176607,
           40.66394994339755
          ],
          "borough": "Brooklyn",
          "name": "Brownsville",
          "stacked": 1
         },
         "type": "Feature"
        },
        {
         "geometry": {
          "coordinates": [
           -73.958115,
           40.707144
          ],
          "type": "Point"
         },
         "geometry_name": "geom",
         "id": "nyu_2451_34572.62",
         "properties": {
          "annoangle": 0,
          "annoline1": "Williamsburg",
          "annoline2": null,
          "annoline3": null,
          "bbox": [
           -73.95811529220927,
           40.70714439344251,
           -73.95811529220927,
           40.70714439344251
          ],
          "borough": "Brooklyn",
          "name": "Williamsburg",
          "stacked": 1
         },
         "type": "Feature"
        },
        {
         "geometry": {
          "coordinates": [
           -73.925258,
           40.698116
          ],
          "type": "Point"
         },
         "geometry_name": "geom",
         "id": "nyu_2451_34572.63",
         "properties": {
          "annoangle": 0,
          "annoline1": "Bushwick",
          "annoline2": null,
          "annoline3": null,
          "bbox": [
           -73.92525797487045,
           40.69811611017901,
           -73.92525797487045,
           40.69811611017901
          ],
          "borough": "Brooklyn",
          "name": "Bushwick",
          "stacked": 1
         },
         "type": "Feature"
        },
        {
         "geometry": {
          "coordinates": [
           -73.941785,
           40.687232
          ],
          "type": "Point"
         },
         "geometry_name": "geom",
         "id": "nyu_2451_34572.64",
         "properties": {
          "annoangle": 0,
          "annoline1": "Bedford Stuyvesant",
          "annoline2": null,
          "annoline3": null,
          "bbox": [
           -73.94178488690297,
           40.687231607720456,
           -73.94178488690297,
           40.687231607720456
          ],
          "borough": "Brooklyn",
          "name": "Bedford Stuyvesant",
          "stacked": 1
         },
         "type": "Feature"
        },
        {
         "geometry": {
          "coordinates": [
           -73.993782,
           40.695864
          ],
          "type": "Point"
         },
         "geometry_name": "geom",
         "id": "nyu_2451_34572.65",
         "properties": {
          "annoangle": 0,
          "annoline1": "Brooklyn",
          "annoline2": "Heights",
          "annoline3": null,
          "bbox": [
           -73.99378225496424,
           40.695863722724084,
           -73.99378225496424,
           40.695863722724084
          ],
          "borough": "Brooklyn",
          "name": "Brooklyn Heights",
          "stacked": 2
         },
         "type": "Feature"
        },
        {
         "geometry": {
          "coordinates": [
           -73.998561,
           40.68792
          ],
          "type": "Point"
         },
         "geometry_name": "geom",
         "id": "nyu_2451_34572.66",
         "properties": {
          "annoangle": 0,
          "annoline1": "Cobble",
          "annoline2": "Hill",
          "annoline3": null,
          "bbox": [
           -73.99856139218463,
           40.687919722485574,
           -73.99856139218463,
           40.687919722485574
          ],
          "borough": "Brooklyn",
          "name": "Cobble Hill",
          "stacked": 2
         },
         "type": "Feature"
        },
        {
         "geometry": {
          "coordinates": [
           -73.994654,
           40.68054
          ],
          "type": "Point"
         },
         "geometry_name": "geom",
         "id": "nyu_2451_34572.67",
         "properties": {
          "annoangle": 0,
          "annoline1": "Carroll",
          "annoline2": "Gardens",
          "annoline3": null,
          "bbox": [
           -73.99465372828006,
           40.680540231076485,
           -73.99465372828006,
           40.680540231076485
          ],
          "borough": "Brooklyn",
          "name": "Carroll Gardens",
          "stacked": 2
         },
         "type": "Feature"
        },
        {
         "geometry": {
          "coordinates": [
           -74.012759,
           40.676253
          ],
          "type": "Point"
         },
         "geometry_name": "geom",
         "id": "nyu_2451_34572.68",
         "properties": {
          "annoangle": 0,
          "annoline1": "Red",
          "annoline2": "Hook",
          "annoline3": null,
          "bbox": [
           -74.0127589747356,
           40.676253230250886,
           -74.0127589747356,
           40.676253230250886
          ],
          "borough": "Brooklyn",
          "name": "Red Hook",
          "stacked": 2
         },
         "type": "Feature"
        },
        {
         "geometry": {
          "coordinates": [
           -73.994441,
           40.673931
          ],
          "type": "Point"
         },
         "geometry_name": "geom",
         "id": "nyu_2451_34572.69",
         "properties": {
          "annoangle": 0,
          "annoline1": "Gowanus",
          "annoline2": null,
          "annoline3": null,
          "bbox": [
           -73.99444087145339,
           40.673931143187154,
           -73.99444087145339,
           40.673931143187154
          ],
          "borough": "Brooklyn",
          "name": "Gowanus",
          "stacked": 1
         },
         "type": "Feature"
        },
        {
         "geometry": {
          "coordinates": [
           -73.972906,
           40.688527
          ],
          "type": "Point"
         },
         "geometry_name": "geom",
         "id": "nyu_2451_34572.70",
         "properties": {
          "annoangle": 0,
          "annoline1": "Fort",
          "annoline2": "Greene",
          "annoline3": null,
          "bbox": [
           -73.97290574369092,
           40.68852726018977,
           -73.97290574369092,
           40.68852726018977
          ],
          "borough": "Brooklyn",
          "name": "Fort Greene",
          "stacked": 2
         },
         "type": "Feature"
        },
        {
         "geometry": {
          "coordinates": [
           -73.97705,
           40.672321
          ],
          "type": "Point"
         },
         "geometry_name": "geom",
         "id": "nyu_2451_34572.71",
         "properties": {
          "annoangle": 0,
          "annoline1": "Park",
          "annoline2": "Slope",
          "annoline3": null,
          "bbox": [
           -73.97705030183924,
           40.67232052268197,
           -73.97705030183924,
           40.67232052268197
          ],
          "borough": "Brooklyn",
          "name": "Park Slope",
          "stacked": 2
         },
         "type": "Feature"
        },
        {
         "geometry": {
          "coordinates": [
           -73.876616,
           40.682391
          ],
          "type": "Point"
         },
         "geometry_name": "geom",
         "id": "nyu_2451_34572.72",
         "properties": {
          "annoangle": 0,
          "annoline1": "Cypress",
          "annoline2": "Hills",
          "annoline3": null,
          "bbox": [
           -73.87661596457296,
           40.68239101144211,
           -73.87661596457296,
           40.68239101144211
          ],
          "borough": "Brooklyn",
          "name": "Cypress Hills",
          "stacked": 2
         },
         "type": "Feature"
        },
        {
         "geometry": {
          "coordinates": [
           -73.880699,
           40.669926
          ],
          "type": "Point"
         },
         "geometry_name": "geom",
         "id": "nyu_2451_34572.73",
         "properties": {
          "annoangle": 0,
          "annoline1": "East New York",
          "annoline2": null,
          "annoline3": null,
          "bbox": [
           -73.88069863917366,
           40.669925700847045,
           -73.88069863917366,
           40.669925700847045
          ],
          "borough": "Brooklyn",
          "name": "East New York",
          "stacked": 1
         },
         "type": "Feature"
        },
        {
         "geometry": {
          "coordinates": [
           -73.87937,
           40.647589
          ],
          "type": "Point"
         },
         "geometry_name": "geom",
         "id": "nyu_2451_34572.74",
         "properties": {
          "annoangle": 0,
          "annoline1": "Starrett",
          "annoline2": "City",
          "annoline3": null,
          "bbox": [
           -73.87936970045875,
           40.64758905230874,
           -73.87936970045875,
           40.64758905230874
          ],
          "borough": "Brooklyn",
          "name": "Starrett City",
          "stacked": 2
         },
         "type": "Feature"
        },
        {
         "geometry": {
          "coordinates": [
           -73.902093,
           40.635564
          ],
          "type": "Point"
         },
         "geometry_name": "geom",
         "id": "nyu_2451_34572.75",
         "properties": {
          "annoangle": 0,
          "annoline1": "Canarsie",
          "annoline2": null,
          "annoline3": null,
          "bbox": [
           -73.90209269778966,
           40.63556432797428,
           -73.90209269778966,
           40.63556432797428
          ],
          "borough": "Brooklyn",
          "name": "Canarsie",
          "stacked": 1
         },
         "type": "Feature"
        },
        {
         "geometry": {
          "coordinates": [
           -73.929113,
           40.630446
          ],
          "type": "Point"
         },
         "geometry_name": "geom",
         "id": "nyu_2451_34572.76",
         "properties": {
          "annoangle": 0,
          "annoline1": "Flatlands",
          "annoline2": null,
          "annoline3": null,
          "bbox": [
           -73.92911302644674,
           40.630446043757466,
           -73.92911302644674,
           40.630446043757466
          ],
          "borough": "Brooklyn",
          "name": "Flatlands",
          "stacked": 1
         },
         "type": "Feature"
        },
        {
         "geometry": {
          "coordinates": [
           -73.908186,
           40.606336
          ],
          "type": "Point"
         },
         "geometry_name": "geom",
         "id": "nyu_2451_34572.77",
         "properties": {
          "annoangle": 0,
          "annoline1": "Mill",
          "annoline2": "Island",
          "annoline3": null,
          "bbox": [
           -73.90818571777423,
           40.606336421685626,
           -73.90818571777423,
           40.606336421685626
          ],
          "borough": "Brooklyn",
          "name": "Mill Island",
          "stacked": 2
         },
         "type": "Feature"
        },
        {
         "geometry": {
          "coordinates": [
           -73.943537,
           40.577914
          ],
          "type": "Point"
         },
         "geometry_name": "geom",
         "id": "nyu_2451_34572.78",
         "properties": {
          "annoangle": 0,
          "annoline1": "Manhattan",
          "annoline2": "Beach",
          "annoline3": null,
          "bbox": [
           -73.94353722891886,
           40.57791350308657,
           -73.94353722891886,
           40.57791350308657
          ],
          "borough": "Brooklyn",
          "name": "Manhattan Beach",
          "stacked": 2
         },
         "type": "Feature"
        },
        {
         "geometry": {
          "coordinates": [
           -73.988683,
           40.574293
          ],
          "type": "Point"
         },
         "geometry_name": "geom",
         "id": "nyu_2451_34572.79",
         "properties": {
          "annoangle": 0,
          "annoline1": "Coney Island",
          "annoline2": null,
          "annoline3": null,
          "bbox": [
           -73.98868295821637,
           40.57429256471601,
           -73.98868295821637,
           40.57429256471601
          ],
          "borough": "Brooklyn",
          "name": "Coney Island",
          "stacked": 1
         },
         "type": "Feature"
        },
        {
         "geometry": {
          "coordinates": [
           -73.998752,
           40.599519
          ],
          "type": "Point"
         },
         "geometry_name": "geom",
         "id": "nyu_2451_34572.80",
         "properties": {
          "annoangle": 0,
          "annoline1": "Bath",
          "annoline2": "Beach",
          "annoline3": null,
          "bbox": [
           -73.99875221443519,
           40.59951870282238,
           -73.99875221443519,
           40.59951870282238
          ],
          "borough": "Brooklyn",
          "name": "Bath Beach",
          "stacked": 2
         },
         "type": "Feature"
        },
        {
         "geometry": {
          "coordinates": [
           -73.990498,
           40.633131
          ],
          "type": "Point"
         },
         "geometry_name": "geom",
         "id": "nyu_2451_34572.81",
         "properties": {
          "annoangle": 0,
          "annoline1": "Borough",
          "annoline2": "Park",
          "annoline3": null,
          "bbox": [
           -73.99049823044811,
           40.633130512758015,
           -73.99049823044811,
           40.633130512758015
          ],
          "borough": "Brooklyn",
          "name": "Borough Park",
          "stacked": 2
         },
         "type": "Feature"
        },
        {
         "geometry": {
          "coordinates": [
           -74.019314,
           40.619219
          ],
          "type": "Point"
         },
         "geometry_name": "geom",
         "id": "nyu_2451_34572.82",
         "properties": {
          "annoangle": 0,
          "annoline1": "Dyker",
          "annoline2": "Heights",
          "annoline3": null,
          "bbox": [
           -74.01931375636022,
           40.619219457722636,
           -74.01931375636022,
           40.619219457722636
          ],
          "borough": "Brooklyn",
          "name": "Dyker Heights",
          "stacked": 2
         },
         "type": "Feature"
        },
        {
         "geometry": {
          "coordinates": [
           -73.930102,
           40.590848
          ],
          "type": "Point"
         },
         "geometry_name": "geom",
         "id": "nyu_2451_34572.83",
         "properties": {
          "annoangle": 0,
          "annoline1": "Gerritsen",
          "annoline2": "Beach",
          "annoline3": null,
          "bbox": [
           -73.93010170691196,
           40.590848433902046,
           -73.93010170691196,
           40.590848433902046
          ],
          "borough": "Brooklyn",
          "name": "Gerritsen Beach",
          "stacked": 2
         },
         "type": "Feature"
        },
        {
         "geometry": {
          "coordinates": [
           -73.931344,
           40.609748
          ],
          "type": "Point"
         },
         "geometry_name": "geom",
         "id": "nyu_2451_34572.84",
         "properties": {
          "annoangle": 0,
          "annoline1": "Marine Park",
          "annoline2": null,
          "annoline3": null,
          "bbox": [
           -73.93134404108497,
           40.609747779894604,
           -73.93134404108497,
           40.609747779894604
          ],
          "borough": "Brooklyn",
          "name": "Marine Park",
          "stacked": 1
         },
         "type": "Feature"
        },
        {
         "geometry": {
          "coordinates": [
           -73.967843,
           40.693229
          ],
          "type": "Point"
         },
         "geometry_name": "geom",
         "id": "nyu_2451_34572.85",
         "properties": {
          "annoangle": 0,
          "annoline1": "Clinton",
          "annoline2": "Hill",
          "annoline3": null,
          "bbox": [
           -73.96784306216367,
           40.693229421881504,
           -73.96784306216367,
           40.693229421881504
          ],
          "borough": "Brooklyn",
          "name": "Clinton Hill",
          "stacked": 2
         },
         "type": "Feature"
        },
        {
         "geometry": {
          "coordinates": [
           -74.007873,
           40.576375
          ],
          "type": "Point"
         },
         "geometry_name": "geom",
         "id": "nyu_2451_34572.86",
         "properties": {
          "annoangle": 0,
          "annoline1": "Sea",
          "annoline2": "Gate",
          "annoline3": null,
          "bbox": [
           -74.0078731120024,
           40.57637537890224,
           -74.0078731120024,
           40.57637537890224
          ],
          "borough": "Brooklyn",
          "name": "Sea Gate",
          "stacked": 2
         },
         "type": "Feature"
        },
        {
         "geometry": {
          "coordinates": [
           -73.983463,
           40.690844
          ],
          "type": "Point"
         },
         "geometry_name": "geom",
         "id": "nyu_2451_34572.87",
         "properties": {
          "annoangle": 0,
          "annoline1": "Downtown",
          "annoline2": null,
          "annoline3": null,
          "bbox": [
           -73.98346337431099,
           40.69084402109802,
           -73.98346337431099,
           40.69084402109802
          ],
          "borough": "Brooklyn",
          "name": "Downtown",
          "stacked": 1
         },
         "type": "Feature"
        },
        {
         "geometry": {
          "coordinates": [
           -73.983748,
           40.685683
          ],
          "type": "Point"
         },
         "geometry_name": "geom",
         "id": "nyu_2451_34572.88",
         "properties": {
          "annoangle": 0,
          "annoline1": "Boerum",
          "annoline2": "Hill",
          "annoline3": null,
          "bbox": [
           -73.98374824115798,
           40.685682912091444,
           -73.98374824115798,
           40.685682912091444
          ],
          "borough": "Brooklyn",
          "name": "Boerum Hill",
          "stacked": 2
         },
         "type": "Feature"
        },
        {
         "geometry": {
          "coordinates": [
           -73.954899,
           40.65842
          ],
          "type": "Point"
         },
         "geometry_name": "geom",
         "id": "nyu_2451_34572.89",
         "properties": {
          "annoangle": 0,
          "annoline1": "Prospect",
          "annoline2": "Lefferts",
          "annoline3": "Gardens",
          "bbox": [
           -73.95489867077713,
           40.658420017469815,
           -73.95489867077713,
           40.658420017469815
          ],
          "borough": "Brooklyn",
          "name": "Prospect Lefferts Gardens",
          "stacked": 3
         },
         "type": "Feature"
        },
        {
         "geometry": {
          "coordinates": [
           -73.913068,
           40.678403
          ],
          "type": "Point"
         },
         "geometry_name": "geom",
         "id": "nyu_2451_34572.90",
         "properties": {
          "annoangle": 0,
          "annoline1": "Ocean",
          "annoline2": "Hill",
          "annoline3": null,
          "bbox": [
           -73.91306831787395,
           40.678402554795355,
           -73.91306831787395,
           40.678402554795355
          ],
          "borough": "Brooklyn",
          "name": "Ocean Hill",
          "stacked": 2
         },
         "type": "Feature"
        },
        {
         "geometry": {
          "coordinates": [
           -73.867976,
           40.67857
          ],
          "type": "Point"
         },
         "geometry_name": "geom",
         "id": "nyu_2451_34572.91",
         "properties": {
          "annoangle": 0,
          "annoline1": "City",
          "annoline2": "Line",
          "annoline3": null,
          "bbox": [
           -73.86797598081334,
           40.67856995727479,
           -73.86797598081334,
           40.67856995727479
          ],
          "borough": "Brooklyn",
          "name": "City Line",
          "stacked": 2
         },
         "type": "Feature"
        },
        {
         "geometry": {
          "coordinates": [
           -73.898556,
           40.61515
          ],
          "type": "Point"
         },
         "geometry_name": "geom",
         "id": "nyu_2451_34572.92",
         "properties": {
          "annoangle": 0,
          "annoline1": "Bergen",
          "annoline2": "Beach",
          "annoline3": null,
          "bbox": [
           -73.89855633630317,
           40.61514955045308,
           -73.89855633630317,
           40.61514955045308
          ],
          "borough": "Brooklyn",
          "name": "Bergen Beach",
          "stacked": 2
         },
         "type": "Feature"
        },
        {
         "geometry": {
          "coordinates": [
           -73.957595,
           40.625596
          ],
          "type": "Point"
         },
         "geometry_name": "geom",
         "id": "nyu_2451_34572.93",
         "properties": {
          "annoangle": 0,
          "annoline1": "Midwood",
          "annoline2": null,
          "annoline3": null,
          "bbox": [
           -73.95759523489838,
           40.62559589869843,
           -73.95759523489838,
           40.62559589869843
          ],
          "borough": "Brooklyn",
          "name": "Midwood",
          "stacked": 1
         },
         "type": "Feature"
        },
        {
         "geometry": {
          "coordinates": [
           -73.962613,
           40.647009
          ],
          "type": "Point"
         },
         "geometry_name": "geom",
         "id": "nyu_2451_34572.94",
         "properties": {
          "annoangle": 0,
          "annoline1": "Prospect",
          "annoline2": "Park South",
          "annoline3": null,
          "bbox": [
           -73.96261316716048,
           40.647008603185185,
           -73.96261316716048,
           40.647008603185185
          ],
          "borough": "Brooklyn",
          "name": "Prospect Park South",
          "stacked": 2
         },
         "type": "Feature"
        },
        {
         "geometry": {
          "coordinates": [
           -73.916075,
           40.623845
          ],
          "type": "Point"
         },
         "geometry_name": "geom",
         "id": "nyu_2451_34572.95",
         "properties": {
          "annoangle": 0,
          "annoline1": "Georgetown",
          "annoline2": null,
          "annoline3": null,
          "bbox": [
           -73.91607483951324,
           40.62384524478419,
           -73.91607483951324,
           40.62384524478419
          ],
          "borough": "Brooklyn",
          "name": "Georgetown",
          "stacked": 1
         },
         "type": "Feature"
        },
        {
         "geometry": {
          "coordinates": [
           -73.938858,
           40.708492
          ],
          "type": "Point"
         },
         "geometry_name": "geom",
         "id": "nyu_2451_34572.96",
         "properties": {
          "annoangle": 0,
          "annoline1": "East",
          "annoline2": "Williamsburg",
          "annoline3": null,
          "bbox": [
           -73.93885815269195,
           40.70849241041548,
           -73.93885815269195,
           40.70849241041548
          ],
          "borough": "Brooklyn",
          "name": "East Williamsburg",
          "stacked": 2
         },
         "type": "Feature"
        },
        {
         "geometry": {
          "coordinates": [
           -73.958809,
           40.714823
          ],
          "type": "Point"
         },
         "geometry_name": "geom",
         "id": "nyu_2451_34572.97",
         "properties": {
          "annoangle": 0,
          "annoline1": "North Side",
          "annoline2": null,
          "annoline3": null,
          "bbox": [
           -73.95880857587582,
           40.714822906532014,
           -73.95880857587582,
           40.714822906532014
          ],
          "borough": "Brooklyn",
          "name": "North Side",
          "stacked": 1
         },
         "type": "Feature"
        },
        {
         "geometry": {
          "coordinates": [
           -73.958001,
           40.710861
          ],
          "type": "Point"
         },
         "geometry_name": "geom",
         "id": "nyu_2451_34572.98",
         "properties": {
          "annoangle": 0,
          "annoline1": "South Side",
          "annoline2": null,
          "annoline3": null,
          "bbox": [
           -73.95800095153331,
           40.71086147265064,
           -73.95800095153331,
           40.71086147265064
          ],
          "borough": "Brooklyn",
          "name": "South Side",
          "stacked": 1
         },
         "type": "Feature"
        },
        {
         "geometry": {
          "coordinates": [
           -73.968367,
           40.61306
          ],
          "type": "Point"
         },
         "geometry_name": "geom",
         "id": "nyu_2451_34572.99",
         "properties": {
          "annoangle": 0,
          "annoline1": "Ocean",
          "annoline2": "Parkway",
          "annoline3": null,
          "bbox": [
           -73.96836678035541,
           40.61305976667942,
           -73.96836678035541,
           40.61305976667942
          ],
          "borough": "Brooklyn",
          "name": "Ocean Parkway",
          "stacked": 2
         },
         "type": "Feature"
        },
        {
         "geometry": {
          "coordinates": [
           -74.031979,
           40.614768
          ],
          "type": "Point"
         },
         "geometry_name": "geom",
         "id": "nyu_2451_34572.100",
         "properties": {
          "annoangle": 0,
          "annoline1": "Fort",
          "annoline2": "Hamilton",
          "annoline3": null,
          "bbox": [
           -74.03197914537984,
           40.61476812694226,
           -74.03197914537984,
           40.61476812694226
          ],
          "borough": "Brooklyn",
          "name": "Fort Hamilton",
          "stacked": 2
         },
         "type": "Feature"
        },
        {
         "geometry": {
          "coordinates": [
           -73.994279,
           40.715618
          ],
          "type": "Point"
         },
         "geometry_name": "geom",
         "id": "nyu_2451_34572.101",
         "properties": {
          "annoangle": 0,
          "annoline1": "Chinatown",
          "annoline2": null,
          "annoline3": null,
          "bbox": [
           -73.99427936255978,
           40.71561842231432,
           -73.99427936255978,
           40.71561842231432
          ],
          "borough": "Manhattan",
          "name": "Chinatown",
          "stacked": 1
         },
         "type": "Feature"
        },
        {
         "geometry": {
          "coordinates": [
           -73.9369,
           40.851903
          ],
          "type": "Point"
         },
         "geometry_name": "geom",
         "id": "nyu_2451_34572.102",
         "properties": {
          "annoangle": 0,
          "annoline1": "Washington",
          "annoline2": "Heights",
          "annoline3": null,
          "bbox": [
           -73.93690027985234,
           40.85190252555305,
           -73.93690027985234,
           40.85190252555305
          ],
          "borough": "Manhattan",
          "name": "Washington Heights",
          "stacked": 2
         },
         "type": "Feature"
        },
        {
         "geometry": {
          "coordinates": [
           -73.92121,
           40.867684
          ],
          "type": "Point"
         },
         "geometry_name": "geom",
         "id": "nyu_2451_34572.103",
         "properties": {
          "annoangle": 0,
          "annoline1": "Inwood",
          "annoline2": null,
          "annoline3": null,
          "bbox": [
           -73.92121042203897,
           40.86768396449915,
           -73.92121042203897,
           40.86768396449915
          ],
          "borough": "Manhattan",
          "name": "Inwood",
          "stacked": 1
         },
         "type": "Feature"
        },
        {
         "geometry": {
          "coordinates": [
           -73.949688,
           40.823604
          ],
          "type": "Point"
         },
         "geometry_name": "geom",
         "id": "nyu_2451_34572.104",
         "properties": {
          "annoangle": 0,
          "annoline1": "Hamilton",
          "annoline2": "Heights",
          "annoline3": null,
          "bbox": [
           -73.94968791883366,
           40.823604284811935,
           -73.94968791883366,
           40.823604284811935
          ],
          "borough": "Manhattan",
          "name": "Hamilton Heights",
          "stacked": 2
         },
         "type": "Feature"
        },
        {
         "geometry": {
          "coordinates": [
           -73.957385,
           40.816934
          ],
          "type": "Point"
         },
         "geometry_name": "geom",
         "id": "nyu_2451_34572.105",
         "properties": {
          "annoangle": 0,
          "annoline1": "Manhattanville",
          "annoline2": null,
          "annoline3": null,
          "bbox": [
           -73.9573853935188,
           40.8169344294978,
           -73.9573853935188,
           40.8169344294978
          ],
          "borough": "Manhattan",
          "name": "Manhattanville",
          "stacked": 2
         },
         "type": "Feature"
        },
        {
         "geometry": {
          "coordinates": [
           -73.943211,
           40.815976
          ],
          "type": "Point"
         },
         "geometry_name": "geom",
         "id": "nyu_2451_34572.106",
         "properties": {
          "annoangle": 0,
          "annoline1": "Central",
          "annoline2": "Harlem",
          "annoline3": null,
          "bbox": [
           -73.94321112603905,
           40.81597606742414,
           -73.94321112603905,
           40.81597606742414
          ],
          "borough": "Manhattan",
          "name": "Central Harlem",
          "stacked": 2
         },
         "type": "Feature"
        },
        {
         "geometry": {
          "coordinates": [
           -73.944182,
           40.792249
          ],
          "type": "Point"
         },
         "geometry_name": "geom",
         "id": "nyu_2451_34572.107",
         "properties": {
          "annoangle": 0,
          "annoline1": "East",
          "annoline2": "Harlem",
          "annoline3": null,
          "bbox": [
           -73.94418223148524,
           40.79224946663033,
           -73.94418223148524,
           40.79224946663033
          ],
          "borough": "Manhattan",
          "name": "East Harlem",
          "stacked": 2
         },
         "type": "Feature"
        },
        {
         "geometry": {
          "coordinates": [
           -73.960508,
           40.775639
          ],
          "type": "Point"
         },
         "geometry_name": "geom",
         "id": "nyu_2451_34572.108",
         "properties": {
          "annoangle": 0,
          "annoline1": "Upper",
          "annoline2": "East",
          "annoline3": "Side",
          "bbox": [
           -73.96050763135,
           40.775638573301805,
           -73.96050763135,
           40.775638573301805
          ],
          "borough": "Manhattan",
          "name": "Upper East Side",
          "stacked": 3
         },
         "type": "Feature"
        },
        {
         "geometry": {
          "coordinates": [
           -73.947118,
           40.77593
          ],
          "type": "Point"
         },
         "geometry_name": "geom",
         "id": "nyu_2451_34572.109",
         "properties": {
          "annoangle": 0,
          "annoline1": "Yorkville",
          "annoline2": null,
          "annoline3": null,
          "bbox": [
           -73.94711784471826,
           40.775929849884875,
           -73.94711784471826,
           40.775929849884875
          ],
          "borough": "Manhattan",
          "name": "Yorkville",
          "stacked": 1
         },
         "type": "Feature"
        },
        {
         "geometry": {
          "coordinates": [
           -73.95886,
           40.768113
          ],
          "type": "Point"
         },
         "geometry_name": "geom",
         "id": "nyu_2451_34572.110",
         "properties": {
          "annoangle": 0,
          "annoline1": "Lenox",
          "annoline2": "Hill",
          "annoline3": null,
          "bbox": [
           -73.9588596881376,
           40.76811265828733,
           -73.9588596881376,
           40.76811265828733
          ],
          "borough": "Manhattan",
          "name": "Lenox Hill",
          "stacked": 2
         },
         "type": "Feature"
        },
        {
         "geometry": {
          "coordinates": [
           -73.949168,
           40.76216
          ],
          "type": "Point"
         },
         "geometry_name": "geom",
         "id": "nyu_2451_34572.111",
         "properties": {
          "annoangle": 56,
          "annoline1": "Roosevelt Island",
          "annoline2": null,
          "annoline3": null,
          "bbox": [
           -73.94916769227953,
           40.76215960576283,
           -73.94916769227953,
           40.76215960576283
          ],
          "borough": "Manhattan",
          "name": "Roosevelt Island",
          "stacked": 1
         },
         "type": "Feature"
        },
        {
         "geometry": {
          "coordinates": [
           -73.977059,
           40.787658
          ],
          "type": "Point"
         },
         "geometry_name": "geom",
         "id": "nyu_2451_34572.112",
         "properties": {
          "annoangle": 0,
          "annoline1": "Upper",
          "annoline2": "West",
          "annoline3": "Side",
          "bbox": [
           -73.97705923630603,
           40.787657998534854,
           -73.97705923630603,
           40.787657998534854
          ],
          "borough": "Manhattan",
          "name": "Upper West Side",
          "stacked": 3
         },
         "type": "Feature"
        },
        {
         "geometry": {
          "coordinates": [
           -73.985338,
           40.773529
          ],
          "type": "Point"
         },
         "geometry_name": "geom",
         "id": "nyu_2451_34572.113",
         "properties": {
          "annoangle": 0,
          "annoline1": "Lincoln",
          "annoline2": "Square",
          "annoline3": null,
          "bbox": [
           -73.98533777001262,
           40.77352888942166,
           -73.98533777001262,
           40.77352888942166
          ],
          "borough": "Manhattan",
          "name": "Lincoln Square",
          "stacked": 2
         },
         "type": "Feature"
        },
        {
         "geometry": {
          "coordinates": [
           -73.996119,
           40.759101
          ],
          "type": "Point"
         },
         "geometry_name": "geom",
         "id": "nyu_2451_34572.114",
         "properties": {
          "annoangle": 0,
          "annoline1": "Clinton",
          "annoline2": null,
          "annoline3": null,
          "bbox": [
           -73.99611936309479,
           40.75910089146212,
           -73.99611936309479,
           40.75910089146212
          ],
          "borough": "Manhattan",
          "name": "Clinton",
          "stacked": 1
         },
         "type": "Feature"
        },
        {
         "geometry": {
          "coordinates": [
           -73.981669,
           40.754691
          ],
          "type": "Point"
         },
         "geometry_name": "geom",
         "id": "nyu_2451_34572.115",
         "properties": {
          "annoangle": 0,
          "annoline1": "Midtown",
          "annoline2": null,
          "annoline3": null,
          "bbox": [
           -73.98166882730304,
           40.75469110270623,
           -73.98166882730304,
           40.75469110270623
          ],
          "borough": "Manhattan",
          "name": "Midtown",
          "stacked": 1
         },
         "type": "Feature"
        },
        {
         "geometry": {
          "coordinates": [
           -73.978332,
           40.748303
          ],
          "type": "Point"
         },
         "geometry_name": "geom",
         "id": "nyu_2451_34572.116",
         "properties": {
          "annoangle": 0,
          "annoline1": "Murray",
          "annoline2": "Hill",
          "annoline3": null,
          "bbox": [
           -73.97833207924127,
           40.748303077252174,
           -73.97833207924127,
           40.748303077252174
          ],
          "borough": "Manhattan",
          "name": "Murray Hill",
          "stacked": 2
         },
         "type": "Feature"
        },
        {
         "geometry": {
          "coordinates": [
           -74.003116,
           40.744035
          ],
          "type": "Point"
         },
         "geometry_name": "geom",
         "id": "nyu_2451_34572.117",
         "properties": {
          "annoangle": 0,
          "annoline1": "Chelsea",
          "annoline2": null,
          "annoline3": null,
          "bbox": [
           -74.00311633472813,
           40.744034706747975,
           -74.00311633472813,
           40.744034706747975
          ],
          "borough": "Manhattan",
          "name": "Chelsea",
          "stacked": 1
         },
         "type": "Feature"
        },
        {
         "geometry": {
          "coordinates": [
           -73.999914,
           40.726933
          ],
          "type": "Point"
         },
         "geometry_name": "geom",
         "id": "nyu_2451_34572.118",
         "properties": {
          "annoangle": 0,
          "annoline1": "Greenwich",
          "annoline2": "Village",
          "annoline3": null,
          "bbox": [
           -73.99991402945902,
           40.72693288536128,
           -73.99991402945902,
           40.72693288536128
          ],
          "borough": "Manhattan",
          "name": "Greenwich Village",
          "stacked": 2
         },
         "type": "Feature"
        },
        {
         "geometry": {
          "coordinates": [
           -73.982226,
           40.727847
          ],
          "type": "Point"
         },
         "geometry_name": "geom",
         "id": "nyu_2451_34572.119",
         "properties": {
          "annoangle": 0,
          "annoline1": "East",
          "annoline2": "Village",
          "annoline3": null,
          "bbox": [
           -73.98222616506416,
           40.727846777270244,
           -73.98222616506416,
           40.727846777270244
          ],
          "borough": "Manhattan",
          "name": "East Village",
          "stacked": 2
         },
         "type": "Feature"
        },
        {
         "geometry": {
          "coordinates": [
           -73.98089,
           40.717807
          ],
          "type": "Point"
         },
         "geometry_name": "geom",
         "id": "nyu_2451_34572.120",
         "properties": {
          "annoangle": 0,
          "annoline1": "Lower",
          "annoline2": "East",
          "annoline3": "Side",
          "bbox": [
           -73.98089031999291,
           40.71780674892765,
           -73.98089031999291,
           40.71780674892765
          ],
          "borough": "Manhattan",
          "name": "Lower East Side",
          "stacked": 3
         },
         "type": "Feature"
        },
        {
         "geometry": {
          "coordinates": [
           -74.010683,
           40.721522
          ],
          "type": "Point"
         },
         "geometry_name": "geom",
         "id": "nyu_2451_34572.121",
         "properties": {
          "annoangle": 0,
          "annoline1": "Tribeca",
          "annoline2": null,
          "annoline3": null,
          "bbox": [
           -74.01068328559087,
           40.721521967443216,
           -74.01068328559087,
           40.721521967443216
          ],
          "borough": "Manhattan",
          "name": "Tribeca",
          "stacked": 1
         },
         "type": "Feature"
        },
        {
         "geometry": {
          "coordinates": [
           -73.997305,
           40.719324
          ],
          "type": "Point"
         },
         "geometry_name": "geom",
         "id": "nyu_2451_34572.122",
         "properties": {
          "annoangle": 0,
          "annoline1": "Little",
          "annoline2": "Italy",
          "annoline3": null,
          "bbox": [
           -73.99730467208073,
           40.71932379395907,
           -73.99730467208073,
           40.71932379395907
          ],
          "borough": "Manhattan",
          "name": "Little Italy",
          "stacked": 2
         },
         "type": "Feature"
        },
        {
         "geometry": {
          "coordinates": [
           -74.000657,
           40.722184
          ],
          "type": "Point"
         },
         "geometry_name": "geom",
         "id": "nyu_2451_34572.123",
         "properties": {
          "annoangle": 0,
          "annoline1": "Soho",
          "annoline2": null,
          "annoline3": null,
          "bbox": [
           -74.00065666959759,
           40.72218384131794,
           -74.00065666959759,
           40.72218384131794
          ],
          "borough": "Manhattan",
          "name": "Soho",
          "stacked": 1
         },
         "type": "Feature"
        },
        {
         "geometry": {
          "coordinates": [
           -74.00618,
           40.734434
          ],
          "type": "Point"
         },
         "geometry_name": "geom",
         "id": "nyu_2451_34572.124",
         "properties": {
          "annoangle": 0,
          "annoline1": "West",
          "annoline2": "Village",
          "annoline3": null,
          "bbox": [
           -74.00617998126812,
           40.73443393572434,
           -74.00617998126812,
           40.73443393572434
          ],
          "borough": "Manhattan",
          "name": "West Village",
          "stacked": 2
         },
         "type": "Feature"
        },
        {
         "geometry": {
          "coordinates": [
           -73.964286,
           40.797307
          ],
          "type": "Point"
         },
         "geometry_name": "geom",
         "id": "nyu_2451_34572.125",
         "properties": {
          "annoangle": 0,
          "annoline1": "Manhattan",
          "annoline2": "Valley",
          "annoline3": null,
          "bbox": [
           -73.96428617740655,
           40.797307041702865,
           -73.96428617740655,
           40.797307041702865
          ],
          "borough": "Manhattan",
          "name": "Manhattan Valley",
          "stacked": 2
         },
         "type": "Feature"
        },
        {
         "geometry": {
          "coordinates": [
           -73.963896,
           40.808
          ],
          "type": "Point"
         },
         "geometry_name": "geom",
         "id": "nyu_2451_34572.126",
         "properties": {
          "annoangle": 0,
          "annoline1": "Morningside",
          "annoline2": "Heights",
          "annoline3": null,
          "bbox": [
           -73.96389627905332,
           40.807999738165826,
           -73.96389627905332,
           40.807999738165826
          ],
          "borough": "Manhattan",
          "name": "Morningside Heights",
          "stacked": 2
         },
         "type": "Feature"
        },
        {
         "geometry": {
          "coordinates": [
           -73.981376,
           40.73721
          ],
          "type": "Point"
         },
         "geometry_name": "geom",
         "id": "nyu_2451_34572.127",
         "properties": {
          "annoangle": 0,
          "annoline1": "Gramercy",
          "annoline2": null,
          "annoline3": null,
          "bbox": [
           -73.98137594833541,
           40.737209832715,
           -73.98137594833541,
           40.737209832715
          ],
          "borough": "Manhattan",
          "name": "Gramercy",
          "stacked": 1
         },
         "type": "Feature"
        },
        {
         "geometry": {
          "coordinates": [
           -74.016869,
           40.711932
          ],
          "type": "Point"
         },
         "geometry_name": "geom",
         "id": "nyu_2451_34572.128",
         "properties": {
          "annoangle": 0,
          "annoline1": "Battery",
          "annoline2": "Park",
          "annoline3": "City",
          "bbox": [
           -74.01686930508617,
           40.71193198394565,
           -74.01686930508617,
           40.71193198394565
          ],
          "borough": "Manhattan",
          "name": "Battery Park City",
          "stacked": 3
         },
         "type": "Feature"
        },
        {
         "geometry": {
          "coordinates": [
           -74.010665,
           40.707107
          ],
          "type": "Point"
         },
         "geometry_name": "geom",
         "id": "nyu_2451_34572.129",
         "properties": {
          "annoangle": 0,
          "annoline1": "Financial",
          "annoline2": "District",
          "annoline3": null,
          "bbox": [
           -74.0106654452127,
           40.70710710727048,
           -74.0106654452127,
           40.70710710727048
          ],
          "borough": "Manhattan",
          "name": "Financial District",
          "stacked": 2
         },
         "type": "Feature"
        },
        {
         "geometry": {
          "coordinates": [
           -73.915654,
           40.768509
          ],
          "type": "Point"
         },
         "geometry_name": "geom",
         "id": "nyu_2451_34572.130",
         "properties": {
          "annoangle": 0,
          "annoline1": "Astoria",
          "annoline2": null,
          "annoline3": null,
          "bbox": [
           -73.91565374304234,
           40.76850859335492,
           -73.91565374304234,
           40.76850859335492
          ],
          "borough": "Queens",
          "name": "Astoria",
          "stacked": 1
         },
         "type": "Feature"
        },
        {
         "geometry": {
          "coordinates": [
           -73.901842,
           40.746349
          ],
          "type": "Point"
         },
         "geometry_name": "geom",
         "id": "nyu_2451_34572.131",
         "properties": {
          "annoangle": 0,
          "annoline1": "Woodside",
          "annoline2": null,
          "annoline3": null,
          "bbox": [
           -73.90184166838284,
           40.74634908860222,
           -73.90184166838284,
           40.74634908860222
          ],
          "borough": "Queens",
          "name": "Woodside",
          "stacked": 1
         },
         "type": "Feature"
        },
        {
         "geometry": {
          "coordinates": [
           -73.882821,
           40.751981
          ],
          "type": "Point"
         },
         "geometry_name": "geom",
         "id": "nyu_2451_34572.132",
         "properties": {
          "annoangle": 0,
          "annoline1": "Jackson",
          "annoline2": "Heights",
          "annoline3": null,
          "bbox": [
           -73.88282109164365,
           40.75198138007367,
           -73.88282109164365,
           40.75198138007367
          ],
          "borough": "Queens",
          "name": "Jackson Heights",
          "stacked": 2
         },
         "type": "Feature"
        },
        {
         "geometry": {
          "coordinates": [
           -73.881656,
           40.744049
          ],
          "type": "Point"
         },
         "geometry_name": "geom",
         "id": "nyu_2451_34572.133",
         "properties": {
          "annoangle": 0,
          "annoline1": "Elmhurst",
          "annoline2": null,
          "annoline3": null,
          "bbox": [
           -73.88165622288388,
           40.744048505122024,
           -73.88165622288388,
           40.744048505122024
          ],
          "borough": "Queens",
          "name": "Elmhurst",
          "stacked": 1
         },
         "type": "Feature"
        },
        {
         "geometry": {
          "coordinates": [
           -73.838138,
           40.654225
          ],
          "type": "Point"
         },
         "geometry_name": "geom",
         "id": "nyu_2451_34572.134",
         "properties": {
          "annoangle": 0,
          "annoline1": "Howard",
          "annoline2": "Beach",
          "annoline3": null,
          "bbox": [
           -73.8381376460028,
           40.65422527738487,
           -73.8381376460028,
           40.65422527738487
          ],
          "borough": "Queens",
          "name": "Howard Beach",
          "stacked": 2
         },
         "type": "Feature"
        },
        {
         "geometry": {
          "coordinates": [
           -73.856825,
           40.742382
          ],
          "type": "Point"
         },
         "geometry_name": "geom",
         "id": "nyu_2451_34572.135",
         "properties": {
          "annoangle": 0,
          "annoline1": "Corona",
          "annoline2": null,
          "annoline3": null,
          "bbox": [
           -73.85682497345258,
           40.74238175015667,
           -73.85682497345258,
           40.74238175015667
          ],
          "borough": "Queens",
          "name": "Corona",
          "stacked": 1
         },
         "type": "Feature"
        },
        {
         "geometry": {
          "coordinates": [
           -73.844475,
           40.725264
          ],
          "type": "Point"
         },
         "geometry_name": "geom",
         "id": "nyu_2451_34572.136",
         "properties": {
          "annoangle": 0,
          "annoline1": "Forest",
          "annoline2": "Hills",
          "annoline3": null,
          "bbox": [
           -73.84447500788983,
           40.72526378216503,
           -73.84447500788983,
           40.72526378216503
          ],
          "borough": "Queens",
          "name": "Forest Hills",
          "stacked": 2
         },
         "type": "Feature"
        },
        {
         "geometry": {
          "coordinates": [
           -73.829819,
           40.705179
          ],
          "type": "Point"
         },
         "geometry_name": "geom",
         "id": "nyu_2451_34572.137",
         "properties": {
          "annoangle": 0,
          "annoline1": "Kew",
          "annoline2": "Gardens",
          "annoline3": null,
          "bbox": [
           -73.82981905825703,
           40.7051790354148,
           -73.82981905825703,
           40.7051790354148
          ],
          "borough": "Queens",
          "name": "Kew Gardens",
          "stacked": 2
         },
         "type": "Feature"
        },
        {
         "geometry": {
          "coordinates": [
           -73.831833,
           40.697947
          ],
          "type": "Point"
         },
         "geometry_name": "geom",
         "id": "nyu_2451_34572.138",
         "properties": {
          "annoangle": 0,
          "annoline1": "Richmond",
          "annoline2": "Hill",
          "annoline3": null,
          "bbox": [
           -73.83183321446887,
           40.69794731471763,
           -73.83183321446887,
           40.69794731471763
          ],
          "borough": "Queens",
          "name": "Richmond Hill",
          "stacked": 2
         },
         "type": "Feature"
        },
        {
         "geometry": {
          "coordinates": [
           -73.831773,
           40.764454
          ],
          "type": "Point"
         },
         "geometry_name": "geom",
         "id": "nyu_2451_34572.139",
         "properties": {
          "annoangle": 0,
          "annoline1": "Flushing",
          "annoline2": null,
          "annoline3": null,
          "bbox": [
           -73.83177300329582,
           40.76445419697846,
           -73.83177300329582,
           40.76445419697846
          ],
          "borough": "Queens",
          "name": "Flushing",
          "stacked": 1
         },
         "type": "Feature"
        },
        {
         "geometry": {
          "coordinates": [
           -73.939202,
           40.750217
          ],
          "type": "Point"
         },
         "geometry_name": "geom",
         "id": "nyu_2451_34572.140",
         "properties": {
          "annoangle": 0,
          "annoline1": "Long",
          "annoline2": "Island",
          "annoline3": "City",
          "bbox": [
           -73.93920223915505,
           40.75021734610528,
           -73.93920223915505,
           40.75021734610528
          ],
          "borough": "Queens",
          "name": "Long Island City",
          "stacked": 3
         },
         "type": "Feature"
        },
        {
         "geometry": {
          "coordinates": [
           -73.926916,
           40.740176
          ],
          "type": "Point"
         },
         "geometry_name": "geom",
         "id": "nyu_2451_34572.141",
         "properties": {
          "annoangle": 0,
          "annoline1": "Sunnyside",
          "annoline2": null,
          "annoline3": null,
          "bbox": [
           -73.92691617561577,
           40.74017628351924,
           -73.92691617561577,
           40.74017628351924
          ],
          "borough": "Queens",
          "name": "Sunnyside",
          "stacked": 1
         },
         "type": "Feature"
        },
        {
         "geometry": {
          "coordinates": [
           -73.867041,
           40.764073
          ],
          "type": "Point"
         },
         "geometry_name": "geom",
         "id": "nyu_2451_34572.142",
         "properties": {
          "annoangle": 0,
          "annoline1": "East",
          "annoline2": "Elmhurst",
          "annoline3": null,
          "bbox": [
           -73.86704147658772,
           40.76407323883091,
           -73.86704147658772,
           40.76407323883091
          ],
          "borough": "Queens",
          "name": "East Elmhurst",
          "stacked": 2
         },
         "type": "Feature"
        },
        {
         "geometry": {
          "coordinates": [
           -73.896217,
           40.725427
          ],
          "type": "Point"
         },
         "geometry_name": "geom",
         "id": "nyu_2451_34572.143",
         "properties": {
          "annoangle": 0,
          "annoline1": "Maspeth",
          "annoline2": null,
          "annoline3": null,
          "bbox": [
           -73.89621713626859,
           40.725427374093606,
           -73.89621713626859,
           40.725427374093606
          ],
          "borough": "Queens",
          "name": "Maspeth",
          "stacked": 1
         },
         "type": "Feature"
        },
        {
         "geometry": {
          "coordinates": [
           -73.901435,
           40.708323
          ],
          "type": "Point"
         },
         "geometry_name": "geom",
         "id": "nyu_2451_34572.144",
         "properties": {
          "annoangle": 0,
          "annoline1": "Ridgewood",
          "annoline2": null,
          "annoline3": null,
          "bbox": [
           -73.90143517559589,
           40.70832315613858,
           -73.90143517559589,
           40.70832315613858
          ],
          "borough": "Queens",
          "name": "Ridgewood",
          "stacked": 1
         },
         "type": "Feature"
        },
        {
         "geometry": {
          "coordinates": [
           -73.870742,
           40.702762
          ],
          "type": "Point"
         },
         "geometry_name": "geom",
         "id": "nyu_2451_34572.145",
         "properties": {
          "annoangle": 0,
          "annoline1": "Glendale",
          "annoline2": null,
          "annoline3": null,
          "bbox": [
           -73.87074167435605,
           40.70276242967838,
           -73.87074167435605,
           40.70276242967838
          ],
          "borough": "Queens",
          "name": "Glendale",
          "stacked": 1
         },
         "type": "Feature"
        },
        {
         "geometry": {
          "coordinates": [
           -73.857827,
           40.728974
          ],
          "type": "Point"
         },
         "geometry_name": "geom",
         "id": "nyu_2451_34572.146",
         "properties": {
          "annoangle": 0,
          "annoline1": "Rego Park",
          "annoline2": null,
          "annoline3": null,
          "bbox": [
           -73.8578268690537,
           40.72897409480735,
           -73.8578268690537,
           40.72897409480735
          ],
          "borough": "Queens",
          "name": "Rego Park",
          "stacked": 1
         },
         "type": "Feature"
        },
        {
         "geometry": {
          "coordinates": [
           -73.85811,
           40.689887
          ],
          "type": "Point"
         },
         "geometry_name": "geom",
         "id": "nyu_2451_34572.147",
         "properties": {
          "annoangle": 0,
          "annoline1": "Woodhaven",
          "annoline2": null,
          "annoline3": null,
          "bbox": [
           -73.8581104655432,
           40.68988687915789,
           -73.8581104655432,
           40.68988687915789
          ],
          "borough": "Queens",
          "name": "Woodhaven",
          "stacked": 1
         },
         "type": "Feature"
        },
        {
         "geometry": {
          "coordinates": [
           -73.843203,
           40.680708
          ],
          "type": "Point"
         },
         "geometry_name": "geom",
         "id": "nyu_2451_34572.148",
         "properties": {
          "annoangle": 0,
          "annoline1": "Ozone Park",
          "annoline2": null,
          "annoline3": null,
          "bbox": [
           -73.84320266173447,
           40.680708468265415,
           -73.84320266173447,
           40.680708468265415
          ],
          "borough": "Queens",
          "name": "Ozone Park",
          "stacked": 1
         },
         "type": "Feature"
        },
        {
         "geometry": {
          "coordinates": [
           -73.809865,
           40.66855
          ],
          "type": "Point"
         },
         "geometry_name": "geom",
         "id": "nyu_2451_34572.149",
         "properties": {
          "annoangle": 0,
          "annoline1": "South",
          "annoline2": "Ozone Park",
          "annoline3": null,
          "bbox": [
           -73.80986478649041,
           40.66854957767195,
           -73.80986478649041,
           40.66854957767195
          ],
          "borough": "Queens",
          "name": "South Ozone Park",
          "stacked": 2
         },
         "type": "Feature"
        },
        {
         "geometry": {
          "coordinates": [
           -73.843045,
           40.784903
          ],
          "type": "Point"
         },
         "geometry_name": "geom",
         "id": "nyu_2451_34572.150",
         "properties": {
          "annoangle": 0,
          "annoline1": "College",
          "annoline2": "Point",
          "annoline3": null,
          "bbox": [
           -73.84304528896125,
           40.784902749260205,
           -73.84304528896125,
           40.784902749260205
          ],
          "borough": "Queens",
          "name": "College Point",
          "stacked": 2
         },
         "type": "Feature"
        },
        {
         "geometry": {
          "coordinates": [
           -73.814202,
           40.781291
          ],
          "type": "Point"
         },
         "geometry_name": "geom",
         "id": "nyu_2451_34572.151",
         "properties": {
          "annoangle": 0,
          "annoline1": "Whitestone",
          "annoline2": null,
          "annoline3": null,
          "bbox": [
           -73.81420216610863,
           40.78129076602694,
           -73.81420216610863,
           40.78129076602694
          ],
          "borough": "Queens",
          "name": "Whitestone",
          "stacked": 1
         },
         "type": "Feature"
        },
        {
         "geometry": {
          "coordinates": [
           -73.774274,
           40.766041
          ],
          "type": "Point"
         },
         "geometry_name": "geom",
         "id": "nyu_2451_34572.152",
         "properties": {
          "annoangle": 0,
          "annoline1": "Bayside",
          "annoline2": null,
          "annoline3": null,
          "bbox": [
           -73.7742736306867,
           40.76604063281064,
           -73.7742736306867,
           40.76604063281064
          ],
          "borough": "Queens",
          "name": "Bayside",
          "stacked": 1
         },
         "type": "Feature"
        },
        {
         "geometry": {
          "coordinates": [
           -73.791762,
           40.76173
          ],
          "type": "Point"
         },
         "geometry_name": "geom",
         "id": "nyu_2451_34572.153",
         "properties": {
          "annoangle": 0,
          "annoline1": "Auburndale",
          "annoline2": null,
          "annoline3": null,
          "bbox": [
           -73.79176243728061,
           40.76172954903262,
           -73.79176243728061,
           40.76172954903262
          ],
          "borough": "Queens",
          "name": "Auburndale",
          "stacked": 1
         },
         "type": "Feature"
        },
        {
         "geometry": {
          "coordinates": [
           -73.738898,
           40.770826
          ],
          "type": "Point"
         },
         "geometry_name": "geom",
         "id": "nyu_2451_34572.154",
         "properties": {
          "annoangle": 0,
          "annoline1": "Little",
          "annoline2": "Neck",
          "annoline3": null,
          "bbox": [
           -73.7388977558074,
           40.7708261928267,
           -73.7388977558074,
           40.7708261928267
          ],
          "borough": "Queens",
          "name": "Little Neck",
          "stacked": 2
         },
         "type": "Feature"
        },
        {
         "geometry": {
          "coordinates": [
           -73.742498,
           40.766846
          ],
          "type": "Point"
         },
         "geometry_name": "geom",
         "id": "nyu_2451_34572.155",
         "properties": {
          "annoangle": 0,
          "annoline1": "Douglaston",
          "annoline2": null,
          "annoline3": null,
          "bbox": [
           -73.7424982072733,
           40.76684609790763,
           -73.7424982072733,
           40.76684609790763
          ],
          "borough": "Queens",
          "name": "Douglaston",
          "stacked": 1
         },
         "type": "Feature"
        },
        {
         "geometry": {
          "coordinates": [
           -73.715481,
           40.749441
          ],
          "type": "Point"
         },
         "geometry_name": "geom",
         "id": "nyu_2451_34572.156",
         "properties": {
          "annoangle": 0,
          "annoline1": "Glen",
          "annoline2": "Oaks",
          "annoline3": null,
          "bbox": [
           -73.71548118999145,
           40.74944079974332,
           -73.71548118999145,
           40.74944079974332
          ],
          "borough": "Queens",
          "name": "Glen Oaks",
          "stacked": 2
         },
         "type": "Feature"
        },
        {
         "geometry": {
          "coordinates": [
           -73.720128,
           40.728573
          ],
          "type": "Point"
         },
         "geometry_name": "geom",
         "id": "nyu_2451_34572.157",
         "properties": {
          "annoangle": 0,
          "annoline1": "Bellerose",
          "annoline2": null,
          "annoline3": null,
          "bbox": [
           -73.72012814826903,
           40.72857318176675,
           -73.72012814826903,
           40.72857318176675
          ],
          "borough": "Queens",
          "name": "Bellerose",
          "stacked": 1
         },
         "type": "Feature"
        },
        {
         "geometry": {
          "coordinates": [
           -73.820878,
           40.722578
          ],
          "type": "Point"
         },
         "geometry_name": "geom",
         "id": "nyu_2451_34572.158",
         "properties": {
          "annoangle": 0,
          "annoline1": "Kew",
          "annoline2": "Gardens",
          "annoline3": "Hills",
          "bbox": [
           -73.82087764933566,
           40.722578244228046,
           -73.82087764933566,
           40.722578244228046
          ],
          "borough": "Queens",
          "name": "Kew Gardens Hills",
          "stacked": 3
         },
         "type": "Feature"
        },
        {
         "geometry": {
          "coordinates": [
           -73.782713,
           40.734394
          ],
          "type": "Point"
         },
         "geometry_name": "geom",
         "id": "nyu_2451_34572.159",
         "properties": {
          "annoangle": 0,
          "annoline1": "Fresh",
          "annoline2": "Meadows",
          "annoline3": null,
          "bbox": [
           -73.78271337003264,
           40.7343944653313,
           -73.78271337003264,
           40.7343944653313
          ],
          "borough": "Queens",
          "name": "Fresh Meadows",
          "stacked": 2
         },
         "type": "Feature"
        },
        {
         "geometry": {
          "coordinates": [
           -73.811748,
           40.710935
          ],
          "type": "Point"
         },
         "geometry_name": "geom",
         "id": "nyu_2451_34572.160",
         "properties": {
          "annoangle": 0,
          "annoline1": "Briarwood",
          "annoline2": null,
          "annoline3": null,
          "bbox": [
           -73.81174822458634,
           40.71093547252271,
           -73.81174822458634,
           40.71093547252271
          ],
          "borough": "Queens",
          "name": "Briarwood",
          "stacked": 1
         },
         "type": "Feature"
        },
        {
         "geometry": {
          "coordinates": [
           -73.796902,
           40.704657
          ],
          "type": "Point"
         },
         "geometry_name": "geom",
         "id": "nyu_2451_34572.161",
         "properties": {
          "annoangle": 0,
          "annoline1": "Jamaica",
          "annoline2": "Center",
          "annoline3": null,
          "bbox": [
           -73.79690165888289,
           40.70465736068717,
           -73.79690165888289,
           40.70465736068717
          ],
          "borough": "Queens",
          "name": "Jamaica Center",
          "stacked": 2
         },
         "type": "Feature"
        },
        {
         "geometry": {
          "coordinates": [
           -73.75495,
           40.745619
          ],
          "type": "Point"
         },
         "geometry_name": "geom",
         "id": "nyu_2451_34572.162",
         "properties": {
          "annoangle": 0,
          "annoline1": "Oakland",
          "annoline2": "Gardens",
          "annoline3": null,
          "bbox": [
           -73.75494976234332,
           40.74561857141855,
           -73.75494976234332,
           40.74561857141855
          ],
          "borough": "Queens",
          "name": "Oakland Gardens",
          "stacked": 2
         },
         "type": "Feature"
        },
        {
         "geometry": {
          "coordinates": [
           -73.738715,
           40.718893
          ],
          "type": "Point"
         },
         "geometry_name": "geom",
         "id": "nyu_2451_34572.163",
         "properties": {
          "annoangle": 0,
          "annoline1": "Queens",
          "annoline2": "Village",
          "annoline3": null,
          "bbox": [
           -73.73871484578424,
           40.718893092167356,
           -73.73871484578424,
           40.718893092167356
          ],
          "borough": "Queens",
          "name": "Queens Village",
          "stacked": 2
         },
         "type": "Feature"
        },
        {
         "geometry": {
          "coordinates": [
           -73.75925,
           40.711243
          ],
          "type": "Point"
         },
         "geometry_name": "geom",
         "id": "nyu_2451_34572.164",
         "properties": {
          "annoangle": 0,
          "annoline1": "Hollis",
          "annoline2": null,
          "annoline3": null,
          "bbox": [
           -73.75925009335594,
           40.71124344191904,
           -73.75925009335594,
           40.71124344191904
          ],
          "borough": "Queens",
          "name": "Hollis",
          "stacked": 1
         },
         "type": "Feature"
        },
        {
         "geometry": {
          "coordinates": [
           -73.790426,
           40.696911
          ],
          "type": "Point"
         },
         "geometry_name": "geom",
         "id": "nyu_2451_34572.165",
         "properties": {
          "annoangle": 0,
          "annoline1": "South Jamaica",
          "annoline2": null,
          "annoline3": null,
          "bbox": [
           -73.7904261313554,
           40.696911253789885,
           -73.7904261313554,
           40.696911253789885
          ],
          "borough": "Queens",
          "name": "South Jamaica",
          "stacked": 1
         },
         "type": "Feature"
        },
        {
         "geometry": {
          "coordinates": [
           -73.758676,
           40.694445
          ],
          "type": "Point"
         },
         "geometry_name": "geom",
         "id": "nyu_2451_34572.166",
         "properties": {
          "annoangle": 0,
          "annoline1": "St. Albans",
          "annoline2": null,
          "annoline3": null,
          "bbox": [
           -73.75867603727717,
           40.69444538522359,
           -73.75867603727717,
           40.69444538522359
          ],
          "borough": "Queens",
          "name": "St. Albans",
          "stacked": 1
         },
         "type": "Feature"
        },
        {
         "geometry": {
          "coordinates": [
           -73.772588,
           40.675211
          ],
          "type": "Point"
         },
         "geometry_name": "geom",
         "id": "nyu_2451_34572.167",
         "properties": {
          "annoangle": 0,
          "annoline1": "Rochdale",
          "annoline2": null,
          "annoline3": null,
          "bbox": [
           -73.77258787620906,
           40.67521139591733,
           -73.77258787620906,
           40.67521139591733
          ],
          "borough": "Queens",
          "name": "Rochdale",
          "stacked": 1
         },
         "type": "Feature"
        },
        {
         "geometry": {
          "coordinates": [
           -73.760421,
           40.66623
          ],
          "type": "Point"
         },
         "geometry_name": "geom",
         "id": "nyu_2451_34572.168",
         "properties": {
          "annoangle": 0,
          "annoline1": "Springfield",
          "annoline2": "Gardens",
          "annoline3": null,
          "bbox": [
           -73.76042092682287,
           40.666230490368584,
           -73.76042092682287,
           40.666230490368584
          ],
          "borough": "Queens",
          "name": "Springfield Gardens",
          "stacked": 2
         },
         "type": "Feature"
        },
        {
         "geometry": {
          "coordinates": [
           -73.735269,
           40.692775
          ],
          "type": "Point"
         },
         "geometry_name": "geom",
         "id": "nyu_2451_34572.169",
         "properties": {
          "annoangle": 0,
          "annoline1": "Cambria",
          "annoline2": "Heights",
          "annoline3": null,
          "bbox": [
           -73.73526873708026,
           40.692774639160845,
           -73.73526873708026,
           40.692774639160845
          ],
          "borough": "Queens",
          "name": "Cambria Heights",
          "stacked": 2
         },
         "type": "Feature"
        },
        {
         "geometry": {
          "coordinates": [
           -73.735261,
           40.659816
          ],
          "type": "Point"
         },
         "geometry_name": "geom",
         "id": "nyu_2451_34572.170",
         "properties": {
          "annoangle": 0,
          "annoline1": "Rosedale",
          "annoline2": null,
          "annoline3": null,
          "bbox": [
           -73.73526079428278,
           40.659816433428084,
           -73.73526079428278,
           40.659816433428084
          ],
          "borough": "Queens",
          "name": "Rosedale",
          "stacked": 1
         },
         "type": "Feature"
        },
        {
         "geometry": {
          "coordinates": [
           -73.75498,
           40.603134
          ],
          "type": "Point"
         },
         "geometry_name": "geom",
         "id": "nyu_2451_34572.171",
         "properties": {
          "annoangle": 0,
          "annoline1": "Far Rockaway",
          "annoline2": null,
          "annoline3": null,
          "bbox": [
           -73.75497968043872,
           40.603134432500894,
           -73.75497968043872,
           40.603134432500894
          ],
          "borough": "Queens",
          "name": "Far Rockaway",
          "stacked": 2
         },
         "type": "Feature"
        },
        {
         "geometry": {
          "coordinates": [
           -73.820055,
           40.603027
          ],
          "type": "Point"
         },
         "geometry_name": "geom",
         "id": "nyu_2451_34572.172",
         "properties": {
          "annoangle": 0,
          "annoline1": "Broad",
          "annoline2": "Channel",
          "annoline3": null,
          "bbox": [
           -73.8200548911032,
           40.60302658351238,
           -73.8200548911032,
           40.60302658351238
          ],
          "borough": "Queens",
          "name": "Broad Channel",
          "stacked": 2
         },
         "type": "Feature"
        },
        {
         "geometry": {
          "coordinates": [
           -73.925512,
           40.557401
          ],
          "type": "Point"
         },
         "geometry_name": "geom",
         "id": "nyu_2451_34572.173",
         "properties": {
          "annoangle": 0,
          "annoline1": "Breezy",
          "annoline2": "Point",
          "annoline3": null,
          "bbox": [
           -73.92551196994168,
           40.55740128845452,
           -73.92551196994168,
           40.55740128845452
          ],
          "borough": "Queens",
          "name": "Breezy Point",
          "stacked": 2
         },
         "type": "Feature"
        },
        {
         "geometry": {
          "coordinates": [
           -73.90229,
           40.775923
          ],
          "type": "Point"
         },
         "geometry_name": "geom",
         "id": "nyu_2451_34572.174",
         "properties": {
          "annoangle": 0,
          "annoline1": "Steinway",
          "annoline2": null,
          "annoline3": null,
          "bbox": [
           -73.90228960391673,
           40.775923015642896,
           -73.90228960391673,
           40.775923015642896
          ],
          "borough": "Queens",
          "name": "Steinway",
          "stacked": 1
         },
         "type": "Feature"
        },
        {
         "geometry": {
          "coordinates": [
           -73.804365,
           40.792781
          ],
          "type": "Point"
         },
         "geometry_name": "geom",
         "id": "nyu_2451_34572.175",
         "properties": {
          "annoangle": 0,
          "annoline1": "Beechhurst",
          "annoline2": null,
          "annoline3": null,
          "bbox": [
           -73.80436451720988,
           40.79278140360048,
           -73.80436451720988,
           40.79278140360048
          ],
          "borough": "Queens",
          "name": "Beechhurst",
          "stacked": 1
         },
         "type": "Feature"
        },
        {
         "geometry": {
          "coordinates": [
           -73.776802,
           40.782843
          ],
          "type": "Point"
         },
         "geometry_name": "geom",
         "id": "nyu_2451_34572.176",
         "properties": {
          "annoangle": 0,
          "annoline1": "Bay",
          "annoline2": "Terrace",
          "annoline3": null,
          "bbox": [
           -73.7768022262158,
           40.782842806245554,
           -73.7768022262158,
           40.782842806245554
          ],
          "borough": "Queens",
          "name": "Bay Terrace",
          "stacked": 2
         },
         "type": "Feature"
        },
        {
         "geometry": {
          "coordinates": [
           -73.776133,
           40.595642
          ],
          "type": "Point"
         },
         "geometry_name": "geom",
         "id": "nyu_2451_34572.177",
         "properties": {
          "annoangle": 0,
          "annoline1": "Edgemere",
          "annoline2": null,
          "annoline3": null,
          "bbox": [
           -73.77613282391705,
           40.595641807368494,
           -73.77613282391705,
           40.595641807368494
          ],
          "borough": "Queens",
          "name": "Edgemere",
          "stacked": 1
         },
         "type": "Feature"
        },
        {
         "geometry": {
          "coordinates": [
           -73.791992,
           40.589144
          ],
          "type": "Point"
         },
         "geometry_name": "geom",
         "id": "nyu_2451_34572.178",
         "properties": {
          "annoangle": 0,
          "annoline1": "Arverne",
          "annoline2": null,
          "annoline3": null,
          "bbox": [
           -73.79199233136943,
           40.58914394372971,
           -73.79199233136943,
           40.58914394372971
          ],
          "borough": "Queens",
          "name": "Arverne",
          "stacked": 1
         },
         "type": "Feature"
        },
        {
         "geometry": {
          "coordinates": [
           -73.822361,
           40.582802
          ],
          "type": "Point"
         },
         "geometry_name": "geom",
         "id": "nyu_2451_34572.179",
         "properties": {
          "annoangle": 0,
          "annoline1": "Rockaway",
          "annoline2": "Beach",
          "annoline3": null,
          "bbox": [
           -73.82236121088751,
           40.582801696845586,
           -73.82236121088751,
           40.582801696845586
          ],
          "borough": "Queens",
          "name": "Rockaway Beach",
          "stacked": 2
         },
         "type": "Feature"
        },
        {
         "geometry": {
          "coordinates": [
           -73.857547,
           40.572037
          ],
          "type": "Point"
         },
         "geometry_name": "geom",
         "id": "nyu_2451_34572.180",
         "properties": {
          "annoangle": 0,
          "annoline1": "Neponsit",
          "annoline2": null,
          "annoline3": null,
          "bbox": [
           -73.85754672410827,
           40.572036730217015,
           -73.85754672410827,
           40.572036730217015
          ],
          "borough": "Queens",
          "name": "Neponsit",
          "stacked": 1
         },
         "type": "Feature"
        },
        {
         "geometry": {
          "coordinates": [
           -73.812763,
           40.764126
          ],
          "type": "Point"
         },
         "geometry_name": "geom",
         "id": "nyu_2451_34572.181",
         "properties": {
          "annoangle": 0,
          "annoline1": "Murray",
          "annoline2": "Hill",
          "annoline3": null,
          "bbox": [
           -73.81276269135866,
           40.764126122614066,
           -73.81276269135866,
           40.764126122614066
          ],
          "borough": "Queens",
          "name": "Murray Hill",
          "stacked": 2
         },
         "type": "Feature"
        },
        {
         "geometry": {
          "coordinates": [
           -73.708847,
           40.741378
          ],
          "type": "Point"
         },
         "geometry_name": "geom",
         "id": "nyu_2451_34572.182",
         "properties": {
          "annoangle": 0,
          "annoline1": "Floral Park",
          "annoline2": null,
          "annoline3": null,
          "bbox": [
           -73.70884705889246,
           40.741378421945434,
           -73.70884705889246,
           40.741378421945434
          ],
          "borough": "Queens",
          "name": "Floral Park",
          "stacked": 1
         },
         "type": "Feature"
        },
        {
         "geometry": {
          "coordinates": [
           -73.767142,
           40.720957
          ],
          "type": "Point"
         },
         "geometry_name": "geom",
         "id": "nyu_2451_34572.183",
         "properties": {
          "annoangle": 0,
          "annoline1": "Holliswood",
          "annoline2": null,
          "annoline3": null,
          "bbox": [
           -73.76714166714729,
           40.7209572076444,
           -73.76714166714729,
           40.7209572076444
          ],
          "borough": "Queens",
          "name": "Holliswood",
          "stacked": 1
         },
         "type": "Feature"
        },
        {
         "geometry": {
          "coordinates": [
           -73.787227,
           40.716805
          ],
          "type": "Point"
         },
         "geometry_name": "geom",
         "id": "nyu_2451_34572.184",
         "properties": {
          "annoangle": 0,
          "annoline1": "Jamaica",
          "annoline2": "Estates",
          "annoline3": null,
          "bbox": [
           -73.7872269693666,
           40.71680483014613,
           -73.7872269693666,
           40.71680483014613
          ],
          "borough": "Queens",
          "name": "Jamaica Estates",
          "stacked": 2
         },
         "type": "Feature"
        },
        {
         "geometry": {
          "coordinates": [
           -73.825809,
           40.744572
          ],
          "type": "Point"
         },
         "geometry_name": "geom",
         "id": "nyu_2451_34572.185",
         "properties": {
          "annoangle": 0,
          "annoline1": "Queensboro",
          "annoline2": "Hill",
          "annoline3": null,
          "bbox": [
           -73.82580915110559,
           40.7445723092867,
           -73.82580915110559,
           40.7445723092867
          ],
          "borough": "Queens",
          "name": "Queensboro Hill",
          "stacked": 2
         },
         "type": "Feature"
        },
        {
         "geometry": {
          "coordinates": [
           -73.797603,
           40.723825
          ],
          "type": "Point"
         },
         "geometry_name": "geom",
         "id": "nyu_2451_34572.186",
         "properties": {
          "annoangle": 0,
          "annoline1": "Hillcrest",
          "annoline2": null,
          "annoline3": null,
          "bbox": [
           -73.79760300912672,
           40.723824901829204,
           -73.79760300912672,
           40.723824901829204
          ],
          "borough": "Queens",
          "name": "Hillcrest",
          "stacked": 1
         },
         "type": "Feature"
        },
        {
         "geometry": {
          "coordinates": [
           -73.931575,
           40.761705
          ],
          "type": "Point"
         },
         "geometry_name": "geom",
         "id": "nyu_2451_34572.187",
         "properties": {
          "annoangle": 0,
          "annoline1": "Ravenswood",
          "annoline2": null,
          "annoline3": null,
          "bbox": [
           -73.93157506072878,
           40.761704526054146,
           -73.93157506072878,
           40.761704526054146
          ],
          "borough": "Queens",
          "name": "Ravenswood",
          "stacked": 1
         },
         "type": "Feature"
        },
        {
         "geometry": {
          "coordinates": [
           -73.849638,
           40.663918
          ],
          "type": "Point"
         },
         "geometry_name": "geom",
         "id": "nyu_2451_34572.188",
         "properties": {
          "annoangle": 0,
          "annoline1": "Lindenwood",
          "annoline2": null,
          "annoline3": null,
          "bbox": [
           -73.84963782402441,
           40.66391841925139,
           -73.84963782402441,
           40.66391841925139
          ],
          "borough": "Queens",
          "name": "Lindenwood",
          "stacked": 1
         },
         "type": "Feature"
        },
        {
         "geometry": {
          "coordinates": [
           -73.740256,
           40.667884
          ],
          "type": "Point"
         },
         "geometry_name": "geom",
         "id": "nyu_2451_34572.189",
         "properties": {
          "annoangle": 0,
          "annoline1": "Laurelton",
          "annoline2": null,
          "annoline3": null,
          "bbox": [
           -73.74025607989822,
           40.66788389660247,
           -73.74025607989822,
           40.66788389660247
          ],
          "borough": "Queens",
          "name": "Laurelton",
          "stacked": 1
         },
         "type": "Feature"
        },
        {
         "geometry": {
          "coordinates": [
           -73.862525,
           40.736075
          ],
          "type": "Point"
         },
         "geometry_name": "geom",
         "id": "nyu_2451_34572.190",
         "properties": {
          "annoangle": 0,
          "annoline1": "Lefrak",
          "annoline2": "City",
          "annoline3": null,
          "bbox": [
           -73.8625247141374,
           40.736074570830795,
           -73.8625247141374,
           40.736074570830795
          ],
          "borough": "Queens",
          "name": "Lefrak City",
          "stacked": 2
         },
         "type": "Feature"
        },
        {
         "geometry": {
          "coordinates": [
           -73.854018,
           40.576156
          ],
          "type": "Point"
         },
         "geometry_name": "geom",
         "id": "nyu_2451_34572.191",
         "properties": {
          "annoangle": 0,
          "annoline1": "Belle Harbor",
          "annoline2": null,
          "annoline3": null,
          "bbox": [
           -73.8540175039252,
           40.57615556543109,
           -73.8540175039252,
           40.57615556543109
          ],
          "borough": "Queens",
          "name": "Belle Harbor",
          "stacked": 1
         },
         "type": "Feature"
        },
        {
         "geometry": {
          "coordinates": [
           -73.841534,
           40.580343
          ],
          "type": "Point"
         },
         "geometry_name": "geom",
         "id": "nyu_2451_34572.192",
         "properties": {
          "annoangle": 0,
          "annoline1": "Rockaway Park",
          "annoline2": null,
          "annoline3": null,
          "bbox": [
           -73.84153370226186,
           40.58034295646131,
           -73.84153370226186,
           40.58034295646131
          ],
          "borough": "Queens",
          "name": "Rockaway Park",
          "stacked": 1
         },
         "type": "Feature"
        },
        {
         "geometry": {
          "coordinates": [
           -73.796648,
           40.597711
          ],
          "type": "Point"
         },
         "geometry_name": "geom",
         "id": "nyu_2451_34572.193",
         "properties": {
          "annoangle": 0,
          "annoline1": "Somerville",
          "annoline2": null,
          "annoline3": null,
          "bbox": [
           -73.79664750844047,
           40.59771061565768,
           -73.79664750844047,
           40.59771061565768
          ],
          "borough": "Queens",
          "name": "Somerville",
          "stacked": 1
         },
         "type": "Feature"
        },
        {
         "geometry": {
          "coordinates": [
           -73.751753,
           40.660003
          ],
          "type": "Point"
         },
         "geometry_name": "geom",
         "id": "nyu_2451_34572.194",
         "properties": {
          "annoangle": 0,
          "annoline1": "Brookville",
          "annoline2": null,
          "annoline3": null,
          "bbox": [
           -73.75175310731153,
           40.66000322733613,
           -73.75175310731153,
           40.66000322733613
          ],
          "borough": "Queens",
          "name": "Brookville",
          "stacked": 1
         },
         "type": "Feature"
        },
        {
         "geometry": {
          "coordinates": [
           -73.738892,
           40.733014
          ],
          "type": "Point"
         },
         "geometry_name": "geom",
         "id": "nyu_2451_34572.195",
         "properties": {
          "annoangle": 0,
          "annoline1": "Bellaire",
          "annoline2": null,
          "annoline3": null,
          "bbox": [
           -73.73889198912481,
           40.73301404027834,
           -73.73889198912481,
           40.73301404027834
          ],
          "borough": "Queens",
          "name": "Bellaire",
          "stacked": 1
         },
         "type": "Feature"
        },
        {
         "geometry": {
          "coordinates": [
           -73.857518,
           40.754071
          ],
          "type": "Point"
         },
         "geometry_name": "geom",
         "id": "nyu_2451_34572.196",
         "properties": {
          "annoangle": 0,
          "annoline1": "North",
          "annoline2": "Corona",
          "annoline3": null,
          "bbox": [
           -73.85751790676447,
           40.7540709990489,
           -73.85751790676447,
           40.7540709990489
          ],
          "borough": "Queens",
          "name": "North Corona",
          "stacked": 2
         },
         "type": "Feature"
        },
        {
         "geometry": {
          "coordinates": [
           -73.841022,
           40.714611
          ],
          "type": "Point"
         },
         "geometry_name": "geom",
         "id": "nyu_2451_34572.197",
         "properties": {
          "annoangle": 0,
          "annoline1": "Forest",
          "annoline2": "Hills",
          "annoline3": "Gardens",
          "bbox": [
           -73.8410221123401,
           40.7146110815117,
           -73.8410221123401,
           40.7146110815117
          ],
          "borough": "Queens",
          "name": "Forest Hills Gardens",
          "stacked": 3
         },
         "type": "Feature"
        },
        {
         "geometry": {
          "coordinates": [
           -74.079353,
           40.644982
          ],
          "type": "Point"
         },
         "geometry_name": "geom",
         "id": "nyu_2451_34572.198",
         "properties": {
          "annoangle": 0,
          "annoline1": "St.",
          "annoline2": "George",
          "annoline3": null,
          "bbox": [
           -74.07935312512797,
           40.6449815710044,
           -74.07935312512797,
           40.6449815710044
          ],
          "borough": "Staten Island",
          "name": "St. George",
          "stacked": 2
         },
         "type": "Feature"
        },
        {
         "geometry": {
          "coordinates": [
           -74.087017,
           40.640615
          ],
          "type": "Point"
         },
         "geometry_name": "geom",
         "id": "nyu_2451_34572.199",
         "properties": {
          "annoangle": 0,
          "annoline1": "New",
          "annoline2": "Brighton",
          "annoline3": null,
          "bbox": [
           -74.08701650516625,
           40.64061455913511,
           -74.08701650516625,
           40.64061455913511
          ],
          "borough": "Staten Island",
          "name": "New Brighton",
          "stacked": 2
         },
         "type": "Feature"
        },
        {
         "geometry": {
          "coordinates": [
           -74.077902,
           40.626928
          ],
          "type": "Point"
         },
         "geometry_name": "geom",
         "id": "nyu_2451_34572.200",
         "properties": {
          "annoangle": 0,
          "annoline1": "Stapleton",
          "annoline2": null,
          "annoline3": null,
          "bbox": [
           -74.07790192660066,
           40.62692762538176,
           -74.07790192660066,
           40.62692762538176
          ],
          "borough": "Staten Island",
          "name": "Stapleton",
          "stacked": 1
         },
         "type": "Feature"
        },
        {
         "geometry": {
          "coordinates": [
           -74.069805,
           40.615305
          ],
          "type": "Point"
         },
         "geometry_name": "geom",
         "id": "nyu_2451_34572.201",
         "properties": {
          "annoangle": 0,
          "annoline1": "Rosebank",
          "annoline2": null,
          "annoline3": null,
          "bbox": [
           -74.06980526716141,
           40.61530494652761,
           -74.06980526716141,
           40.61530494652761
          ],
          "borough": "Staten Island",
          "name": "Rosebank",
          "stacked": 1
         },
         "type": "Feature"
        },
        {
         "geometry": {
          "coordinates": [
           -74.107182,
           40.631879
          ],
          "type": "Point"
         },
         "geometry_name": "geom",
         "id": "nyu_2451_34572.202",
         "properties": {
          "annoangle": 0,
          "annoline1": "West",
          "annoline2": "Brighton",
          "annoline3": null,
          "bbox": [
           -74.1071817826561,
           40.63187892654607,
           -74.1071817826561,
           40.63187892654607
          ],
          "borough": "Staten Island",
          "name": "West Brighton",
          "stacked": 2
         },
         "type": "Feature"
        },
        {
         "geometry": {
          "coordinates": [
           -74.087248,
           40.624185
          ],
          "type": "Point"
         },
         "geometry_name": "geom",
         "id": "nyu_2451_34572.203",
         "properties": {
          "annoangle": 0,
          "annoline1": "Grymes",
          "annoline2": "Hill",
          "annoline3": null,
          "bbox": [
           -74.08724819983729,
           40.624184791313006,
           -74.08724819983729,
           40.624184791313006
          ],
          "borough": "Staten Island",
          "name": "Grymes Hill",
          "stacked": 2
         },
         "type": "Feature"
        },
        {
         "geometry": {
          "coordinates": [
           -74.111329,
           40.597069
          ],
          "type": "Point"
         },
         "geometry_name": "geom",
         "id": "nyu_2451_34572.204",
         "properties": {
          "annoangle": 0,
          "annoline1": "Todt",
          "annoline2": "Hill",
          "annoline3": null,
          "bbox": [
           -74.1113288180088,
           40.59706851814673,
           -74.1113288180088,
           40.59706851814673
          ],
          "borough": "Staten Island",
          "name": "Todt Hill",
          "stacked": 2
         },
         "type": "Feature"
        },
        {
         "geometry": {
          "coordinates": [
           -74.079553,
           40.580247
          ],
          "type": "Point"
         },
         "geometry_name": "geom",
         "id": "nyu_2451_34572.205",
         "properties": {
          "annoangle": 0,
          "annoline1": "South",
          "annoline2": "Beach",
          "annoline3": null,
          "bbox": [
           -74.0795529253982,
           40.58024741350956,
           -74.0795529253982,
           40.58024741350956
          ],
          "borough": "Staten Island",
          "name": "South Beach",
          "stacked": 2
         },
         "type": "Feature"
        },
        {
         "geometry": {
          "coordinates": [
           -74.129434,
           40.633669
          ],
          "type": "Point"
         },
         "geometry_name": "geom",
         "id": "nyu_2451_34572.206",
         "properties": {
          "annoangle": 0,
          "annoline1": "Port",
          "annoline2": "Richmond",
          "annoline3": null,
          "bbox": [
           -74.12943426797008,
           40.63366930554365,
           -74.12943426797008,
           40.63366930554365
          ],
          "borough": "Staten Island",
          "name": "Port Richmond",
          "stacked": 2
         },
         "type": "Feature"
        },
        {
         "geometry": {
          "coordinates": [
           -74.150085,
           40.632546
          ],
          "type": "Point"
         },
         "geometry_name": "geom",
         "id": "nyu_2451_34572.207",
         "properties": {
          "annoangle": 0,
          "annoline1": "Mariner's",
          "annoline2": "Harbor",
          "annoline3": null,
          "bbox": [
           -74.15008537046981,
           40.632546390481124,
           -74.15008537046981,
           40.632546390481124
          ],
          "borough": "Staten Island",
          "name": "Mariner's Harbor",
          "stacked": 2
         },
         "type": "Feature"
        },
        {
         "geometry": {
          "coordinates": [
           -74.174645,
           40.639683
          ],
          "type": "Point"
         },
         "geometry_name": "geom",
         "id": "nyu_2451_34572.208",
         "properties": {
          "annoangle": 0,
          "annoline1": "Port",
          "annoline2": "Ivory",
          "annoline3": null,
          "bbox": [
           -74.17464532993542,
           40.63968297845542,
           -74.17464532993542,
           40.63968297845542
          ],
          "borough": "Staten Island",
          "name": "Port Ivory",
          "stacked": 2
         },
         "type": "Feature"
        },
        {
         "geometry": {
          "coordinates": [
           -74.119181,
           40.613336
          ],
          "type": "Point"
         },
         "geometry_name": "geom",
         "id": "nyu_2451_34572.209",
         "properties": {
          "annoangle": 0,
          "annoline1": "Castleton",
          "annoline2": "Corners",
          "annoline3": null,
          "bbox": [
           -74.11918058534842,
           40.61333593766742,
           -74.11918058534842,
           40.61333593766742
          ],
          "borough": "Staten Island",
          "name": "Castleton Corners",
          "stacked": 2
         },
         "type": "Feature"
        },
        {
         "geometry": {
          "coordinates": [
           -74.16496,
           40.594252
          ],
          "type": "Point"
         },
         "geometry_name": "geom",
         "id": "nyu_2451_34572.210",
         "properties": {
          "annoangle": 0,
          "annoline1": "New",
          "annoline2": "Springville",
          "annoline3": null,
          "bbox": [
           -74.16496031329827,
           40.594252379161695,
           -74.16496031329827,
           40.594252379161695
          ],
          "borough": "Staten Island",
          "name": "New Springville",
          "stacked": 2
         },
         "type": "Feature"
        },
        {
         "geometry": {
          "coordinates": [
           -74.190737,
           40.586314
          ],
          "type": "Point"
         },
         "geometry_name": "geom",
         "id": "nyu_2451_34572.211",
         "properties": {
          "annoangle": 0,
          "annoline1": "Travis",
          "annoline2": null,
          "annoline3": null,
          "bbox": [
           -74.19073717538116,
           40.58631375103281,
           -74.19073717538116,
           40.58631375103281
          ],
          "borough": "Staten Island",
          "name": "Travis",
          "stacked": 1
         },
         "type": "Feature"
        },
        {
         "geometry": {
          "coordinates": [
           -74.116479,
           40.572572
          ],
          "type": "Point"
         },
         "geometry_name": "geom",
         "id": "nyu_2451_34572.212",
         "properties": {
          "annoangle": 0,
          "annoline1": "New",
          "annoline2": "Dorp",
          "annoline3": null,
          "bbox": [
           -74.1164794360638,
           40.57257231820632,
           -74.1164794360638,
           40.57257231820632
          ],
          "borough": "Staten Island",
          "name": "New Dorp",
          "stacked": 2
         },
         "type": "Feature"
        },
        {
         "geometry": {
          "coordinates": [
           -74.121566,
           40.558462
          ],
          "type": "Point"
         },
         "geometry_name": "geom",
         "id": "nyu_2451_34572.213",
         "properties": {
          "annoangle": 0,
          "annoline1": "Oakwood",
          "annoline2": null,
          "annoline3": null,
          "bbox": [
           -74.12156593771896,
           40.5584622432888,
           -74.12156593771896,
           40.5584622432888
          ],
          "borough": "Staten Island",
          "name": "Oakwood",
          "stacked": 1
         },
         "type": "Feature"
        },
        {
         "geometry": {
          "coordinates": [
           -74.149324,
           40.54948
          ],
          "type": "Point"
         },
         "geometry_name": "geom",
         "id": "nyu_2451_34572.214",
         "properties": {
          "annoangle": 0,
          "annoline1": "Great",
          "annoline2": "Kills",
          "annoline3": null,
          "bbox": [
           -74.14932381490992,
           40.549480228713605,
           -74.14932381490992,
           40.549480228713605
          ],
          "borough": "Staten Island",
          "name": "Great Kills",
          "stacked": 2
         },
         "type": "Feature"
        },
        {
         "geometry": {
          "coordinates": [
           -74.164331,
           40.542231
          ],
          "type": "Point"
         },
         "geometry_name": "geom",
         "id": "nyu_2451_34572.215",
         "properties": {
          "annoangle": 0,
          "annoline1": "Eltingville",
          "annoline2": null,
          "annoline3": null,
          "bbox": [
           -74.1643308041936,
           40.542230747450745,
           -74.1643308041936,
           40.542230747450745
          ],
          "borough": "Staten Island",
          "name": "Eltingville",
          "stacked": 1
         },
         "type": "Feature"
        },
        {
         "geometry": {
          "coordinates": [
           -74.178549,
           40.538114
          ],
          "type": "Point"
         },
         "geometry_name": "geom",
         "id": "nyu_2451_34572.216",
         "properties": {
          "annoangle": 0,
          "annoline1": "Annadale",
          "annoline2": null,
          "annoline3": null,
          "bbox": [
           -74.17854866165878,
           40.53811417474507,
           -74.17854866165878,
           40.53811417474507
          ],
          "borough": "Staten Island",
          "name": "Annadale",
          "stacked": 1
         },
         "type": "Feature"
        },
        {
         "geometry": {
          "coordinates": [
           -74.205246,
           40.541968
          ],
          "type": "Point"
         },
         "geometry_name": "geom",
         "id": "nyu_2451_34572.217",
         "properties": {
          "annoangle": 0,
          "annoline1": "Woodrow",
          "annoline2": null,
          "annoline3": null,
          "bbox": [
           -74.20524582480326,
           40.541967622888755,
           -74.20524582480326,
           40.541967622888755
          ],
          "borough": "Staten Island",
          "name": "Woodrow",
          "stacked": 1
         },
         "type": "Feature"
        },
        {
         "geometry": {
          "coordinates": [
           -74.246569,
           40.505334
          ],
          "type": "Point"
         },
         "geometry_name": "geom",
         "id": "nyu_2451_34572.218",
         "properties": {
          "annoangle": 0,
          "annoline1": "Tottenville",
          "annoline2": null,
          "annoline3": null,
          "bbox": [
           -74.24656934235283,
           40.50533376115642,
           -74.24656934235283,
           40.50533376115642
          ],
          "borough": "Staten Island",
          "name": "Tottenville",
          "stacked": 1
         },
         "type": "Feature"
        },
        {
         "geometry": {
          "coordinates": [
           -74.080554,
           40.637316
          ],
          "type": "Point"
         },
         "geometry_name": "geom",
         "id": "nyu_2451_34572.219",
         "properties": {
          "annoangle": 0,
          "annoline1": "Tompkinsville",
          "annoline2": null,
          "annoline3": null,
          "bbox": [
           -74.08055351790115,
           40.637316067110326,
           -74.08055351790115,
           40.637316067110326
          ],
          "borough": "Staten Island",
          "name": "Tompkinsville",
          "stacked": 1
         },
         "type": "Feature"
        },
        {
         "geometry": {
          "coordinates": [
           -74.09629,
           40.619193
          ],
          "type": "Point"
         },
         "geometry_name": "geom",
         "id": "nyu_2451_34572.220",
         "properties": {
          "annoangle": 0,
          "annoline1": "Silver",
          "annoline2": "Lake",
          "annoline3": null,
          "bbox": [
           -74.09629029235458,
           40.61919310792676,
           -74.09629029235458,
           40.61919310792676
          ],
          "borough": "Staten Island",
          "name": "Silver Lake",
          "stacked": 2
         },
         "type": "Feature"
        },
        {
         "geometry": {
          "coordinates": [
           -74.097126,
           40.61276
          ],
          "type": "Point"
         },
         "geometry_name": "geom",
         "id": "nyu_2451_34572.221",
         "properties": {
          "annoangle": 0,
          "annoline1": "Sunnyside",
          "annoline2": null,
          "annoline3": null,
          "bbox": [
           -74.0971255217853,
           40.61276015756489,
           -74.0971255217853,
           40.61276015756489
          ],
          "borough": "Staten Island",
          "name": "Sunnyside",
          "stacked": 1
         },
         "type": "Feature"
        },
        {
         "geometry": {
          "coordinates": [
           -73.961013,
           40.643675
          ],
          "type": "Point"
         },
         "geometry_name": "geom",
         "id": "nyu_2451_34572.222",
         "properties": {
          "annoangle": 0,
          "annoline1": "Ditmas",
          "annoline2": "Park",
          "annoline3": null,
          "bbox": [
           -73.96101312466779,
           40.643675183340974,
           -73.96101312466779,
           40.643675183340974
          ],
          "borough": "Brooklyn",
          "name": "Ditmas Park",
          "stacked": 2
         },
         "type": "Feature"
        },
        {
         "geometry": {
          "coordinates": [
           -73.937187,
           40.660947
          ],
          "type": "Point"
         },
         "geometry_name": "geom",
         "id": "nyu_2451_34572.223",
         "properties": {
          "annoangle": 0,
          "annoline1": "Wingate",
          "annoline2": null,
          "annoline3": null,
          "bbox": [
           -73.93718680559314,
           40.66094656188111,
           -73.93718680559314,
           40.66094656188111
          ],
          "borough": "Brooklyn",
          "name": "Wingate",
          "stacked": 1
         },
         "type": "Feature"
        },
        {
         "geometry": {
          "coordinates": [
           -73.926882,
           40.655572
          ],
          "type": "Point"
         },
         "geometry_name": "geom",
         "id": "nyu_2451_34572.224",
         "properties": {
          "annoangle": 0,
          "annoline1": "Rugby",
          "annoline2": null,
          "annoline3": null,
          "bbox": [
           -73.92688212616955,
           40.655572313280764,
           -73.92688212616955,
           40.655572313280764
          ],
          "borough": "Brooklyn",
          "name": "Rugby",
          "stacked": 1
         },
         "type": "Feature"
        },
        {
         "geometry": {
          "coordinates": [
           -74.080157,
           40.60919
          ],
          "type": "Point"
         },
         "geometry_name": "geom",
         "id": "nyu_2451_34572.225",
         "properties": {
          "annoangle": 0,
          "annoline1": "Park",
          "annoline2": "Hill",
          "annoline3": null,
          "bbox": [
           -74.08015734936296,
           40.60919044434558,
           -74.08015734936296,
           40.60919044434558
          ],
          "borough": "Staten Island",
          "name": "Park Hill",
          "stacked": 2
         },
         "type": "Feature"
        },
        {
         "geometry": {
          "coordinates": [
           -74.133041,
           40.62109
          ],
          "type": "Point"
         },
         "geometry_name": "geom",
         "id": "nyu_2451_34572.226",
         "properties": {
          "annoangle": 0,
          "annoline1": "Westerleigh",
          "annoline2": null,
          "annoline3": null,
          "bbox": [
           -74.13304143951704,
           40.62109047275409,
           -74.13304143951704,
           40.62109047275409
          ],
          "borough": "Staten Island",
          "name": "Westerleigh",
          "stacked": 1
         },
         "type": "Feature"
        },
        {
         "geometry": {
          "coordinates": [
           -74.153152,
           40.620172
          ],
          "type": "Point"
         },
         "geometry_name": "geom",
         "id": "nyu_2451_34572.227",
         "properties": {
          "annoangle": 0,
          "annoline1": "Graniteville",
          "annoline2": null,
          "annoline3": null,
          "bbox": [
           -74.15315246387762,
           40.620171512231884,
           -74.15315246387762,
           40.620171512231884
          ],
          "borough": "Staten Island",
          "name": "Graniteville",
          "stacked": 1
         },
         "type": "Feature"
        },
        {
         "geometry": {
          "coordinates": [
           -74.165104,
           40.635325
          ],
          "type": "Point"
         },
         "geometry_name": "geom",
         "id": "nyu_2451_34572.228",
         "properties": {
          "annoangle": 0,
          "annoline1": "Arlington",
          "annoline2": null,
          "annoline3": null,
          "bbox": [
           -74.16510420241124,
           40.63532509911492,
           -74.16510420241124,
           40.63532509911492
          ],
          "borough": "Staten Island",
          "name": "Arlington",
          "stacked": 1
         },
         "type": "Feature"
        },
        {
         "geometry": {
          "coordinates": [
           -74.067124,
           40.596313
          ],
          "type": "Point"
         },
         "geometry_name": "geom",
         "id": "nyu_2451_34572.229",
         "properties": {
          "annoangle": 0,
          "annoline1": "Arrochar",
          "annoline2": null,
          "annoline3": null,
          "bbox": [
           -74.06712363225574,
           40.596312571276734,
           -74.06712363225574,
           40.596312571276734
          ],
          "borough": "Staten Island",
          "name": "Arrochar",
          "stacked": 1
         },
         "type": "Feature"
        },
        {
         "geometry": {
          "coordinates": [
           -74.076674,
           40.598268
          ],
          "type": "Point"
         },
         "geometry_name": "geom",
         "id": "nyu_2451_34572.230",
         "properties": {
          "annoangle": 0,
          "annoline1": "Grasmere",
          "annoline2": null,
          "annoline3": null,
          "bbox": [
           -74.0766743627905,
           40.59826835959991,
           -74.0766743627905,
           40.59826835959991
          ],
          "borough": "Staten Island",
          "name": "Grasmere",
          "stacked": 1
         },
         "type": "Feature"
        },
        {
         "geometry": {
          "coordinates": [
           -74.087511,
           40.596329
          ],
          "type": "Point"
         },
         "geometry_name": "geom",
         "id": "nyu_2451_34572.231",
         "properties": {
          "annoangle": 0,
          "annoline1": "Old",
          "annoline2": "Town",
          "annoline3": null,
          "bbox": [
           -74.08751118005578,
           40.59632891379513,
           -74.08751118005578,
           40.59632891379513
          ],
          "borough": "Staten Island",
          "name": "Old Town",
          "stacked": 2
         },
         "type": "Feature"
        },
        {
         "geometry": {
          "coordinates": [
           -74.096399,
           40.588673
          ],
          "type": "Point"
         },
         "geometry_name": "geom",
         "id": "nyu_2451_34572.232",
         "properties": {
          "annoangle": 0,
          "annoline1": "Dongan",
          "annoline2": "Hills",
          "annoline3": null,
          "bbox": [
           -74.09639905312521,
           40.588672948199275,
           -74.09639905312521,
           40.588672948199275
          ],
          "borough": "Staten Island",
          "name": "Dongan Hills",
          "stacked": 2
         },
         "type": "Feature"
        },
        {
         "geometry": {
          "coordinates": [
           -74.093483,
           40.573527
          ],
          "type": "Point"
         },
         "geometry_name": "geom",
         "id": "nyu_2451_34572.233",
         "properties": {
          "annoangle": 0,
          "annoline1": "Midland",
          "annoline2": "Beach",
          "annoline3": null,
          "bbox": [
           -74.09348266303591,
           40.57352690574283,
           -74.09348266303591,
           40.57352690574283
          ],
          "borough": "Staten Island",
          "name": "Midland Beach",
          "stacked": 2
         },
         "type": "Feature"
        },
        {
         "geometry": {
          "coordinates": [
           -74.105856,
           40.576216
          ],
          "type": "Point"
         },
         "geometry_name": "geom",
         "id": "nyu_2451_34572.234",
         "properties": {
          "annoangle": 0,
          "annoline1": "Grant",
          "annoline2": "City",
          "annoline3": null,
          "bbox": [
           -74.10585598545434,
           40.57621558711788,
           -74.10585598545434,
           40.57621558711788
          ],
          "borough": "Staten Island",
          "name": "Grant City",
          "stacked": 2
         },
         "type": "Feature"
        },
        {
         "geometry": {
          "coordinates": [
           -74.104327,
           40.564255
          ],
          "type": "Point"
         },
         "geometry_name": "geom",
         "id": "nyu_2451_34572.235",
         "properties": {
          "annoangle": 0,
          "annoline1": "New",
          "annoline2": "Dorp",
          "annoline3": "Beach",
          "bbox": [
           -74.10432707469124,
           40.56425549307335,
           -74.10432707469124,
           40.56425549307335
          ],
          "borough": "Staten Island",
          "name": "New Dorp Beach",
          "stacked": 3
         },
         "type": "Feature"
        },
        {
         "geometry": {
          "coordinates": [
           -74.139166,
           40.553988
          ],
          "type": "Point"
         },
         "geometry_name": "geom",
         "id": "nyu_2451_34572.236",
         "properties": {
          "annoangle": 0,
          "annoline1": "Bay",
          "annoline2": "Terrace",
          "annoline3": null,
          "bbox": [
           -74.13916622175768,
           40.55398800858462,
           -74.13916622175768,
           40.55398800858462
          ],
          "borough": "Staten Island",
          "name": "Bay Terrace",
          "stacked": 2
         },
         "type": "Feature"
        },
        {
         "geometry": {
          "coordinates": [
           -74.191741,
           40.531912
          ],
          "type": "Point"
         },
         "geometry_name": "geom",
         "id": "nyu_2451_34572.237",
         "properties": {
          "annoangle": 0,
          "annoline1": "Huguenot",
          "annoline2": null,
          "annoline3": null,
          "bbox": [
           -74.19174105747814,
           40.531911920489605,
           -74.19174105747814,
           40.531911920489605
          ],
          "borough": "Staten Island",
          "name": "Huguenot",
          "stacked": 1
         },
         "type": "Feature"
        },
        {
         "geometry": {
          "coordinates": [
           -74.219831,
           40.524699
          ],
          "type": "Point"
         },
         "geometry_name": "geom",
         "id": "nyu_2451_34572.238",
         "properties": {
          "annoangle": 0,
          "annoline1": "Pleasant",
          "annoline2": "Plains",
          "annoline3": null,
          "bbox": [
           -74.21983106616777,
           40.524699376118136,
           -74.21983106616777,
           40.524699376118136
          ],
          "borough": "Staten Island",
          "name": "Pleasant Plains",
          "stacked": 2
         },
         "type": "Feature"
        },
        {
         "geometry": {
          "coordinates": [
           -74.229504,
           40.506082
          ],
          "type": "Point"
         },
         "geometry_name": "geom",
         "id": "nyu_2451_34572.239",
         "properties": {
          "annoangle": 0,
          "annoline1": "Butler",
          "annoline2": "Manor",
          "annoline3": null,
          "bbox": [
           -74.22950350260027,
           40.50608165346305,
           -74.22950350260027,
           40.50608165346305
          ],
          "borough": "Staten Island",
          "name": "Butler Manor",
          "stacked": 2
         },
         "type": "Feature"
        },
        {
         "geometry": {
          "coordinates": [
           -74.232158,
           40.530531
          ],
          "type": "Point"
         },
         "geometry_name": "geom",
         "id": "nyu_2451_34572.240",
         "properties": {
          "annoangle": 0,
          "annoline1": "Charleston",
          "annoline2": null,
          "annoline3": null,
          "bbox": [
           -74.23215775896526,
           40.53053148283314,
           -74.23215775896526,
           40.53053148283314
          ],
          "borough": "Staten Island",
          "name": "Charleston",
          "stacked": 1
         },
         "type": "Feature"
        },
        {
         "geometry": {
          "coordinates": [
           -74.215729,
           40.549404
          ],
          "type": "Point"
         },
         "geometry_name": "geom",
         "id": "nyu_2451_34572.241",
         "properties": {
          "annoangle": 0,
          "annoline1": "Rossville",
          "annoline2": null,
          "annoline3": null,
          "bbox": [
           -74.21572851113952,
           40.54940400650072,
           -74.21572851113952,
           40.54940400650072
          ],
          "borough": "Staten Island",
          "name": "Rossville",
          "stacked": 1
         },
         "type": "Feature"
        },
        {
         "geometry": {
          "coordinates": [
           -74.185887,
           40.549286
          ],
          "type": "Point"
         },
         "geometry_name": "geom",
         "id": "nyu_2451_34572.242",
         "properties": {
          "annoangle": 0,
          "annoline1": "Arden",
          "annoline2": "Heights",
          "annoline3": null,
          "bbox": [
           -74.18588674583893,
           40.54928582278321,
           -74.18588674583893,
           40.54928582278321
          ],
          "borough": "Staten Island",
          "name": "Arden Heights",
          "stacked": 2
         },
         "type": "Feature"
        },
        {
         "geometry": {
          "coordinates": [
           -74.170794,
           40.555295
          ],
          "type": "Point"
         },
         "geometry_name": "geom",
         "id": "nyu_2451_34572.243",
         "properties": {
          "annoangle": 0,
          "annoline1": "Greenridge",
          "annoline2": null,
          "annoline3": null,
          "bbox": [
           -74.17079414786092,
           40.555295236173194,
           -74.17079414786092,
           40.555295236173194
          ],
          "borough": "Staten Island",
          "name": "Greenridge",
          "stacked": 1
         },
         "type": "Feature"
        },
        {
         "geometry": {
          "coordinates": [
           -74.159022,
           40.589139
          ],
          "type": "Point"
         },
         "geometry_name": "geom",
         "id": "nyu_2451_34572.244",
         "properties": {
          "annoangle": 0,
          "annoline1": "Heartland",
          "annoline2": "Village",
          "annoline3": null,
          "bbox": [
           -74.15902208156601,
           40.58913894875281,
           -74.15902208156601,
           40.58913894875281
          ],
          "borough": "Staten Island",
          "name": "Heartland Village",
          "stacked": 2
         },
         "type": "Feature"
        },
        {
         "geometry": {
          "coordinates": [
           -74.18956,
           40.594726
          ],
          "type": "Point"
         },
         "geometry_name": "geom",
         "id": "nyu_2451_34572.245",
         "properties": {
          "annoangle": 0,
          "annoline1": "Chelsea",
          "annoline2": null,
          "annoline3": null,
          "bbox": [
           -74.1895604551969,
           40.59472602746295,
           -74.1895604551969,
           40.59472602746295
          ],
          "borough": "Staten Island",
          "name": "Chelsea",
          "stacked": 1
         },
         "type": "Feature"
        },
        {
         "geometry": {
          "coordinates": [
           -74.187256,
           40.605779
          ],
          "type": "Point"
         },
         "geometry_name": "geom",
         "id": "nyu_2451_34572.246",
         "properties": {
          "annoangle": 0,
          "annoline1": "Bloomfield",
          "annoline2": null,
          "annoline3": null,
          "bbox": [
           -74.18725638381567,
           40.60577868452358,
           -74.18725638381567,
           40.60577868452358
          ],
          "borough": "Staten Island",
          "name": "Bloomfield",
          "stacked": 1
         },
         "type": "Feature"
        },
        {
         "geometry": {
          "coordinates": [
           -74.159409,
           40.609592
          ],
          "type": "Point"
         },
         "geometry_name": "geom",
         "id": "nyu_2451_34572.247",
         "properties": {
          "annoangle": 0,
          "annoline1": "Bulls",
          "annoline2": "Head",
          "annoline3": null,
          "bbox": [
           -74.15940948657122,
           40.6095918004203,
           -74.15940948657122,
           40.6095918004203
          ],
          "borough": "Staten Island",
          "name": "Bulls Head",
          "stacked": 2
         },
         "type": "Feature"
        },
        {
         "geometry": {
          "coordinates": [
           -73.953256,
           40.782683
          ],
          "type": "Point"
         },
         "geometry_name": "geom",
         "id": "nyu_2451_34572.248",
         "properties": {
          "annoangle": 0,
          "annoline1": "Carnegie",
          "annoline2": "Hill",
          "annoline3": null,
          "bbox": [
           -73.95325646837112,
           40.7826825671257,
           -73.95325646837112,
           40.7826825671257
          ],
          "borough": "Manhattan",
          "name": "Carnegie Hill",
          "stacked": 2
         },
         "type": "Feature"
        },
        {
         "geometry": {
          "coordinates": [
           -73.988434,
           40.723259
          ],
          "type": "Point"
         },
         "geometry_name": "geom",
         "id": "nyu_2451_34572.249",
         "properties": {
          "annoangle": 0,
          "annoline1": "Noho",
          "annoline2": null,
          "annoline3": null,
          "bbox": [
           -73.98843368023597,
           40.72325901885768,
           -73.98843368023597,
           40.72325901885768
          ],
          "borough": "Manhattan",
          "name": "Noho",
          "stacked": 1
         },
         "type": "Feature"
        },
        {
         "geometry": {
          "coordinates": [
           -74.005415,
           40.715229
          ],
          "type": "Point"
         },
         "geometry_name": "geom",
         "id": "nyu_2451_34572.250",
         "properties": {
          "annoangle": 0,
          "annoline1": "Civic",
          "annoline2": "Center",
          "annoline3": null,
          "bbox": [
           -74.00541529873355,
           40.71522892046282,
           -74.00541529873355,
           40.71522892046282
          ],
          "borough": "Manhattan",
          "name": "Civic Center",
          "stacked": 2
         },
         "type": "Feature"
        },
        {
         "geometry": {
          "coordinates": [
           -73.988713,
           40.74851
          ],
          "type": "Point"
         },
         "geometry_name": "geom",
         "id": "nyu_2451_34572.251",
         "properties": {
          "annoangle": 0,
          "annoline1": "Midtown",
          "annoline2": "South",
          "annoline3": null,
          "bbox": [
           -73.98871313285247,
           40.7485096643122,
           -73.98871313285247,
           40.7485096643122
          ],
          "borough": "Manhattan",
          "name": "Midtown South",
          "stacked": 2
         },
         "type": "Feature"
        },
        {
         "geometry": {
          "coordinates": [
           -74.134057,
           40.569606
          ],
          "type": "Point"
         },
         "geometry_name": "geom",
         "id": "nyu_2451_34572.252",
         "properties": {
          "annoangle": 0,
          "annoline1": "Richmond",
          "annoline2": "Town",
          "annoline3": null,
          "bbox": [
           -74.1340572986257,
           40.56960594275505,
           -74.1340572986257,
           40.56960594275505
          ],
          "borough": "Staten Island",
          "name": "Richmond Town",
          "stacked": 2
         },
         "type": "Feature"
        },
        {
         "geometry": {
          "coordinates": [
           -74.066678,
           40.609719
          ],
          "type": "Point"
         },
         "geometry_name": "geom",
         "id": "nyu_2451_34572.253",
         "properties": {
          "annoangle": 0,
          "annoline1": "Shore",
          "annoline2": "Acres",
          "annoline3": null,
          "bbox": [
           -74.06667766061771,
           40.60971934079284,
           -74.06667766061771,
           40.60971934079284
          ],
          "borough": "Staten Island",
          "name": "Shore Acres",
          "stacked": 2
         },
         "type": "Feature"
        },
        {
         "geometry": {
          "coordinates": [
           -74.072642,
           40.619178
          ],
          "type": "Point"
         },
         "geometry_name": "geom",
         "id": "nyu_2451_34572.254",
         "properties": {
          "annoangle": 0,
          "annoline1": "Clifton",
          "annoline2": null,
          "annoline3": null,
          "bbox": [
           -74.072642445484,
           40.61917845202843,
           -74.072642445484,
           40.61917845202843
          ],
          "borough": "Staten Island",
          "name": "Clifton",
          "stacked": 1
         },
         "type": "Feature"
        },
        {
         "geometry": {
          "coordinates": [
           -74.084024,
           40.604473
          ],
          "type": "Point"
         },
         "geometry_name": "geom",
         "id": "nyu_2451_34572.255",
         "properties": {
          "annoangle": 0,
          "annoline1": "Concord",
          "annoline2": null,
          "annoline3": null,
          "bbox": [
           -74.08402364740358,
           40.6044731896879,
           -74.08402364740358,
           40.6044731896879
          ],
          "borough": "Staten Island",
          "name": "Concord",
          "stacked": 1
         },
         "type": "Feature"
        },
        {
         "geometry": {
          "coordinates": [
           -74.097762,
           40.606794
          ],
          "type": "Point"
         },
         "geometry_name": "geom",
         "id": "nyu_2451_34572.256",
         "properties": {
          "annoangle": 0,
          "annoline1": "Emerson",
          "annoline2": "Hill",
          "annoline3": null,
          "bbox": [
           -74.09776206972522,
           40.606794394801,
           -74.09776206972522,
           40.606794394801
          ],
          "borough": "Staten Island",
          "name": "Emerson Hill",
          "stacked": 2
         },
         "type": "Feature"
        },
        {
         "geometry": {
          "coordinates": [
           -74.098051,
           40.63563
          ],
          "type": "Point"
         },
         "geometry_name": "geom",
         "id": "nyu_2451_34572.257",
         "properties": {
          "annoangle": 0,
          "annoline1": "Randall",
          "annoline2": "Manor",
          "annoline3": null,
          "bbox": [
           -74.09805062373887,
           40.63563000681151,
           -74.09805062373887,
           40.63563000681151
          ],
          "borough": "Staten Island",
          "name": "Randall Manor",
          "stacked": 2
         },
         "type": "Feature"
        },
        {
         "geometry": {
          "coordinates": [
           -74.186223,
           40.638433
          ],
          "type": "Point"
         },
         "geometry_name": "geom",
         "id": "nyu_2451_34572.258",
         "properties": {
          "annoangle": 0,
          "annoline1": "Howland",
          "annoline2": "Hook",
          "annoline3": null,
          "bbox": [
           -74.18622331749823,
           40.63843283794795,
           -74.18622331749823,
           40.63843283794795
          ],
          "borough": "Staten Island",
          "name": "Howland Hook",
          "stacked": 2
         },
         "type": "Feature"
        },
        {
         "geometry": {
          "coordinates": [
           -74.141817,
           40.630147
          ],
          "type": "Point"
         },
         "geometry_name": "geom",
         "id": "nyu_2451_34572.259",
         "properties": {
          "annoangle": 0,
          "annoline1": "Elm",
          "annoline2": "Park",
          "annoline3": null,
          "bbox": [
           -74.1418167896889,
           40.630146741193826,
           -74.1418167896889,
           40.630146741193826
          ],
          "borough": "Staten Island",
          "name": "Elm Park",
          "stacked": 2
         },
         "type": "Feature"
        },
        {
         "geometry": {
          "coordinates": [
           -73.916653,
           40.652117
          ],
          "type": "Point"
         },
         "geometry_name": "geom",
         "id": "nyu_2451_34572.260",
         "properties": {
          "annoangle": 0,
          "annoline1": "Remsen",
          "annoline2": "Village",
          "annoline3": null,
          "bbox": [
           -73.91665331978048,
           40.652117451793494,
           -73.91665331978048,
           40.652117451793494
          ],
          "borough": "Brooklyn",
          "name": "Remsen Village",
          "stacked": 2
         },
         "type": "Feature"
        },
        {
         "geometry": {
          "coordinates": [
           -73.885118,
           40.662744
          ],
          "type": "Point"
         },
         "geometry_name": "geom",
         "id": "nyu_2451_34572.261",
         "properties": {
          "annoangle": 0,
          "annoline1": "New",
          "annoline2": "Lots",
          "annoline3": null,
          "bbox": [
           -73.88511776379292,
           40.6627442796966,
           -73.88511776379292,
           40.6627442796966
          ],
          "borough": "Brooklyn",
          "name": "New Lots",
          "stacked": 2
         },
         "type": "Feature"
        },
        {
         "geometry": {
          "coordinates": [
           -73.902335,
           40.631318
          ],
          "type": "Point"
         },
         "geometry_name": "geom",
         "id": "nyu_2451_34572.262",
         "properties": {
          "annoangle": 0,
          "annoline1": "Paerdegat",
          "annoline2": "Basin",
          "annoline3": null,
          "bbox": [
           -73.90233474295836,
           40.63131755039667,
           -73.90233474295836,
           40.63131755039667
          ],
          "borough": "Brooklyn",
          "name": "Paerdegat Basin",
          "stacked": 2
         },
         "type": "Feature"
        },
        {
         "geometry": {
          "coordinates": [
           -73.915154,
           40.615974
          ],
          "type": "Point"
         },
         "geometry_name": "geom",
         "id": "nyu_2451_34572.263",
         "properties": {
          "annoangle": 0,
          "annoline1": "Mill",
          "annoline2": "Basin",
          "annoline3": null,
          "bbox": [
           -73.91515391550404,
           40.61597423962336,
           -73.91515391550404,
           40.61597423962336
          ],
          "borough": "Brooklyn",
          "name": "Mill Basin",
          "stacked": 2
         },
         "type": "Feature"
        },
        {
         "geometry": {
          "coordinates": [
           -73.796465,
           40.71146
          ],
          "type": "Point"
         },
         "geometry_name": "geom",
         "id": "nyu_2451_34572.264",
         "properties": {
          "annoangle": 0,
          "annoline1": "Jamaica",
          "annoline2": "Hills",
          "annoline3": null,
          "bbox": [
           -73.79646462081593,
           40.71145964370482,
           -73.79646462081593,
           40.71145964370482
          ],
          "borough": "Queens",
          "name": "Jamaica Hills",
          "stacked": 2
         },
         "type": "Feature"
        },
        {
         "geometry": {
          "coordinates": [
           -73.796717,
           40.7335
          ],
          "type": "Point"
         },
         "geometry_name": "geom",
         "id": "nyu_2451_34572.265",
         "properties": {
          "annoangle": 0,
          "annoline1": "Utopia",
          "annoline2": null,
          "annoline3": null,
          "bbox": [
           -73.79671678028349,
           40.73350025429757,
           -73.79671678028349,
           40.73350025429757
          ],
          "borough": "Queens",
          "name": "Utopia",
          "stacked": 1
         },
         "type": "Feature"
        },
        {
         "geometry": {
          "coordinates": [
           -73.804861,
           40.734936
          ],
          "type": "Point"
         },
         "geometry_name": "geom",
         "id": "nyu_2451_34572.266",
         "properties": {
          "annoangle": 0,
          "annoline1": "Pomonok",
          "annoline2": null,
          "annoline3": null,
          "bbox": [
           -73.80486120040537,
           40.73493618075478,
           -73.80486120040537,
           40.73493618075478
          ],
          "borough": "Queens",
          "name": "Pomonok",
          "stacked": 1
         },
         "type": "Feature"
        },
        {
         "geometry": {
          "coordinates": [
           -73.89468,
           40.770317
          ],
          "type": "Point"
         },
         "geometry_name": "geom",
         "id": "nyu_2451_34572.267",
         "properties": {
          "annoangle": 0,
          "annoline1": "Astoria",
          "annoline2": "Heights",
          "annoline3": null,
          "bbox": [
           -73.89467996270574,
           40.7703173929982,
           -73.89467996270574,
           40.7703173929982
          ],
          "borough": "Queens",
          "name": "Astoria Heights",
          "stacked": 2
         },
         "type": "Feature"
        },
        {
         "geometry": {
          "coordinates": [
           -73.901199,
           40.831428
          ],
          "type": "Point"
         },
         "geometry_name": "geom",
         "id": "nyu_2451_34572.268",
         "properties": {
          "annoangle": 0,
          "annoline1": "Claremont",
          "annoline2": "Village",
          "annoline3": null,
          "bbox": [
           -73.90119903387667,
           40.83142834161548,
           -73.90119903387667,
           40.83142834161548
          ],
          "borough": "Bronx",
          "name": "Claremont Village",
          "stacked": 2
         },
         "type": "Feature"
        },
        {
         "geometry": {
          "coordinates": [
           -73.915847,
           40.82478
          ],
          "type": "Point"
         },
         "geometry_name": "geom",
         "id": "nyu_2451_34572.269",
         "properties": {
          "annoangle": 0,
          "annoline1": "Concourse",
          "annoline2": "Village",
          "annoline3": null,
          "bbox": [
           -73.91584652759009,
           40.824780490842905,
           -73.91584652759009,
           40.824780490842905
          ],
          "borough": "Bronx",
          "name": "Concourse Village",
          "stacked": 2
         },
         "type": "Feature"
        },
        {
         "geometry": {
          "coordinates": [
           -73.916556,
           40.843826
          ],
          "type": "Point"
         },
         "geometry_name": "geom",
         "id": "nyu_2451_34572.270",
         "properties": {
          "annoangle": 0,
          "annoline1": "Mount",
          "annoline2": "Eden",
          "annoline3": null,
          "bbox": [
           -73.91655551964419,
           40.84382617671654,
           -73.91655551964419,
           40.84382617671654
          ],
          "borough": "Bronx",
          "name": "Mount Eden",
          "stacked": 2
         },
         "type": "Feature"
        },
        {
         "geometry": {
          "coordinates": [
           -73.908299,
           40.848842
          ],
          "type": "Point"
         },
         "geometry_name": "geom",
         "id": "nyu_2451_34572.271",
         "properties": {
          "annoangle": 0,
          "annoline1": "Mount",
          "annoline2": "Hope",
          "annoline3": null,
          "bbox": [
           -73.90829930881988,
           40.84884160724665,
           -73.90829930881988,
           40.84884160724665
          ],
          "borough": "Bronx",
          "name": "Mount Hope",
          "stacked": 2
         },
         "type": "Feature"
        },
        {
         "geometry": {
          "coordinates": [
           -73.963556,
           40.76028
          ],
          "type": "Point"
         },
         "geometry_name": "geom",
         "id": "nyu_2451_34572.272",
         "properties": {
          "annoangle": 0,
          "annoline1": "Sutton",
          "annoline2": "Place",
          "annoline3": null,
          "bbox": [
           -73.96355614094303,
           40.76028033131374,
           -73.96355614094303,
           40.76028033131374
          ],
          "borough": "Manhattan",
          "name": "Sutton Place",
          "stacked": 2
         },
         "type": "Feature"
        },
        {
         "geometry": {
          "coordinates": [
           -73.953868,
           40.743414
          ],
          "type": "Point"
         },
         "geometry_name": "geom",
         "id": "nyu_2451_34572.273",
         "properties": {
          "annoangle": 0,
          "annoline1": "Hunters",
          "annoline2": "Point",
          "annoline3": null,
          "bbox": [
           -73.95386782130745,
           40.743414090073536,
           -73.95386782130745,
           40.743414090073536
          ],
          "borough": "Queens",
          "name": "Hunters Point",
          "stacked": 2
         },
         "type": "Feature"
        },
        {
         "geometry": {
          "coordinates": [
           -73.967708,
           40.752042
          ],
          "type": "Point"
         },
         "geometry_name": "geom",
         "id": "nyu_2451_34572.274",
         "properties": {
          "annoangle": 0,
          "annoline1": "Turtle",
          "annoline2": "Bay",
          "annoline3": null,
          "bbox": [
           -73.96770824581834,
           40.75204236950722,
           -73.96770824581834,
           40.75204236950722
          ],
          "borough": "Manhattan",
          "name": "Turtle Bay",
          "stacked": 2
         },
         "type": "Feature"
        },
        {
         "geometry": {
          "coordinates": [
           -73.971219,
           40.746917
          ],
          "type": "Point"
         },
         "geometry_name": "geom",
         "id": "nyu_2451_34572.275",
         "properties": {
          "annoangle": 0,
          "annoline1": "Tudor",
          "annoline2": "City",
          "annoline3": null,
          "bbox": [
           -73.97121928722265,
           40.746917410740195,
           -73.97121928722265,
           40.746917410740195
          ],
          "borough": "Manhattan",
          "name": "Tudor City",
          "stacked": 2
         },
         "type": "Feature"
        },
        {
         "geometry": {
          "coordinates": [
           -73.974052,
           40.731
          ],
          "type": "Point"
         },
         "geometry_name": "geom",
         "id": "nyu_2451_34572.276",
         "properties": {
          "annoangle": 0,
          "annoline1": "Stuyvesant",
          "annoline2": "Town",
          "annoline3": null,
          "bbox": [
           -73.97405170469203,
           40.73099955477061,
           -73.97405170469203,
           40.73099955477061
          ],
          "borough": "Manhattan",
          "name": "Stuyvesant Town",
          "stacked": 2
         },
         "type": "Feature"
        },
        {
         "geometry": {
          "coordinates": [
           -73.990947,
           40.739673
          ],
          "type": "Point"
         },
         "geometry_name": "geom",
         "id": "nyu_2451_34572.277",
         "properties": {
          "annoangle": 0,
          "annoline1": "Flatiron",
          "annoline2": null,
          "annoline3": null,
          "bbox": [
           -73.9909471052826,
           40.739673047638426,
           -73.9909471052826,
           40.739673047638426
          ],
          "borough": "Manhattan",
          "name": "Flatiron",
          "stacked": 1
         },
         "type": "Feature"
        },
        {
         "geometry": {
          "coordinates": [
           -73.918193,
           40.745652
          ],
          "type": "Point"
         },
         "geometry_name": "geom",
         "id": "nyu_2451_34572.278",
         "properties": {
          "annoangle": 0,
          "annoline1": "Sunnyside",
          "annoline2": "Gardens",
          "annoline3": null,
          "bbox": [
           -73.91819286431682,
           40.74565180608076,
           -73.91819286431682,
           40.74565180608076
          ],
          "borough": "Queens",
          "name": "Sunnyside Gardens",
          "stacked": 2
         },
         "type": "Feature"
        },
        {
         "geometry": {
          "coordinates": [
           -73.932442,
           40.737251
          ],
          "type": "Point"
         },
         "geometry_name": "geom",
         "id": "nyu_2451_34572.279",
         "properties": {
          "annoangle": 0,
          "annoline1": "Blissville",
          "annoline2": null,
          "annoline3": null,
          "bbox": [
           -73.93244235260178,
           40.73725071694497,
           -73.93244235260178,
           40.73725071694497
          ],
          "borough": "Queens",
          "name": "Blissville",
          "stacked": 1
         },
         "type": "Feature"
        },
        {
         "geometry": {
          "coordinates": [
           -73.995508,
           40.703281
          ],
          "type": "Point"
         },
         "geometry_name": "geom",
         "id": "nyu_2451_34572.280",
         "properties": {
          "annoangle": 0,
          "annoline1": "Fulton",
          "annoline2": "Ferry",
          "annoline3": null,
          "bbox": [
           -73.99550751888415,
           40.70328109093014,
           -73.99550751888415,
           40.70328109093014
          ],
          "borough": "Brooklyn",
          "name": "Fulton Ferry",
          "stacked": 2
         },
         "type": "Feature"
        },
        {
         "geometry": {
          "coordinates": [
           -73.981116,
           40.703321
          ],
          "type": "Point"
         },
         "geometry_name": "geom",
         "id": "nyu_2451_34572.281",
         "properties": {
          "annoangle": 0,
          "annoline1": "Vinegar",
          "annoline2": "Hill",
          "annoline3": null,
          "bbox": [
           -73.98111603592393,
           40.70332149882874,
           -73.98111603592393,
           40.70332149882874
          ],
          "borough": "Brooklyn",
          "name": "Vinegar Hill",
          "stacked": 2
         },
         "type": "Feature"
        },
        {
         "geometry": {
          "coordinates": [
           -73.930531,
           40.67504
          ],
          "type": "Point"
         },
         "geometry_name": "geom",
         "id": "nyu_2451_34572.282",
         "properties": {
          "annoangle": 0,
          "annoline1": "Weeksville",
          "annoline2": null,
          "annoline3": null,
          "bbox": [
           -73.93053108817338,
           40.67503986503237,
           -73.93053108817338,
           40.67503986503237
          ],
          "borough": "Brooklyn",
          "name": "Weeksville",
          "stacked": 1
         },
         "type": "Feature"
        },
        {
         "geometry": {
          "coordinates": [
           -73.903317,
           40.677861
          ],
          "type": "Point"
         },
         "geometry_name": "geom",
         "id": "nyu_2451_34572.283",
         "properties": {
          "annoangle": 0,
          "annoline1": "Broadway",
          "annoline2": "Junction",
          "annoline3": null,
          "bbox": [
           -73.90331684852599,
           40.67786104769531,
           -73.90331684852599,
           40.67786104769531
          ],
          "borough": "Brooklyn",
          "name": "Broadway Junction",
          "stacked": 2
         },
         "type": "Feature"
        },
        {
         "geometry": {
          "coordinates": [
           -73.988753,
           40.703176
          ],
          "type": "Point"
         },
         "geometry_name": "geom",
         "id": "nyu_2451_34572.284",
         "properties": {
          "annoangle": 0,
          "annoline1": "Dumbo",
          "annoline2": null,
          "annoline3": null,
          "bbox": [
           -73.9887528074504,
           40.70317632822692,
           -73.9887528074504,
           40.70317632822692
          ],
          "borough": "Brooklyn",
          "name": "Dumbo",
          "stacked": 1
         },
         "type": "Feature"
        },
        {
         "geometry": {
          "coordinates": [
           -74.120594,
           40.60181
          ],
          "type": "Point"
         },
         "geometry_name": "geom",
         "id": "nyu_2451_34572.285",
         "properties": {
          "annoangle": 0,
          "annoline1": "Manor",
          "annoline2": "Heights",
          "annoline3": null,
          "bbox": [
           -74.12059399718001,
           40.60180957631444,
           -74.12059399718001,
           40.60180957631444
          ],
          "borough": "Staten Island",
          "name": "Manor Heights",
          "stacked": 2
         },
         "type": "Feature"
        },
        {
         "geometry": {
          "coordinates": [
           -74.132084,
           40.603707
          ],
          "type": "Point"
         },
         "geometry_name": "geom",
         "id": "nyu_2451_34572.286",
         "properties": {
          "annoangle": 0,
          "annoline1": "Willowbrook",
          "annoline2": null,
          "annoline3": null,
          "bbox": [
           -74.13208447484298,
           40.60370692627371,
           -74.13208447484298,
           40.60370692627371
          ],
          "borough": "Staten Island",
          "name": "Willowbrook",
          "stacked": 1
         },
         "type": "Feature"
        },
        {
         "geometry": {
          "coordinates": [
           -74.217766,
           40.54114
          ],
          "type": "Point"
         },
         "geometry_name": "geom",
         "id": "nyu_2451_34572.287",
         "properties": {
          "annoangle": 0,
          "annoline1": "Sandy",
          "annoline2": "Ground",
          "annoline3": null,
          "bbox": [
           -74.21776636068567,
           40.541139922091766,
           -74.21776636068567,
           40.541139922091766
          ],
          "borough": "Staten Island",
          "name": "Sandy Ground",
          "stacked": 2
         },
         "type": "Feature"
        },
        {
         "geometry": {
          "coordinates": [
           -74.127272,
           40.579119
          ],
          "type": "Point"
         },
         "geometry_name": "geom",
         "id": "nyu_2451_34572.288",
         "properties": {
          "annoangle": 0,
          "annoline1": "Egbertville",
          "annoline2": null,
          "annoline3": null,
          "bbox": [
           -74.12727240604946,
           40.579118742961214,
           -74.12727240604946,
           40.579118742961214
          ],
          "borough": "Staten Island",
          "name": "Egbertville",
          "stacked": 1
         },
         "type": "Feature"
        },
        {
         "geometry": {
          "coordinates": [
           -73.892138,
           40.567376
          ],
          "type": "Point"
         },
         "geometry_name": "geom",
         "id": "nyu_2451_34572.289",
         "properties": {
          "annoangle": 0,
          "annoline1": "Roxbury",
          "annoline2": null,
          "annoline3": null,
          "bbox": [
           -73.89213760232822,
           40.56737588957032,
           -73.89213760232822,
           40.56737588957032
          ],
          "borough": "Queens",
          "name": "Roxbury",
          "stacked": 1
         },
         "type": "Feature"
        },
        {
         "geometry": {
          "coordinates": [
           -73.959185,
           40.598525
          ],
          "type": "Point"
         },
         "geometry_name": "geom",
         "id": "nyu_2451_34572.290",
         "properties": {
          "annoangle": 0,
          "annoline1": "Homecrest",
          "annoline2": null,
          "annoline3": null,
          "bbox": [
           -73.95918459428702,
           40.598525095137255,
           -73.95918459428702,
           40.598525095137255
          ],
          "borough": "Brooklyn",
          "name": "Homecrest",
          "stacked": 1
         },
         "type": "Feature"
        },
        {
         "geometry": {
          "coordinates": [
           -73.881143,
           40.716415
          ],
          "type": "Point"
         },
         "geometry_name": "geom",
         "id": "nyu_2451_34572.291",
         "properties": {
          "annoangle": 0,
          "annoline1": "Middle",
          "annoline2": "Village",
          "annoline3": null,
          "bbox": [
           -73.88114319200604,
           40.716414511158185,
           -73.88114319200604,
           40.716414511158185
          ],
          "borough": "Queens",
          "name": "Middle Village",
          "stacked": 2
         },
         "type": "Feature"
        },
        {
         "geometry": {
          "coordinates": [
           -74.201526,
           40.526264
          ],
          "type": "Point"
         },
         "geometry_name": "geom",
         "id": "nyu_2451_34572.292",
         "properties": {
          "annoangle": 0,
          "annoline1": "Prince's",
          "annoline2": "Bay",
          "annoline3": null,
          "bbox": [
           -74.20152556457658,
           40.52626406734812,
           -74.20152556457658,
           40.52626406734812
          ],
          "borough": "Staten Island",
          "name": "Prince's Bay",
          "stacked": 2
         },
         "type": "Feature"
        },
        {
         "geometry": {
          "coordinates": [
           -74.137927,
           40.576506
          ],
          "type": "Point"
         },
         "geometry_name": "geom",
         "id": "nyu_2451_34572.293",
         "properties": {
          "annoangle": 0,
          "annoline1": "Lighthouse",
          "annoline2": "Hill",
          "annoline3": null,
          "bbox": [
           -74.13792663771568,
           40.57650629379489,
           -74.13792663771568,
           40.57650629379489
          ],
          "borough": "Staten Island",
          "name": "Lighthouse Hill",
          "stacked": 2
         },
         "type": "Feature"
        },
        {
         "geometry": {
          "coordinates": [
           -74.229571,
           40.519541
          ],
          "type": "Point"
         },
         "geometry_name": "geom",
         "id": "nyu_2451_34572.294",
         "properties": {
          "annoangle": 0,
          "annoline1": "Richmond",
          "annoline2": "Valley",
          "annoline3": null,
          "bbox": [
           -74.22957080626941,
           40.51954145748909,
           -74.22957080626941,
           40.51954145748909
          ],
          "borough": "Staten Island",
          "name": "Richmond Valley",
          "stacked": 2
         },
         "type": "Feature"
        },
        {
         "geometry": {
          "coordinates": [
           -73.826678,
           40.790602
          ],
          "type": "Point"
         },
         "geometry_name": "geom",
         "id": "nyu_2451_34572.295",
         "properties": {
          "annoangle": 0,
          "annoline1": "Malba",
          "annoline2": null,
          "annoline3": null,
          "bbox": [
           -73.82667757138641,
           40.79060155670148,
           -73.82667757138641,
           40.79060155670148
          ],
          "borough": "Queens",
          "name": "Malba",
          "stacked": 1
         },
         "type": "Feature"
        },
        {
         "geometry": {
          "coordinates": [
           -73.890346,
           40.681999
          ],
          "type": "Point"
         },
         "geometry_name": "geom",
         "id": "nyu_2451_34572.296",
         "properties": {
          "annoangle": 0,
          "annoline1": "Highland",
          "annoline2": "Park",
          "annoline3": null,
          "bbox": [
           -73.890345709872,
           40.6819989345173,
           -73.890345709872,
           40.6819989345173
          ],
          "borough": "Brooklyn",
          "name": "Highland Park",
          "stacked": 2
         },
         "type": "Feature"
        },
        {
         "geometry": {
          "coordinates": [
           -73.948415,
           40.609378
          ],
          "type": "Point"
         },
         "geometry_name": "geom",
         "id": "nyu_2451_34572.297",
         "properties": {
          "annoangle": 0,
          "annoline1": "Madison",
          "annoline2": null,
          "annoline3": null,
          "bbox": [
           -73.94841515328893,
           40.60937770113766,
           -73.94841515328893,
           40.60937770113766
          ],
          "borough": "Brooklyn",
          "name": "Madison",
          "stacked": 1
         },
         "type": "Feature"
        },
        {
         "geometry": {
          "coordinates": [
           -73.861726,
           40.852723
          ],
          "type": "Point"
         },
         "geometry_name": "geom",
         "id": "nyu_2451_34572.298",
         "properties": {
          "annoangle": 0,
          "annoline1": "Bronxdale",
          "annoline2": null,
          "annoline3": null,
          "bbox": [
           -73.86172577555115,
           40.85272297633017,
           -73.86172577555115,
           40.85272297633017
          ],
          "borough": "Bronx",
          "name": "Bronxdale",
          "stacked": 1
         },
         "type": "Feature"
        },
        {
         "geometry": {
          "coordinates": [
           -73.859319,
           40.865788
          ],
          "type": "Point"
         },
         "geometry_name": "geom",
         "id": "nyu_2451_34572.299",
         "properties": {
          "annoangle": 0,
          "annoline1": "Allerton",
          "annoline2": null,
          "annoline3": null,
          "bbox": [
           -73.85931863221647,
           40.86578787802982,
           -73.85931863221647,
           40.86578787802982
          ],
          "borough": "Bronx",
          "name": "Allerton",
          "stacked": 1
         },
         "type": "Feature"
        },
        {
         "geometry": {
          "coordinates": [
           -73.901523,
           40.870392
          ],
          "type": "Point"
         },
         "geometry_name": "geom",
         "id": "nyu_2451_34572.300",
         "properties": {
          "annoangle": 0,
          "annoline1": "Kingsbridge",
          "annoline2": "Heights",
          "annoline3": null,
          "bbox": [
           -73.90152264513144,
           40.8703923914147,
           -73.90152264513144,
           40.8703923914147
          ],
          "borough": "Bronx",
          "name": "Kingsbridge Heights",
          "stacked": 2
         },
         "type": "Feature"
        },
        {
         "geometry": {
          "coordinates": [
           -73.948177,
           40.646926
          ],
          "type": "Point"
         },
         "geometry_name": "geom",
         "id": "nyu_2451_34572.301",
         "properties": {
          "annoangle": 0,
          "annoline1": "Erasmus",
          "annoline2": null,
          "annoline3": null,
          "bbox": [
           -73.94817709920184,
           40.64692606658579,
           -73.94817709920184,
           40.64692606658579
          ],
          "borough": "Brooklyn",
          "name": "Erasmus",
          "stacked": 1
         },
         "type": "Feature"
        },
        {
         "geometry": {
          "coordinates": [
           -74.000111,
           40.756658
          ],
          "type": "Point"
         },
         "geometry_name": "geom",
         "id": "nyu_2451_34572.302",
         "properties": {
          "annoangle": 0,
          "annoline1": "Hudson",
          "annoline2": "Yards",
          "annoline3": null,
          "bbox": [
           -74.00011136202637,
           40.75665808227519,
           -74.00011136202637,
           40.75665808227519
          ],
          "borough": "Manhattan",
          "name": "Hudson Yards",
          "stacked": 2
         },
         "type": "Feature"
        },
        {
         "geometry": {
          "coordinates": [
           -73.80553,
           40.587338
          ],
          "type": "Point"
         },
         "geometry_name": "geom",
         "id": "nyu_2451_34572.303",
         "properties": {
          "annoangle": 0,
          "annoline1": "Hammels",
          "annoline2": null,
          "annoline3": null,
          "bbox": [
           -73.80553002968718,
           40.58733774018741,
           -73.80553002968718,
           40.58733774018741
          ],
          "borough": "Queens",
          "name": "Hammels",
          "stacked": 1
         },
         "type": "Feature"
        },
        {
         "geometry": {
          "coordinates": [
           -73.765968,
           40.611322
          ],
          "type": "Point"
         },
         "geometry_name": "geom",
         "id": "nyu_2451_34572.304",
         "properties": {
          "annoangle": 0,
          "annoline1": "Bayswater",
          "annoline2": null,
          "annoline3": null,
          "bbox": [
           -73.76596781445627,
           40.611321691283834,
           -73.76596781445627,
           40.611321691283834
          ],
          "borough": "Queens",
          "name": "Bayswater",
          "stacked": 1
         },
         "type": "Feature"
        },
        {
         "geometry": {
          "coordinates": [
           -73.945631,
           40.756091
          ],
          "type": "Point"
         },
         "geometry_name": "geom",
         "id": "nyu_2451_34572.305",
         "properties": {
          "annoangle": 0,
          "annoline1": "Queensbridge",
          "annoline2": null,
          "annoline3": null,
          "bbox": [
           -73.94563070334091,
           40.756091297094706,
           -73.94563070334091,
           40.756091297094706
          ],
          "borough": "Queens",
          "name": "Queensbridge",
          "stacked": 1
         },
         "type": "Feature"
        },
        {
         "geometry": {
          "coordinates": [
           -74.08174,
           40.617311
          ],
          "type": "Point"
         },
         "geometry_name": "geom",
         "id": "nyu_2451_34572.306",
         "properties": {
          "annoangle": 0,
          "annoline1": "Fox",
          "annoline2": "Hills",
          "annoline3": null,
          "bbox": [
           -74.08173992211962,
           40.61731079252983,
           -74.08173992211962,
           40.61731079252983
          ],
          "borough": "Staten Island",
          "name": "Fox Hills",
          "stacked": 2
         },
         "type": "Feature"
        }
       ],
       "totalFeatures": 306,
       "type": "FeatureCollection"
      },
      "text/plain": [
       "<IPython.core.display.JSON object>"
      ]
     },
     "execution_count": 6,
     "metadata": {
      "application/json": {
       "expanded": false,
       "root": "root"
      }
     },
     "output_type": "execute_result"
    }
   ],
   "source": [
    "JSON(gj)"
   ]
  },
  {
   "cell_type": "code",
   "execution_count": 7,
   "id": "2403169c-a480-4b2c-b602-204d1d2a173e",
   "metadata": {},
   "outputs": [],
   "source": [
    "neighborhood = gj['features'][0] # will have to loop through features one at a time"
   ]
  },
  {
   "cell_type": "code",
   "execution_count": 8,
   "id": "fd1b93bf-5228-47ec-8052-7302ce3f07d9",
   "metadata": {},
   "outputs": [
    {
     "data": {
      "text/plain": [
       "{\"geometry\": {\"coordinates\": [-73.847201, 40.894705], \"type\": \"Point\"}, \"geometry_name\": \"geom\", \"id\": \"nyu_2451_34572.1\", \"properties\": {\"annoangle\": 0.0, \"annoline1\": \"Wakefield\", \"annoline2\": null, \"annoline3\": null, \"bbox\": [-73.84720052054902, 40.89470517661, -73.84720052054902, 40.89470517661], \"borough\": \"Bronx\", \"name\": \"Wakefield\", \"stacked\": 1}, \"type\": \"Feature\"}"
      ]
     },
     "execution_count": 8,
     "metadata": {},
     "output_type": "execute_result"
    }
   ],
   "source": [
    "neighborhood"
   ]
  },
  {
   "cell_type": "code",
   "execution_count": 9,
   "id": "1bcecd3b-cd78-4e0e-83a7-a43fb0d51e42",
   "metadata": {},
   "outputs": [],
   "source": [
    "df = pd.DataFrame(neighborhood)"
   ]
  },
  {
   "cell_type": "code",
   "execution_count": 10,
   "id": "d71b620c-4b4a-47c4-81e5-07afa621c2fa",
   "metadata": {},
   "outputs": [
    {
     "data": {
      "text/html": [
       "<div>\n",
       "<style scoped>\n",
       "    .dataframe tbody tr th:only-of-type {\n",
       "        vertical-align: middle;\n",
       "    }\n",
       "\n",
       "    .dataframe tbody tr th {\n",
       "        vertical-align: top;\n",
       "    }\n",
       "\n",
       "    .dataframe thead th {\n",
       "        text-align: right;\n",
       "    }\n",
       "</style>\n",
       "<table border=\"1\" class=\"dataframe\">\n",
       "  <thead>\n",
       "    <tr style=\"text-align: right;\">\n",
       "      <th></th>\n",
       "      <th>type</th>\n",
       "      <th>geometry_name</th>\n",
       "      <th>id</th>\n",
       "      <th>geometry</th>\n",
       "      <th>properties</th>\n",
       "    </tr>\n",
       "  </thead>\n",
       "  <tbody>\n",
       "    <tr>\n",
       "      <th>type</th>\n",
       "      <td>Feature</td>\n",
       "      <td>geom</td>\n",
       "      <td>nyu_2451_34572.1</td>\n",
       "      <td>Point</td>\n",
       "      <td>NaN</td>\n",
       "    </tr>\n",
       "    <tr>\n",
       "      <th>coordinates</th>\n",
       "      <td>Feature</td>\n",
       "      <td>geom</td>\n",
       "      <td>nyu_2451_34572.1</td>\n",
       "      <td>[-73.847201, 40.894705]</td>\n",
       "      <td>NaN</td>\n",
       "    </tr>\n",
       "    <tr>\n",
       "      <th>name</th>\n",
       "      <td>Feature</td>\n",
       "      <td>geom</td>\n",
       "      <td>nyu_2451_34572.1</td>\n",
       "      <td>NaN</td>\n",
       "      <td>Wakefield</td>\n",
       "    </tr>\n",
       "    <tr>\n",
       "      <th>stacked</th>\n",
       "      <td>Feature</td>\n",
       "      <td>geom</td>\n",
       "      <td>nyu_2451_34572.1</td>\n",
       "      <td>NaN</td>\n",
       "      <td>1</td>\n",
       "    </tr>\n",
       "    <tr>\n",
       "      <th>annoline1</th>\n",
       "      <td>Feature</td>\n",
       "      <td>geom</td>\n",
       "      <td>nyu_2451_34572.1</td>\n",
       "      <td>NaN</td>\n",
       "      <td>Wakefield</td>\n",
       "    </tr>\n",
       "    <tr>\n",
       "      <th>annoline2</th>\n",
       "      <td>Feature</td>\n",
       "      <td>geom</td>\n",
       "      <td>nyu_2451_34572.1</td>\n",
       "      <td>NaN</td>\n",
       "      <td>None</td>\n",
       "    </tr>\n",
       "    <tr>\n",
       "      <th>annoline3</th>\n",
       "      <td>Feature</td>\n",
       "      <td>geom</td>\n",
       "      <td>nyu_2451_34572.1</td>\n",
       "      <td>NaN</td>\n",
       "      <td>None</td>\n",
       "    </tr>\n",
       "    <tr>\n",
       "      <th>annoangle</th>\n",
       "      <td>Feature</td>\n",
       "      <td>geom</td>\n",
       "      <td>nyu_2451_34572.1</td>\n",
       "      <td>NaN</td>\n",
       "      <td>0.0</td>\n",
       "    </tr>\n",
       "    <tr>\n",
       "      <th>borough</th>\n",
       "      <td>Feature</td>\n",
       "      <td>geom</td>\n",
       "      <td>nyu_2451_34572.1</td>\n",
       "      <td>NaN</td>\n",
       "      <td>Bronx</td>\n",
       "    </tr>\n",
       "    <tr>\n",
       "      <th>bbox</th>\n",
       "      <td>Feature</td>\n",
       "      <td>geom</td>\n",
       "      <td>nyu_2451_34572.1</td>\n",
       "      <td>NaN</td>\n",
       "      <td>[-73.84720052054902, 40.89470517661, -73.84720...</td>\n",
       "    </tr>\n",
       "  </tbody>\n",
       "</table>\n",
       "</div>"
      ],
      "text/plain": [
       "                type geometry_name                id                 geometry  \\\n",
       "type         Feature          geom  nyu_2451_34572.1                    Point   \n",
       "coordinates  Feature          geom  nyu_2451_34572.1  [-73.847201, 40.894705]   \n",
       "name         Feature          geom  nyu_2451_34572.1                      NaN   \n",
       "stacked      Feature          geom  nyu_2451_34572.1                      NaN   \n",
       "annoline1    Feature          geom  nyu_2451_34572.1                      NaN   \n",
       "annoline2    Feature          geom  nyu_2451_34572.1                      NaN   \n",
       "annoline3    Feature          geom  nyu_2451_34572.1                      NaN   \n",
       "annoangle    Feature          geom  nyu_2451_34572.1                      NaN   \n",
       "borough      Feature          geom  nyu_2451_34572.1                      NaN   \n",
       "bbox         Feature          geom  nyu_2451_34572.1                      NaN   \n",
       "\n",
       "                                                    properties  \n",
       "type                                                       NaN  \n",
       "coordinates                                                NaN  \n",
       "name                                                 Wakefield  \n",
       "stacked                                                      1  \n",
       "annoline1                                            Wakefield  \n",
       "annoline2                                                 None  \n",
       "annoline3                                                 None  \n",
       "annoangle                                                  0.0  \n",
       "borough                                                  Bronx  \n",
       "bbox         [-73.84720052054902, 40.89470517661, -73.84720...  "
      ]
     },
     "execution_count": 10,
     "metadata": {},
     "output_type": "execute_result"
    }
   ],
   "source": [
    "df"
   ]
  },
  {
   "cell_type": "code",
   "execution_count": 11,
   "id": "652aa275-9a5c-41ed-8f38-bdbdb90d1d14",
   "metadata": {},
   "outputs": [
    {
     "name": "stdout",
     "output_type": "stream",
     "text": [
      "Wakefield Bronx\n"
     ]
    }
   ],
   "source": [
    "hood_prop = gj['features'][0]['properties']\n",
    "print(hood_prop['name'], hood_prop['borough'])"
   ]
  },
  {
   "cell_type": "code",
   "execution_count": 12,
   "id": "296e5878-1ee1-4459-82f5-1f4c1acde215",
   "metadata": {},
   "outputs": [
    {
     "name": "stdout",
     "output_type": "stream",
     "text": [
      "-73.84720052054902 40.89470517661 -73.84720052054902 40.89470517661\n"
     ]
    }
   ],
   "source": [
    "hood_prop_bbox = hood_prop['bbox']\n",
    "print(hood_prop_bbox[0],hood_prop_bbox[1],hood_prop_bbox[2],hood_prop_bbox[3])"
   ]
  },
  {
   "cell_type": "code",
   "execution_count": 13,
   "id": "25ec9c57-c980-4948-bc28-ac0128001391",
   "metadata": {},
   "outputs": [
    {
     "name": "stdout",
     "output_type": "stream",
     "text": [
      "-73.847201 40.894705\n"
     ]
    }
   ],
   "source": [
    "hood_geo = gj['features'][0]['geometry']\n",
    "print(hood_geo['coordinates'][0], hood_geo['coordinates'][1])"
   ]
  },
  {
   "cell_type": "code",
   "execution_count": 14,
   "id": "943509bd-6c3e-4479-91db-5b3e0fb3da59",
   "metadata": {},
   "outputs": [
    {
     "data": {
      "text/plain": [
       "['Wakefield', 'Bronx', -73.847201, 40.894705]"
      ]
     },
     "execution_count": 14,
     "metadata": {},
     "output_type": "execute_result"
    }
   ],
   "source": [
    "x = list()\n",
    "x.append(hood_prop['name'])\n",
    "x.append(hood_prop['borough'])\n",
    "x.append(hood_geo['coordinates'][0])\n",
    "x.append(hood_geo['coordinates'][1])\n",
    "#x.append(hood_prop['bbox'][0])\n",
    "#x.append(hood_prop['bbox'][1])\n",
    "#x.append(hood_prop['bbox'][2])\n",
    "#x.append(hood_prop['bbox'][3])\n",
    "x"
   ]
  },
  {
   "cell_type": "code",
   "execution_count": 15,
   "id": "36018c80-81dc-4b9a-b8d1-40b88154368e",
   "metadata": {
    "tags": []
   },
   "outputs": [
    {
     "data": {
      "text/plain": [
       "[{\"geometry\": {\"coordinates\": [-73.847201, 40.894705], \"type\": \"Point\"}, \"geometry_name\": \"geom\", \"id\": \"nyu_2451_34572.1\", \"properties\": {\"annoangle\": 0.0, \"annoline1\": \"Wakefield\", \"annoline2\": null, \"annoline3\": null, \"bbox\": [-73.84720052054902, 40.89470517661, -73.84720052054902, 40.89470517661], \"borough\": \"Bronx\", \"name\": \"Wakefield\", \"stacked\": 1}, \"type\": \"Feature\"},\n",
       " {\"geometry\": {\"coordinates\": [-73.829939, 40.874294], \"type\": \"Point\"}, \"geometry_name\": \"geom\", \"id\": \"nyu_2451_34572.2\", \"properties\": {\"annoangle\": 0.0, \"annoline1\": \"Co-op\", \"annoline2\": \"City\", \"annoline3\": null, \"bbox\": [-73.82993910812398, 40.87429419303012, -73.82993910812398, 40.87429419303012], \"borough\": \"Bronx\", \"name\": \"Co-op City\", \"stacked\": 2}, \"type\": \"Feature\"}]"
      ]
     },
     "execution_count": 15,
     "metadata": {},
     "output_type": "execute_result"
    }
   ],
   "source": [
    "features = gj['features'][:2]\n",
    "features"
   ]
  },
  {
   "cell_type": "code",
   "execution_count": 16,
   "id": "971c4168-d38d-4af2-8842-187eb67ca53b",
   "metadata": {},
   "outputs": [
    {
     "data": {
      "text/plain": [
       "'nyu_2451_34572.1'"
      ]
     },
     "execution_count": 16,
     "metadata": {},
     "output_type": "execute_result"
    }
   ],
   "source": [
    "gj['features'][0]['id']"
   ]
  },
  {
   "cell_type": "code",
   "execution_count": 17,
   "id": "fc3db822-ae45-4bb9-981d-6495fb167a19",
   "metadata": {
    "tags": []
   },
   "outputs": [],
   "source": [
    "features = gj['features']\n",
    "nHoods = list()\n",
    "for idx in range(len(features)):\n",
    "    hood = list()\n",
    "    #print(feature, features[feature]['properties']['name'])\n",
    "    hood.append(features[idx]['id'])\n",
    "    hood.append(features[idx]['properties']['name'])\n",
    "    hood.append(features[idx]['properties']['borough'])\n",
    "    hood.append(features[idx]['geometry']['type'])\n",
    "    hood.append(features[idx]['geometry']['coordinates'][0])\n",
    "    hood.append(features[idx]['geometry']['coordinates'][1])\n",
    "    #hood.append(features[feature]['properties']['bbox'][0])\n",
    "    #hood.append(features[feature]['properties']['bbox'][1])\n",
    "    #hood.append(features[feature]['properties']['bbox'][2])\n",
    "    #hood.append(features[feature]['properties']['bbox'][3])\n",
    "    nHoods.append(hood)"
   ]
  },
  {
   "cell_type": "code",
   "execution_count": 18,
   "id": "99376209-0772-469e-be2e-6832e5cae933",
   "metadata": {},
   "outputs": [
    {
     "data": {
      "text/plain": [
       "306"
      ]
     },
     "execution_count": 18,
     "metadata": {},
     "output_type": "execute_result"
    }
   ],
   "source": [
    "len(nHoods)"
   ]
  },
  {
   "cell_type": "code",
   "execution_count": 19,
   "id": "08c9c5cf-dab2-4c55-b76f-8f0186b4db10",
   "metadata": {},
   "outputs": [],
   "source": [
    "#col = ['id', 'neighborhood', 'borough', 'type', 'long', 'lat', 'long_2', 'lat_2', 'long_3', 'lat_3'] \n",
    "col = ['id', 'neighborhood', 'borough', 'type', 'long', 'lat']\n",
    "nyc = pd.DataFrame(data=nHoods, columns=col, copy=True)"
   ]
  },
  {
   "cell_type": "code",
   "execution_count": 20,
   "id": "4e8c540f-b8af-4f13-8835-e6f3ca56c327",
   "metadata": {},
   "outputs": [
    {
     "data": {
      "text/html": [
       "<div>\n",
       "<style scoped>\n",
       "    .dataframe tbody tr th:only-of-type {\n",
       "        vertical-align: middle;\n",
       "    }\n",
       "\n",
       "    .dataframe tbody tr th {\n",
       "        vertical-align: top;\n",
       "    }\n",
       "\n",
       "    .dataframe thead th {\n",
       "        text-align: right;\n",
       "    }\n",
       "</style>\n",
       "<table border=\"1\" class=\"dataframe\">\n",
       "  <thead>\n",
       "    <tr style=\"text-align: right;\">\n",
       "      <th></th>\n",
       "      <th>id</th>\n",
       "      <th>neighborhood</th>\n",
       "      <th>borough</th>\n",
       "      <th>type</th>\n",
       "      <th>long</th>\n",
       "      <th>lat</th>\n",
       "    </tr>\n",
       "  </thead>\n",
       "  <tbody>\n",
       "    <tr>\n",
       "      <th>0</th>\n",
       "      <td>nyu_2451_34572.1</td>\n",
       "      <td>Wakefield</td>\n",
       "      <td>Bronx</td>\n",
       "      <td>Point</td>\n",
       "      <td>-73.847201</td>\n",
       "      <td>40.894705</td>\n",
       "    </tr>\n",
       "    <tr>\n",
       "      <th>1</th>\n",
       "      <td>nyu_2451_34572.2</td>\n",
       "      <td>Co-op City</td>\n",
       "      <td>Bronx</td>\n",
       "      <td>Point</td>\n",
       "      <td>-73.829939</td>\n",
       "      <td>40.874294</td>\n",
       "    </tr>\n",
       "    <tr>\n",
       "      <th>2</th>\n",
       "      <td>nyu_2451_34572.3</td>\n",
       "      <td>Eastchester</td>\n",
       "      <td>Bronx</td>\n",
       "      <td>Point</td>\n",
       "      <td>-73.827806</td>\n",
       "      <td>40.887556</td>\n",
       "    </tr>\n",
       "    <tr>\n",
       "      <th>3</th>\n",
       "      <td>nyu_2451_34572.4</td>\n",
       "      <td>Fieldston</td>\n",
       "      <td>Bronx</td>\n",
       "      <td>Point</td>\n",
       "      <td>-73.905643</td>\n",
       "      <td>40.895437</td>\n",
       "    </tr>\n",
       "    <tr>\n",
       "      <th>4</th>\n",
       "      <td>nyu_2451_34572.5</td>\n",
       "      <td>Riverdale</td>\n",
       "      <td>Bronx</td>\n",
       "      <td>Point</td>\n",
       "      <td>-73.912585</td>\n",
       "      <td>40.890834</td>\n",
       "    </tr>\n",
       "    <tr>\n",
       "      <th>...</th>\n",
       "      <td>...</td>\n",
       "      <td>...</td>\n",
       "      <td>...</td>\n",
       "      <td>...</td>\n",
       "      <td>...</td>\n",
       "      <td>...</td>\n",
       "    </tr>\n",
       "    <tr>\n",
       "      <th>301</th>\n",
       "      <td>nyu_2451_34572.302</td>\n",
       "      <td>Hudson Yards</td>\n",
       "      <td>Manhattan</td>\n",
       "      <td>Point</td>\n",
       "      <td>-74.000111</td>\n",
       "      <td>40.756658</td>\n",
       "    </tr>\n",
       "    <tr>\n",
       "      <th>302</th>\n",
       "      <td>nyu_2451_34572.303</td>\n",
       "      <td>Hammels</td>\n",
       "      <td>Queens</td>\n",
       "      <td>Point</td>\n",
       "      <td>-73.805530</td>\n",
       "      <td>40.587338</td>\n",
       "    </tr>\n",
       "    <tr>\n",
       "      <th>303</th>\n",
       "      <td>nyu_2451_34572.304</td>\n",
       "      <td>Bayswater</td>\n",
       "      <td>Queens</td>\n",
       "      <td>Point</td>\n",
       "      <td>-73.765968</td>\n",
       "      <td>40.611322</td>\n",
       "    </tr>\n",
       "    <tr>\n",
       "      <th>304</th>\n",
       "      <td>nyu_2451_34572.305</td>\n",
       "      <td>Queensbridge</td>\n",
       "      <td>Queens</td>\n",
       "      <td>Point</td>\n",
       "      <td>-73.945631</td>\n",
       "      <td>40.756091</td>\n",
       "    </tr>\n",
       "    <tr>\n",
       "      <th>305</th>\n",
       "      <td>nyu_2451_34572.306</td>\n",
       "      <td>Fox Hills</td>\n",
       "      <td>Staten Island</td>\n",
       "      <td>Point</td>\n",
       "      <td>-74.081740</td>\n",
       "      <td>40.617311</td>\n",
       "    </tr>\n",
       "  </tbody>\n",
       "</table>\n",
       "<p>306 rows × 6 columns</p>\n",
       "</div>"
      ],
      "text/plain": [
       "                     id  neighborhood        borough   type       long  \\\n",
       "0      nyu_2451_34572.1     Wakefield          Bronx  Point -73.847201   \n",
       "1      nyu_2451_34572.2    Co-op City          Bronx  Point -73.829939   \n",
       "2      nyu_2451_34572.3   Eastchester          Bronx  Point -73.827806   \n",
       "3      nyu_2451_34572.4     Fieldston          Bronx  Point -73.905643   \n",
       "4      nyu_2451_34572.5     Riverdale          Bronx  Point -73.912585   \n",
       "..                  ...           ...            ...    ...        ...   \n",
       "301  nyu_2451_34572.302  Hudson Yards      Manhattan  Point -74.000111   \n",
       "302  nyu_2451_34572.303       Hammels         Queens  Point -73.805530   \n",
       "303  nyu_2451_34572.304     Bayswater         Queens  Point -73.765968   \n",
       "304  nyu_2451_34572.305  Queensbridge         Queens  Point -73.945631   \n",
       "305  nyu_2451_34572.306     Fox Hills  Staten Island  Point -74.081740   \n",
       "\n",
       "           lat  \n",
       "0    40.894705  \n",
       "1    40.874294  \n",
       "2    40.887556  \n",
       "3    40.895437  \n",
       "4    40.890834  \n",
       "..         ...  \n",
       "301  40.756658  \n",
       "302  40.587338  \n",
       "303  40.611322  \n",
       "304  40.756091  \n",
       "305  40.617311  \n",
       "\n",
       "[306 rows x 6 columns]"
      ]
     },
     "execution_count": 20,
     "metadata": {},
     "output_type": "execute_result"
    }
   ],
   "source": [
    "nyc"
   ]
  },
  {
   "cell_type": "code",
   "execution_count": null,
   "id": "68f40c34-34f7-4613-a234-d28d22bcb2a2",
   "metadata": {},
   "outputs": [],
   "source": []
  },
  {
   "cell_type": "code",
   "execution_count": null,
   "id": "3bcf4b4b-a48e-4eb1-8e3f-901517adebed",
   "metadata": {},
   "outputs": [],
   "source": []
  }
 ],
 "metadata": {
  "kernelspec": {
   "display_name": "Python 3 (ipykernel)",
   "language": "python",
   "name": "python3"
  },
  "language_info": {
   "codemirror_mode": {
    "name": "ipython",
    "version": 3
   },
   "file_extension": ".py",
   "mimetype": "text/x-python",
   "name": "python",
   "nbconvert_exporter": "python",
   "pygments_lexer": "ipython3",
   "version": "3.9.7"
  }
 },
 "nbformat": 4,
 "nbformat_minor": 5
}
